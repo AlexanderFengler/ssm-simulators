{
 "cells": [
  {
   "cell_type": "code",
   "execution_count": null,
   "metadata": {},
   "outputs": [],
   "source": [
    "import sys\n",
    "import pandas as pd\n",
    "import numpy as np\n",
    "import matplotlib.pyplot as plt\n",
    "import ipywidgets\n",
    "sys.path.append('./build/lib.win-amd64-cpython-311/')\n",
    "import ssms\n",
    "print(\"ssms version\", ssms.__version__, ssms.__path__)\n",
    "from ssms.basic_simulators.drift_functions import SSP_drift, DMC_drift, DSTP_drift"
   ]
  },
  {
   "cell_type": "markdown",
   "metadata": {},
   "source": [
    "## SSP"
   ]
  },
  {
   "cell_type": "code",
   "execution_count": 2,
   "metadata": {},
   "outputs": [
    {
     "data": {
      "application/vnd.jupyter.widget-view+json": {
       "model_id": "9549c7b452f34c1b8af1b6edbe7bd360",
       "version_major": 2,
       "version_minor": 0
      },
      "text/plain": [
       "interactive(children=(FloatSlider(value=0.375, description='p', max=0.55, min=0.2), FloatSlider(value=1.8, des…"
      ]
     },
     "metadata": {},
     "output_type": "display_data"
    }
   ],
   "source": [
    "def plot_ssp(p, sda, rd):\n",
    "    t = np.arange(0, 20, 0.001)\n",
    "    plt.plot(t,SSP_drift(t=t, p=p,sda=sda,rd=rd,congruency=-1))\n",
    "\n",
    "ipywidgets.interact(plot_ssp, p=(0.2,0.55), sda=(1,2.6), rd =(0.01,0.5))\n",
    "plt.show()"
   ]
  },
  {
   "cell_type": "code",
   "execution_count": 3,
   "metadata": {},
   "outputs": [
    {
     "data": {
      "text/html": [
       "<div>\n",
       "<style scoped>\n",
       "    .dataframe tbody tr th:only-of-type {\n",
       "        vertical-align: middle;\n",
       "    }\n",
       "\n",
       "    .dataframe tbody tr th {\n",
       "        vertical-align: top;\n",
       "    }\n",
       "\n",
       "    .dataframe thead th {\n",
       "        text-align: right;\n",
       "    }\n",
       "</style>\n",
       "<table border=\"1\" class=\"dataframe\">\n",
       "  <thead>\n",
       "    <tr style=\"text-align: right;\">\n",
       "      <th></th>\n",
       "      <th>rt</th>\n",
       "      <th>response</th>\n",
       "    </tr>\n",
       "    <tr>\n",
       "      <th>congruency</th>\n",
       "      <th></th>\n",
       "      <th></th>\n",
       "    </tr>\n",
       "  </thead>\n",
       "  <tbody>\n",
       "    <tr>\n",
       "      <th>-1</th>\n",
       "      <td>0.928458</td>\n",
       "      <td>0.999</td>\n",
       "    </tr>\n",
       "    <tr>\n",
       "      <th>1</th>\n",
       "      <td>0.647891</td>\n",
       "      <td>1.000</td>\n",
       "    </tr>\n",
       "  </tbody>\n",
       "</table>\n",
       "</div>"
      ],
      "text/plain": [
       "                  rt  response\n",
       "congruency                    \n",
       "-1          0.928458     0.999\n",
       " 1          0.647891     1.000"
      ]
     },
     "execution_count": 3,
     "metadata": {},
     "output_type": "execute_result"
    }
   ],
   "source": [
    "# the parameters sets and simulated results are consist with (White et al., 2011)\n",
    "sim_out = ssms.basic_simulators.simulator.simulator(\n",
    "    model = 'full_SSP', \n",
    "    theta = {\n",
    "        'a': 0.13,\n",
    "        't': 0.3,\n",
    "        'p': 0.38, \n",
    "        'sda': 1.8,\n",
    "        'rd': 0.02,\n",
    "        'z': 0.5,\n",
    "        'sv':0,\n",
    "        'st':0,\n",
    "        'sz':0\n",
    "    },\n",
    "    n_samples = 1000,\n",
    "    diff_sigma=0.1               # see (White et al., 2011)\n",
    "    )\n",
    "sim_df = pd.DataFrame({\n",
    "  \"rt\": sim_out[\"rts\"].squeeze(),\n",
    "  \"response\": sim_out[\"choices\"].squeeze(),\n",
    "  \"congruency\": sim_out[\"congruency\"]\n",
    "})\n",
    "\n",
    "# convert response code (1,-1) to (1,0)\n",
    "sim_df[\"response\"] = sim_df[\"response\"]*0.5 + 0.5\n",
    "sim_df.groupby(\"congruency\").mean()"
   ]
  },
  {
   "cell_type": "code",
   "execution_count": 4,
   "metadata": {},
   "outputs": [
    {
     "data": {
      "text/plain": [
       "congruency\n",
       "-1    Axes(0.125,0.11;0.775x0.77)\n",
       " 1    Axes(0.125,0.11;0.775x0.77)\n",
       "Name: rt, dtype: object"
      ]
     },
     "execution_count": 4,
     "metadata": {},
     "output_type": "execute_result"
    },
    {
     "data": {
      "image/png": "[encoded data removed]",
      "text/plain": [
       "<Figure size 640x480 with 1 Axes>"
      ]
     },
     "metadata": {},
     "output_type": "display_data"
    }
   ],
   "source": [
    "sim_df.groupby(\"congruency\").rt.plot.density(alpha=0.5, legend=True)"
   ]
  },
  {
   "cell_type": "markdown",
   "metadata": {},
   "source": [
    "## DMC"
   ]
  },
  {
   "cell_type": "code",
   "execution_count": 5,
   "metadata": {},
   "outputs": [
    {
     "data": {
      "application/vnd.jupyter.widget-view+json": {
       "model_id": "058306ee0ef745988a077648aa858028",
       "version_major": 2,
       "version_minor": 0
      },
      "text/plain": [
       "interactive(children=(FloatSlider(value=2.0, description='peak', max=4.0, step=0.01), FloatSlider(value=3.25, …"
      ]
     },
     "metadata": {},
     "output_type": "display_data"
    }
   ],
   "source": [
    "def plot_dmc(peak, shape, tau):\n",
    "    t = np.arange(0, 20, 0.001)\n",
    "    plt.plot(t ,DMC_drift(t=t,vc=0.5, peak=peak, shape=shape, tau=tau))\n",
    "\n",
    "ipywidgets.interact(plot_dmc, peak=(0,4,0.01), shape=(1.5,5,0.001), tau =(0,5,0.1))\n",
    "plt.show()"
   ]
  },
  {
   "cell_type": "code",
   "execution_count": 15,
   "metadata": {},
   "outputs": [
    {
     "data": {
      "text/html": [
       "<div>\n",
       "<style scoped>\n",
       "    .dataframe tbody tr th:only-of-type {\n",
       "        vertical-align: middle;\n",
       "    }\n",
       "\n",
       "    .dataframe tbody tr th {\n",
       "        vertical-align: top;\n",
       "    }\n",
       "\n",
       "    .dataframe thead th {\n",
       "        text-align: right;\n",
       "    }\n",
       "</style>\n",
       "<table border=\"1\" class=\"dataframe\">\n",
       "  <thead>\n",
       "    <tr style=\"text-align: right;\">\n",
       "      <th></th>\n",
       "      <th>rt</th>\n",
       "      <th>response</th>\n",
       "    </tr>\n",
       "    <tr>\n",
       "      <th>congruency</th>\n",
       "      <th></th>\n",
       "      <th></th>\n",
       "    </tr>\n",
       "  </thead>\n",
       "  <tbody>\n",
       "    <tr>\n",
       "      <th>-1</th>\n",
       "      <td>0.590075</td>\n",
       "      <td>0.92</td>\n",
       "    </tr>\n",
       "    <tr>\n",
       "      <th>1</th>\n",
       "      <td>0.424580</td>\n",
       "      <td>1.00</td>\n",
       "    </tr>\n",
       "  </tbody>\n",
       "</table>\n",
       "</div>"
      ],
      "text/plain": [
       "                  rt  response\n",
       "congruency                    \n",
       "-1          0.590075      0.92\n",
       " 1          0.424580      1.00"
      ]
     },
     "execution_count": 15,
     "metadata": {},
     "output_type": "execute_result"
    }
   ],
   "source": [
    "# the parameters sets and simulated results are consist with (White et al., 2011)\n",
    "sim_out = ssms.basic_simulators.simulator.simulator(\n",
    "    model = 'full_DMC', \n",
    "    theta = {\n",
    "        'a': 0.3,\n",
    "        't': 0.3,\n",
    "        'vc': 0.3, \n",
    "        'peak': 0.5,\n",
    "        'shape': 2,\n",
    "        'tau': 0.5,\n",
    "        'z': 0.5,\n",
    "        'sv':0,\n",
    "        'st':0,\n",
    "        'sz':0\n",
    "    },\n",
    "    n_samples = 50,\n",
    "    diff_sigma = 0.1               # Note,White et al., (2011) use diff_sigma = 4, mat_t = 2000, delta_t = 1. Thus the parameters, peak is about 150, tau is about 80, a is about 150. But the output rt should be divided 1000. \n",
    "    )\n",
    "\n",
    "sim_df = pd.DataFrame({\n",
    "  \"rt\": sim_out[\"rts\"].squeeze(),\n",
    "  \"response\": sim_out[\"choices\"].squeeze(),\n",
    "  \"congruency\": sim_out[\"congruency\"]\n",
    "})\n",
    "\n",
    "# convert response code (1,-1) to (1,0)\n",
    "sim_df[\"response\"] = sim_df[\"response\"]*0.5 + 0.5\n",
    "sim_df.groupby(\"congruency\").mean()"
   ]
  },
  {
   "cell_type": "code",
   "execution_count": 17,
   "metadata": {},
   "outputs": [
    {
     "data": {
      "text/plain": [
       "congruency\n",
       "-1    Axes(0.125,0.11;0.775x0.77)\n",
       " 1    Axes(0.125,0.11;0.775x0.77)\n",
       "Name: rt, dtype: object"
      ]
     },
     "execution_count": 17,
     "metadata": {},
     "output_type": "execute_result"
    },
    {
     "data": {
      "image/png": "[encoded data removed]",
      "text/plain": [
       "<Figure size 640x480 with 1 Axes>"
      ]
     },
     "metadata": {},
     "output_type": "display_data"
    }
   ],
   "source": [
    "sim_df.groupby(\"congruency\").rt.plot.density(alpha=0.5, legend=True)"
   ]
  },
  {
   "cell_type": "markdown",
   "metadata": {},
   "source": [
    "## DSTP"
   ]
  },
  {
   "cell_type": "code",
   "execution_count": 18,
   "metadata": {},
   "outputs": [
    {
     "data": {
      "application/vnd.jupyter.widget-view+json": {
       "model_id": "cd946171e4094dc18da023038c90d0b1",
       "version_major": 2,
       "version_minor": 0
      },
      "text/plain": [
       "interactive(children=(FloatSlider(value=1.0, description='vfl', max=1.0, step=0.01), FloatSlider(value=0.5, de…"
      ]
     },
     "metadata": {},
     "output_type": "display_data"
    }
   ],
   "source": [
    "def plot_DSTP(vfl=1, vss=0.5, vp2=2, ass=1.5):\n",
    "    t = np.arange(0, 2, 0.001)\n",
    "    plt.plot(t,DSTP_drift(t=t, vta=0.3, vfl=vfl, vss=vss, vp2=vp2, ass=ass, zss = 0.5,congruency=-1))\n",
    "\n",
    "ipywidgets.interact(plot_DSTP, vfl=(0,1,0.01), vss=(0,1,0.01), vp2=(0,1,0.01), ass=(0.1,2,0.01))\n",
    "plt.show()"
   ]
  },
  {
   "cell_type": "code",
   "execution_count": 19,
   "metadata": {},
   "outputs": [
    {
     "data": {
      "text/html": [
       "<div>\n",
       "<style scoped>\n",
       "    .dataframe tbody tr th:only-of-type {\n",
       "        vertical-align: middle;\n",
       "    }\n",
       "\n",
       "    .dataframe tbody tr th {\n",
       "        vertical-align: top;\n",
       "    }\n",
       "\n",
       "    .dataframe thead th {\n",
       "        text-align: right;\n",
       "    }\n",
       "</style>\n",
       "<table border=\"1\" class=\"dataframe\">\n",
       "  <thead>\n",
       "    <tr style=\"text-align: right;\">\n",
       "      <th></th>\n",
       "      <th>rt</th>\n",
       "      <th>response</th>\n",
       "    </tr>\n",
       "    <tr>\n",
       "      <th>congruency</th>\n",
       "      <th></th>\n",
       "      <th></th>\n",
       "    </tr>\n",
       "  </thead>\n",
       "  <tbody>\n",
       "    <tr>\n",
       "      <th>-1</th>\n",
       "      <td>0.812552</td>\n",
       "      <td>1.0</td>\n",
       "    </tr>\n",
       "    <tr>\n",
       "      <th>1</th>\n",
       "      <td>0.997608</td>\n",
       "      <td>1.0</td>\n",
       "    </tr>\n",
       "  </tbody>\n",
       "</table>\n",
       "</div>"
      ],
      "text/plain": [
       "                  rt  response\n",
       "congruency                    \n",
       "-1          0.812552       1.0\n",
       " 1          0.997608       1.0"
      ]
     },
     "execution_count": 19,
     "metadata": {},
     "output_type": "execute_result"
    }
   ],
   "source": [
    "# the parameters sets and simulated results are consist with (White et al., 2011)\n",
    "sim_out = ssms.basic_simulators.simulator.simulator(\n",
    "    model = 'full_DSTP', \n",
    "    theta = {\n",
    "        'a': 0.2,\n",
    "        't': 0.3,\n",
    "        'ass': 0.3, \n",
    "        'vta': 0.1, \n",
    "        'vfl': 0.5, \n",
    "        'vss': 0.2, \n",
    "        'vp2': 0.5, \n",
    "        'zss': 0.5, \n",
    "        'z': 0.5,\n",
    "        'sv':0,\n",
    "        'st':0,\n",
    "        'sz':0\n",
    "    },\n",
    "    n_samples = 500,\n",
    "    diff_sigma = 0.1               # see (White et al., 2011)\n",
    "    )\n",
    "\n",
    "sim_df = pd.DataFrame({\n",
    "  \"rt\": sim_out[\"rts\"].squeeze(),\n",
    "  \"response\": sim_out[\"choices\"].squeeze(),\n",
    "  \"congruency\": sim_out[\"congruency\"]\n",
    "})\n",
    "\n",
    "# convert response code (1,-1) to (1,0)\n",
    "sim_df[\"response\"] = sim_df[\"response\"]*0.5 + 0.5\n",
    "sim_df.groupby(\"congruency\").mean()"
   ]
  },
  {
   "cell_type": "code",
   "execution_count": 20,
   "metadata": {},
   "outputs": [
    {
     "data": {
      "text/plain": [
       "congruency\n",
       "-1    Axes(0.125,0.11;0.775x0.77)\n",
       " 1    Axes(0.125,0.11;0.775x0.77)\n",
       "Name: rt, dtype: object"
      ]
     },
     "execution_count": 20,
     "metadata": {},
     "output_type": "execute_result"
    },
    {
     "data": {
      "image/png": "[encoded data removed]",
      "text/plain": [
       "<Figure size 640x480 with 1 Axes>"
      ]
     },
     "metadata": {},
     "output_type": "display_data"
    }
   ],
   "source": [
    "sim_df.groupby(\"congruency\").rt.plot.density(alpha=0.5, legend=True)"
   ]
  }
 ],
 "metadata": {
  "kernelspec": {
   "display_name": "pymc5_3.11",
   "language": "python",
   "name": "python3"
  },
  "language_info": {
   "codemirror_mode": {
    "name": "ipython",
    "version": 3
   },
   "file_extension": ".py",
   "mimetype": "text/x-python",
   "name": "python",
   "nbconvert_exporter": "python",
   "pygments_lexer": "ipython3",
   "version": "3.11.5"
  },
  "orig_nbformat": 4
 },
 "nbformat": 4,
 "nbformat_minor": 2
}
