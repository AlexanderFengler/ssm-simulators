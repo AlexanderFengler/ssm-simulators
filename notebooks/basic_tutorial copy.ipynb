{
 "cells": [
  {
   "cell_type": "markdown",
   "metadata": {},
   "source": [
    "### Quick Start"
   ]
  },
  {
   "cell_type": "markdown",
   "metadata": {},
   "source": [
    "The `ssms` package serves two purposes. \n",
    "\n",
    "1. Easy access to *fast simulators of sequential sampling models*\n",
    "   \n",
    "2. Support infrastructure to construct training data for various approaches to likelihood / posterior amortization\n",
    "\n",
    "We provide two minimal examples here to illustrate how to use each of the two capabilities.\n"
   ]
  },
  {
   "cell_type": "markdown",
   "metadata": {},
   "source": [
    "#### Install \n",
    "\n",
    "Let's start with *installing* the `ssms` package.\n",
    "\n",
    "You can do so by typing,\n",
    "\n",
    "`pip install git+https://github.com/AlexanderFengler/ssm_simulators`\n",
    "\n",
    "in your terminal.\n",
    "\n",
    "Below you find a basic tutorial on how to use the package."
   ]
  },
  {
   "cell_type": "markdown",
   "metadata": {},
   "source": [
    "#### Tutorial"
   ]
  },
  {
   "cell_type": "code",
   "execution_count": 1,
   "metadata": {},
   "outputs": [],
   "source": [
    "# Import necessary packages\n",
    "import numpy as np\n",
    "import pandas as pd\n",
    "import ssms"
   ]
  },
  {
   "cell_type": "markdown",
   "metadata": {},
   "source": [
    "#### Using the Simulators\n",
    "\n",
    "Let's start with using the basic simulators. \n",
    "You access the main simulators through the  `ssms.basic_simulators.simulator` function.\n",
    "\n",
    "To get an idea about the models included in `ssms`, use the `config` module.\n",
    "The central dictionary with metadata about included models sits in `ssms.config.model_config`. "
   ]
  },
  {
   "cell_type": "code",
   "execution_count": 2,
   "metadata": {},
   "outputs": [
    {
     "data": {
      "text/plain": [
       "['ddm',\n",
       " 'ddm_legacy',\n",
       " 'ddm_deadline',\n",
       " 'angle',\n",
       " 'weibull',\n",
       " 'levy',\n",
       " 'levy_angle',\n",
       " 'full_ddm',\n",
       " 'gamma_drift',\n",
       " 'gamma_drift_angle',\n",
       " 'ds_conflict_drift',\n",
       " 'ds_conflict_drift_angle',\n",
       " 'ornstein',\n",
       " 'ornstein_angle',\n",
       " 'ddm_sdv',\n",
       " 'race_2',\n",
       " 'race_no_bias_2',\n",
       " 'race_no_z_2',\n",
       " 'race_no_bias_angle_2',\n",
       " 'race_no_z_angle_2',\n",
       " 'race_3',\n",
       " 'race_no_bias_3',\n",
       " 'race_no_z_3',\n",
       " 'race_no_bias_angle_3',\n",
       " 'race_no_z_angle_3',\n",
       " 'race_4',\n",
       " 'race_no_bias_4',\n",
       " 'race_no_z_4',\n",
       " 'race_no_bias_angle_4',\n",
       " 'race_no_z_angle_4',\n",
       " 'lca_3',\n",
       " 'lca_no_bias_3',\n",
       " 'lca_no_z_3',\n",
       " 'lca_no_bias_angle_3',\n",
       " 'lca_no_z_angle_3',\n",
       " 'lca_4',\n",
       " 'lca_no_bias_4',\n",
       " 'lca_no_z_4',\n",
       " 'lca_no_bias_angle_4',\n",
       " 'lca_no_z_angle_4',\n",
       " 'ddm_par2',\n",
       " 'ddm_par2_no_bias',\n",
       " 'ddm_par2_conflict_gamma_no_bias',\n",
       " 'ddm_par2_angle_no_bias',\n",
       " 'ddm_par2_weibull_no_bias',\n",
       " 'ddm_seq2',\n",
       " 'ddm_seq2_no_bias',\n",
       " 'ddm_seq2_conflict_gamma_no_bias',\n",
       " 'ddm_seq2_angle_no_bias',\n",
       " 'ddm_seq2_weibull_no_bias',\n",
       " 'ddm_mic2_adj',\n",
       " 'ddm_mic2_adj_no_bias',\n",
       " 'ddm_mic2_adj_conflict_gamma_no_bias',\n",
       " 'ddm_mic2_adj_angle_no_bias',\n",
       " 'ddm_mic2_adj_weibull_no_bias',\n",
       " 'ddm_mic2_ornstein',\n",
       " 'ddm_mic2_ornstein_no_bias',\n",
       " 'ddm_mic2_ornstein_conflict_gamma_no_bias',\n",
       " 'ddm_mic2_ornstein_angle_no_bias',\n",
       " 'ddm_mic2_ornstein_weibull_no_bias',\n",
       " 'ddm_mic2_leak',\n",
       " 'ddm_mic2_leak_no_bias',\n",
       " 'ddm_mic2_leak_conflict_gamma_no_bias',\n",
       " 'ddm_mic2_leak_angle_no_bias',\n",
       " 'ddm_mic2_leak_weibull_no_bias',\n",
       " 'tradeoff_no_bias',\n",
       " 'tradeoff_angle_no_bias',\n",
       " 'tradeoff_weibull_no_bias',\n",
       " 'tradeoff_conflict_gamma_no_bias',\n",
       " 'glob',\n",
       " 'weibull_cdf',\n",
       " 'full_ddm2']"
      ]
     },
     "execution_count": 2,
     "metadata": {},
     "output_type": "execute_result"
    }
   ],
   "source": [
    "# Check included models\n",
    "list(ssms.config.model_config.keys())"
   ]
  },
  {
   "cell_type": "code",
   "execution_count": 3,
   "metadata": {},
   "outputs": [
    {
     "data": {
      "text/plain": [
       "{'name': 'ddm_deadline',\n",
       " 'params': ['v', 'a', 'z', 't', 'deadline'],\n",
       " 'param_bounds': [[-3.0, 0.3, 0.1, 0.0, 0.1], [3.0, 2.5, 0.9, 2.0, 5.0]],\n",
       " 'boundary': <function ssms.basic_simulators.boundary_functions.constant(t=0)>,\n",
       " 'n_params': 5,\n",
       " 'default_params': [0.0, 1.0, 0.5, 0.001, 5.0],\n",
       " 'hddm_include': ['z', 'deadline'],\n",
       " 'nchoices': 2}"
      ]
     },
     "execution_count": 3,
     "metadata": {},
     "output_type": "execute_result"
    }
   ],
   "source": [
    "ssms.config.model_config[\"ddm_deadline\"]"
   ]
  },
  {
   "cell_type": "code",
   "execution_count": 4,
   "metadata": {},
   "outputs": [
    {
     "data": {
      "text/plain": [
       "{'name': 'ddm',\n",
       " 'params': ['v', 'a', 'z', 't'],\n",
       " 'param_bounds': [[-3.0, 0.3, 0.1, 0.0], [3.0, 2.5, 0.9, 2.0]],\n",
       " 'boundary': <function ssms.basic_simulators.boundary_functions.constant(t=0)>,\n",
       " 'n_params': 4,\n",
       " 'default_params': [0.0, 1.0, 0.5, 0.001],\n",
       " 'hddm_include': ['z'],\n",
       " 'nchoices': 2}"
      ]
     },
     "execution_count": 4,
     "metadata": {},
     "output_type": "execute_result"
    }
   ],
   "source": [
    "# Take an example config for a given model\n",
    "ssms.config.model_config[\"ddm\"]"
   ]
  },
  {
   "cell_type": "markdown",
   "metadata": {},
   "source": [
    "**Note:**\n",
    "The usual structure of these models includes,\n",
    "\n",
    "- Parameter names (`'params'`)\n",
    "- Bounds on the parameters (`'param_bounds'`)\n",
    "- A function that defines a boundary for the respective model (`'boundary'`)\n",
    "- The number of parameters (`'n_params'`)\n",
    "- Defaults for the parameters (`'default_params'`)\n",
    "- The number of choices the process can produce (`'nchoices'`)\n",
    "\n",
    "The `'hddm_include'` key concerns information useful for integration with the [hddm](https://github.com/hddm-devs/hddm) python package, which facilitates hierarchical bayesian inference for sequential sampling models. It is not important for the present tutorial."
   ]
  },
  {
   "cell_type": "code",
   "execution_count": 6,
   "metadata": {},
   "outputs": [],
   "source": [
    "from ssms.basic_simulators.simulator import simulator\n",
    "\n",
    "p_choice_vec = []\n",
    "dline_tmp_vec = []\n",
    "for dline_tmp in np.linspace(0.2, 5, 20):\n",
    "    sim_out = simulator(\n",
    "        model=\"ddm_deadline\", theta=[1.0, 1.0, 0.5, 0.5, dline_tmp], n_samples=10000\n",
    "    )\n",
    "    p_choice_vec.append(np.sum(sim_out[\"choices\"] == 1.0) / sim_out[\"choices\"].shape[0])\n",
    "    dline_tmp_vec.append(dline_tmp)"
   ]
  },
  {
   "cell_type": "code",
   "execution_count": 8,
   "metadata": {},
   "outputs": [
    {
     "data": {
      "text/plain": [
       "[<matplotlib.lines.Line2D at 0x16fcd03a0>]"
      ]
     },
     "execution_count": 8,
     "metadata": {},
     "output_type": "execute_result"
    },
    {
     "data": {
      "image/png": "[encoded data removed]",
      "text/plain": [
       "<Figure size 640x480 with 1 Axes>"
      ]
     },
     "metadata": {},
     "output_type": "display_data"
    }
   ],
   "source": [
    "from matplotlib import pyplot as plt\n",
    "\n",
    "plt.plot(dline_tmp_vec, p_choice_vec)"
   ]
  },
  {
   "cell_type": "code",
   "execution_count": 9,
   "metadata": {},
   "outputs": [
    {
     "data": {
      "text/plain": [
       "(array([   2.,    0.,    2.,    2.,    4.,    4.,    2.,    5.,    7.,\n",
       "           5.,   15.,   15.,   26.,   50.,   52.,   62.,  111.,  116.,\n",
       "         195.,  221.,  234.,   45.,    0.,    0.,    0.,    0.,    0.,\n",
       "         263., 1796., 1810., 1326.,  930.,  759.,  517.,  400.,  266.,\n",
       "         205.,  154.,  104.,   74.,   60.,   40.,   24.,   29.,   17.,\n",
       "          15.,   15.,    8.,    3.,    7.]),\n",
       " array([-4.67442942, -4.4839405 , -4.29345158, -4.10296266, -3.91247374,\n",
       "        -3.72198482, -3.5314959 , -3.34100698, -3.15051805, -2.96002913,\n",
       "        -2.76954021, -2.57905129, -2.38856237, -2.19807345, -2.00758453,\n",
       "        -1.81709561, -1.62660669, -1.43611777, -1.24562885, -1.05513993,\n",
       "        -0.86465101, -0.67416209, -0.48367317, -0.29318425, -0.10269533,\n",
       "         0.08779359,  0.27828251,  0.46877143,  0.65926035,  0.84974927,\n",
       "         1.04023819,  1.23072711,  1.42121603,  1.61170495,  1.80219387,\n",
       "         1.99268279,  2.18317171,  2.37366063,  2.56414955,  2.75463847,\n",
       "         2.94512739,  3.13561631,  3.32610523,  3.51659415,  3.70708307,\n",
       "         3.89757199,  4.08806091,  4.27854983,  4.46903875,  4.65952767,\n",
       "         4.85001659]),\n",
       " <BarContainer object of 50 artists>)"
      ]
     },
     "execution_count": 9,
     "metadata": {},
     "output_type": "execute_result"
    },
    {
     "data": {
      "image/png": "[encoded data removed]",
      "text/plain": [
       "<Figure size 640x480 with 1 Axes>"
      ]
     },
     "metadata": {},
     "output_type": "display_data"
    }
   ],
   "source": [
    "from matplotlib import pyplot as plt\n",
    "\n",
    "plt.hist(\n",
    "    sim_out[\"rts\"][sim_out[\"rts\"] != -999] * sim_out[\"choices\"][sim_out[\"rts\"] != -999],\n",
    "    bins=50,\n",
    ")"
   ]
  },
  {
   "cell_type": "code",
   "execution_count": 10,
   "metadata": {},
   "outputs": [
    {
     "data": {
      "text/plain": [
       "array([[ 1.26040506,  1.        ],\n",
       "       [ 1.56888986, -1.        ],\n",
       "       [ 1.09187531, -1.        ],\n",
       "       ...,\n",
       "       [ 0.75505078, -1.        ],\n",
       "       [ 0.89852297,  1.        ],\n",
       "       [ 1.17158473, -1.        ]])"
      ]
     },
     "execution_count": 10,
     "metadata": {},
     "output_type": "execute_result"
    }
   ],
   "source": [
    "np.hstack([sim_out[\"rts\"], sim_out[\"choices\"]])"
   ]
  },
  {
   "cell_type": "markdown",
   "metadata": {},
   "source": [
    "The output of the simulator is a `dictionary` with three elements.\n",
    "\n",
    "1. `rts` (array)\n",
    "2. `choices` (array)\n",
    "3. `metadata` (dictionary)\n",
    "\n",
    "The `metadata` includes the named parameters, simulator settings, and more."
   ]
  },
  {
   "cell_type": "markdown",
   "metadata": {},
   "source": [
    "#### Using the Training Data Generators\n",
    "\n",
    "The training data generators sit on top of the simulator function to turn raw simulations into usable training data for training machine learning algorithms aimed at posterior or likelihood armortization.\n",
    "\n",
    "We will use the `data_generator` class from `ssms.dataset_generators`. Initializing the `data_generator` boils down to supplying two configuration dictionaries.\n",
    "\n",
    "1. The `generator_config`, concerns choices as to what kind of training data one wants to generate.\n",
    "2. The `model_config` concerns choices with respect to the underlying generative *sequential sampling model*. \n",
    "\n",
    "We will consider a basic example here, concerning data generation to prepare for training [LANs](https://elifesciences.org/articles/65074).\n",
    "\n",
    "Let's start by peeking at an example `generator_config`."
   ]
  },
  {
   "cell_type": "code",
   "execution_count": 12,
   "metadata": {},
   "outputs": [
    {
     "data": {
      "text/plain": [
       "{'output_folder': 'data/lan_mlp/',\n",
       " 'dgp_list': 'ddm',\n",
       " 'nbins': 0,\n",
       " 'n_samples': 100000,\n",
       " 'n_parameter_sets': 10000,\n",
       " 'n_parameter_sets_rejected': 100,\n",
       " 'n_training_samples_by_parameter_set': 1000,\n",
       " 'max_t': 20.0,\n",
       " 'delta_t': 0.001,\n",
       " 'pickleprotocol': 4,\n",
       " 'n_cpus': 'all',\n",
       " 'kde_data_mixture_probabilities': [0.8, 0.1, 0.1],\n",
       " 'simulation_filters': {'mode': 20,\n",
       "  'choice_cnt': 0,\n",
       "  'mean_rt': 17,\n",
       "  'std': 0,\n",
       "  'mode_cnt_rel': 0.95},\n",
       " 'negative_rt_cutoff': -66.77497,\n",
       " 'n_subruns': 10,\n",
       " 'bin_pointwise': False,\n",
       " 'separate_response_channels': False}"
      ]
     },
     "execution_count": 12,
     "metadata": {},
     "output_type": "execute_result"
    }
   ],
   "source": [
    "ssms.config.data_generator_config[\"lan\"]"
   ]
  },
  {
   "cell_type": "markdown",
   "metadata": {},
   "source": [
    "You usually have to make just few changes to this basic configuration dictionary.\n",
    "An example below."
   ]
  },
  {
   "cell_type": "code",
   "execution_count": 7,
   "metadata": {},
   "outputs": [],
   "source": [
    "from copy import deepcopy\n",
    "\n",
    "# Initialize the generator config (for MLP LANs)\n",
    "generator_config = deepcopy(ssms.config.data_generator_config[\"snpe\"])\n",
    "# Specify generative model (one from the list of included models mentioned above)\n",
    "generator_config[\"dgp_list\"] = \"angle\"\n",
    "# Specify number of parameter sets to simulate\n",
    "generator_config[\"n_parameter_sets\"] = 100\n",
    "# Specify how many samples a simulation run should entail\n",
    "generator_config[\"n_samples\"] = 1000"
   ]
  },
  {
   "cell_type": "markdown",
   "metadata": {},
   "source": [
    "Now let's define our corresponding `model_config`."
   ]
  },
  {
   "cell_type": "code",
   "execution_count": 8,
   "metadata": {},
   "outputs": [
    {
     "name": "stdout",
     "output_type": "stream",
     "text": [
      "{'name': 'angle', 'params': ['v', 'a', 'z', 't', 'theta'], 'param_bounds': [[-3.0, 0.3, 0.1, 0.001, -0.1], [3.0, 3.0, 0.9, 2.0, 1.3]], 'boundary': <function angle at 0x11bd60b80>, 'n_params': 5, 'default_params': [0.0, 1.0, 0.5, 0.001, 0.0], 'hddm_include': ['z', 'theta'], 'nchoices': 2}\n"
     ]
    }
   ],
   "source": [
    "model_config = ssms.config.model_config[\"angle\"]\n",
    "print(model_config)"
   ]
  },
  {
   "cell_type": "markdown",
   "metadata": {},
   "source": [
    "We are now ready to initialize a `data_generator`, after which we can generate training data using the `generate_data_training_uniform` function, which will use the hypercube defined by our parameter bounds from the `model_config` to uniformly generate parameter sets and corresponding simulated datasets."
   ]
  },
  {
   "cell_type": "code",
   "execution_count": 9,
   "metadata": {},
   "outputs": [
    {
     "name": "stdout",
     "output_type": "stream",
     "text": [
      "n_cpus used:  6\n",
      "checking:  data/snpe_training/\n"
     ]
    }
   ],
   "source": [
    "my_dataset_generator = ssms.dataset_generators.data_generator_snpe(\n",
    "    generator_config=generator_config, model_config=model_config\n",
    ")"
   ]
  },
  {
   "cell_type": "code",
   "execution_count": 10,
   "metadata": {
    "tags": []
   },
   "outputs": [
    {
     "name": "stdout",
     "output_type": "stream",
     "text": [
      "simulation round: 1  of 10\n",
      "simulation round: 2  of 10\n",
      "simulation round: 3  of 10\n",
      "simulation round: 4  of 10\n",
      "simulation round: 5  of 10\n",
      "simulation round: 6  of 10\n",
      "simulation round: 7  of 10\n",
      "simulation round: 8  of 10\n",
      "simulation round: 9  of 10\n",
      "simulation round: 10  of 10\n",
      "Writing to file:  data/snpe_training/training_data__n_1000/angle/training_data_angle_4c70e020dace11ec9074acde48001122.pickle\n"
     ]
    }
   ],
   "source": [
    "training_data = my_dataset_generator.generate_data_training_uniform(save=True)"
   ]
  },
  {
   "cell_type": "code",
   "execution_count": 8,
   "metadata": {},
   "outputs": [],
   "source": [
    "new_features = {\n",
    "    i: {\n",
    "        \"data\": training_data[0][i][\"features\"],\n",
    "        \"labels\": training_data[0][i][\"labels\"],\n",
    "    }\n",
    "    for i in range(len(training_data[0]))\n",
    "}"
   ]
  },
  {
   "cell_type": "code",
   "execution_count": 12,
   "metadata": {},
   "outputs": [
    {
     "data": {
      "text/plain": [
       "dict_keys([0, 1, 2, 3, 4, 5, 6, 7, 8, 9, 10, 11, 12, 13, 14, 15, 16, 17, 18, 19, 20, 21, 22, 23, 24, 25, 26, 27, 28, 29, 30, 31, 32, 33, 34, 35, 36, 37, 38, 39, 40, 41, 42, 43, 44, 45, 46, 47, 48, 49, 50, 51, 52, 53, 54, 55, 56, 57, 58, 59, 60, 61, 62, 63, 64, 65, 66, 67, 68, 69, 70, 71, 72, 73, 74, 75, 76, 77, 78, 79, 80, 81, 82, 83, 84, 85, 86, 87, 88, 89, 90, 91, 92, 93, 94, 95, 96, 97, 98, 99])"
      ]
     },
     "execution_count": 12,
     "metadata": {},
     "output_type": "execute_result"
    }
   ],
   "source": [
    "training_data.keys()"
   ]
  },
  {
   "cell_type": "code",
   "execution_count": null,
   "metadata": {},
   "outputs": [],
   "source": [
    "trainin"
   ]
  },
  {
   "cell_type": "code",
   "execution_count": 17,
   "metadata": {},
   "outputs": [
    {
     "data": {
      "text/plain": [
       "[{'features: ': array([[ 4.10223436,  1.        ],\n",
       "         [ 2.655339  ,  1.        ],\n",
       "         [ 3.40328479,  1.        ],\n",
       "         ...,\n",
       "         [ 2.71133494,  1.        ],\n",
       "         [ 0.60232329, -1.        ],\n",
       "         [ 1.18331599, -1.        ]]),\n",
       "  'labels': array([ 1.2677877 ,  2.0692544 ,  0.17184597,  0.36032298, -0.06370651],\n",
       "        dtype=float32),\n",
       "  'meta': {'v': array([1.2677877], dtype=float32),\n",
       "   'a': array([2.0692544], dtype=float32),\n",
       "   'z': array([0.17184597], dtype=float32),\n",
       "   't': array([0.36032298], dtype=float32),\n",
       "   's': 1.0,\n",
       "   'theta': array([-0.06370651], dtype=float32),\n",
       "   'delta_t': 0.0010000000474974513,\n",
       "   'max_t': 20.0,\n",
       "   'n_samples': 1000,\n",
       "   'simulator': 'ddm_flexbound',\n",
       "   'boundary_fun_type': 'angle',\n",
       "   'possible_choices': [-1, 1],\n",
       "   'trajectory': array([[  -1.3580683],\n",
       "          [  -1.3061538],\n",
       "          [  -1.3130792],\n",
       "          ...,\n",
       "          [-999.       ],\n",
       "          [-999.       ],\n",
       "          [-999.       ]], dtype=float32),\n",
       "   'boundary': array([2.0692544, 2.0693183, 2.069382 , ..., 3.3449836, 3.3450472,\n",
       "          3.345111 ], dtype=float32),\n",
       "   'model': 'angle'}},\n",
       " {'features: ': array([[1.02261758, 1.        ],\n",
       "         [1.04661727, 1.        ],\n",
       "         [1.06361699, 1.        ],\n",
       "         ...,\n",
       "         [0.93361747, 1.        ],\n",
       "         [1.46661186, 1.        ],\n",
       "         [1.03261745, 1.        ]]),\n",
       "  'labels': array([2.604681 , 1.3304262, 0.5099575, 0.7646173, 0.8860518],\n",
       "        dtype=float32),\n",
       "  'meta': {'v': array([2.604681], dtype=float32),\n",
       "   'a': array([1.3304262], dtype=float32),\n",
       "   'z': array([0.5099575], dtype=float32),\n",
       "   't': array([0.7646173], dtype=float32),\n",
       "   's': 1.0,\n",
       "   'theta': array([0.8860518], dtype=float32),\n",
       "   'delta_t': 0.0010000000474974513,\n",
       "   'max_t': 20.0,\n",
       "   'n_samples': 1000,\n",
       "   'simulator': 'ddm_flexbound',\n",
       "   'boundary_fun_type': 'angle',\n",
       "   'possible_choices': [-1, 1],\n",
       "   'trajectory': array([[ 2.6495418e-02],\n",
       "          [ 7.9746895e-02],\n",
       "          [ 7.4158326e-02],\n",
       "          ...,\n",
       "          [-9.9900000e+02],\n",
       "          [-9.9900000e+02],\n",
       "          [-9.9900000e+02]], dtype=float32),\n",
       "   'boundary': array([  1.3304262,   1.3292016,   1.3279768, ..., -23.160759 ,\n",
       "          -23.161983 , -23.163208 ], dtype=float32),\n",
       "   'model': 'angle'}},\n",
       " {'features: ': array([[ 0.96705407,  1.        ],\n",
       "         [ 0.935054  ,  1.        ],\n",
       "         [ 0.87205386, -1.        ],\n",
       "         ...,\n",
       "         [ 0.90805393,  1.        ],\n",
       "         [ 0.96405405,  1.        ],\n",
       "         [ 1.02105391,  1.        ]]),\n",
       "  'labels': array([1.2017035 , 0.97606236, 0.39102793, 0.7560538 , 1.2579942 ],\n",
       "        dtype=float32),\n",
       "  'meta': {'v': array([1.2017035], dtype=float32),\n",
       "   'a': array([0.97606236], dtype=float32),\n",
       "   'z': array([0.39102793], dtype=float32),\n",
       "   't': array([0.7560538], dtype=float32),\n",
       "   's': 1.0,\n",
       "   'theta': array([1.2579942], dtype=float32),\n",
       "   'delta_t': 0.0010000000474974513,\n",
       "   'max_t': 20.0,\n",
       "   'n_samples': 1000,\n",
       "   'simulator': 'ddm_flexbound',\n",
       "   'boundary_fun_type': 'angle',\n",
       "   'possible_choices': [-1, 1],\n",
       "   'trajectory': array([[-2.1272707e-01],\n",
       "          [-1.6087857e-01],\n",
       "          [-1.6787012e-01],\n",
       "          ...,\n",
       "          [-9.9900000e+02],\n",
       "          [-9.9900000e+02],\n",
       "          [-9.9900000e+02]], dtype=float32),\n",
       "   'boundary': array([  0.97606236,   0.9729704 ,   0.96987844, ..., -60.856857  ,\n",
       "          -60.859947  , -60.863037  ], dtype=float32),\n",
       "   'model': 'angle'}},\n",
       " {'features: ': array([[ 1.00975132, -1.        ],\n",
       "         [ 1.27174985, -1.        ],\n",
       "         [ 1.12875164, -1.        ],\n",
       "         ...,\n",
       "         [ 0.99275136, -1.        ],\n",
       "         [ 1.25475013, -1.        ],\n",
       "         [ 1.45274758, -1.        ]]),\n",
       "  'labels': array([-1.6534374 ,  1.5941297 ,  0.12224997,  0.8867513 ,  0.23367152],\n",
       "        dtype=float32),\n",
       "  'meta': {'v': array([-1.6534374], dtype=float32),\n",
       "   'a': array([1.5941297], dtype=float32),\n",
       "   'z': array([0.12224997], dtype=float32),\n",
       "   't': array([0.8867513], dtype=float32),\n",
       "   's': 1.0,\n",
       "   'theta': array([0.23367152], dtype=float32),\n",
       "   'delta_t': 0.0010000000474974513,\n",
       "   'max_t': 20.0,\n",
       "   'n_samples': 1000,\n",
       "   'simulator': 'ddm_flexbound',\n",
       "   'boundary_fun_type': 'angle',\n",
       "   'possible_choices': [-1, 1],\n",
       "   'trajectory': array([[  -1.2043651],\n",
       "          [  -1.1553718],\n",
       "          [  -1.1652185],\n",
       "          ...,\n",
       "          [-999.       ],\n",
       "          [-999.       ],\n",
       "          [-999.       ]], dtype=float32),\n",
       "   'boundary': array([ 1.5941297,  1.5938916,  1.5936537, ..., -3.1657853, -3.1660233,\n",
       "          -3.1662607], dtype=float32),\n",
       "   'model': 'angle'}},\n",
       " {'features: ': array([[ 1.26257348, -1.        ],\n",
       "         [ 0.6515795 ,  1.        ],\n",
       "         [ 0.95757735, -1.        ],\n",
       "         ...,\n",
       "         [ 0.97157717, -1.        ],\n",
       "         [ 0.83357894,  1.        ],\n",
       "         [ 0.77157974, -1.        ]]),\n",
       "  'labels': array([-1.4438915 ,  0.9805305 ,  0.69183505,  0.5205794 ,  0.6480955 ],\n",
       "        dtype=float32),\n",
       "  'meta': {'v': array([-1.4438915], dtype=float32),\n",
       "   'a': array([0.9805305], dtype=float32),\n",
       "   'z': array([0.69183505], dtype=float32),\n",
       "   't': array([0.5205794], dtype=float32),\n",
       "   's': 1.0,\n",
       "   'theta': array([0.6480955], dtype=float32),\n",
       "   'delta_t': 0.0010000000474974513,\n",
       "   'max_t': 20.0,\n",
       "   'n_samples': 1000,\n",
       "   'simulator': 'ddm_flexbound',\n",
       "   'boundary_fun_type': 'angle',\n",
       "   'possible_choices': [-1, 1],\n",
       "   'trajectory': array([[ 3.7620023e-01],\n",
       "          [ 4.2540312e-01],\n",
       "          [ 4.1576597e-01],\n",
       "          ...,\n",
       "          [-9.9900000e+02],\n",
       "          [-9.9900000e+02],\n",
       "          [-9.9900000e+02]], dtype=float32),\n",
       "   'boundary': array([  0.9805305 ,   0.9797733 ,   0.97901607, ..., -14.162027  ,\n",
       "          -14.162784  , -14.163541  ], dtype=float32),\n",
       "   'model': 'angle'}},\n",
       " {'features: ': array([[0.91735744, 1.        ],\n",
       "         [1.20835662, 1.        ],\n",
       "         [0.92935741, 1.        ],\n",
       "         ...,\n",
       "         [0.90235746, 1.        ],\n",
       "         [0.89735746, 1.        ],\n",
       "         [1.31435525, 1.        ]]),\n",
       "  'labels': array([1.9964801, 1.4816018, 0.8841693, 0.8633575, 1.0173286],\n",
       "        dtype=float32),\n",
       "  'meta': {'v': array([1.9964801], dtype=float32),\n",
       "   'a': array([1.4816018], dtype=float32),\n",
       "   'z': array([0.8841693], dtype=float32),\n",
       "   't': array([0.8633575], dtype=float32),\n",
       "   's': 1.0,\n",
       "   'theta': array([1.0173286], dtype=float32),\n",
       "   'delta_t': 0.0010000000474974513,\n",
       "   'max_t': 20.0,\n",
       "   'n_samples': 1000,\n",
       "   'simulator': 'ddm_flexbound',\n",
       "   'boundary_fun_type': 'angle',\n",
       "   'possible_choices': [-1, 1],\n",
       "   'trajectory': array([[   1.1383718],\n",
       "          [   1.0790156],\n",
       "          [   1.0546436],\n",
       "          ...,\n",
       "          [-999.       ],\n",
       "          [-999.       ],\n",
       "          [-999.       ]], dtype=float32),\n",
       "   'boundary': array([  1.4816018,   1.4799834,   1.478365 , ..., -30.883564 ,\n",
       "          -30.885181 , -30.886799 ], dtype=float32),\n",
       "   'model': 'angle'}},\n",
       " {'features: ': array([[ 2.23801517, -1.        ],\n",
       "         [ 1.17800593,  1.        ],\n",
       "         [ 3.20701861, -1.        ],\n",
       "         ...,\n",
       "         [ 1.28100467,  1.        ],\n",
       "         [ 2.52602863, -1.        ],\n",
       "         [ 3.33400941, -1.        ]]),\n",
       "  'labels': array([-1.3583255 ,  1.9194802 ,  0.76933956,  0.85600656,  0.14019692],\n",
       "        dtype=float32),\n",
       "  'meta': {'v': array([-1.3583255], dtype=float32),\n",
       "   'a': array([1.9194802], dtype=float32),\n",
       "   'z': array([0.76933956], dtype=float32),\n",
       "   't': array([0.85600656], dtype=float32),\n",
       "   's': 1.0,\n",
       "   'theta': array([0.14019692], dtype=float32),\n",
       "   'delta_t': 0.0010000000474974513,\n",
       "   'max_t': 20.0,\n",
       "   'n_samples': 1000,\n",
       "   'simulator': 'ddm_flexbound',\n",
       "   'boundary_fun_type': 'angle',\n",
       "   'possible_choices': [-1, 1],\n",
       "   'trajectory': array([[ 1.0339839e+00],\n",
       "          [ 1.0211202e+00],\n",
       "          [ 9.7800064e-01],\n",
       "          ...,\n",
       "          [-9.9900000e+02],\n",
       "          [-9.9900000e+02],\n",
       "          [-9.9900000e+02]], dtype=float32),\n",
       "   'boundary': array([ 1.9194802 ,  1.9193391 ,  1.9191979 , ..., -0.9026922 ,\n",
       "          -0.90283334, -0.90297425], dtype=float32),\n",
       "   'model': 'angle'}},\n",
       " {'features: ': array([[1.76377082, 1.        ],\n",
       "         [1.77377069, 1.        ],\n",
       "         [1.61377048, 1.        ],\n",
       "         ...,\n",
       "         [1.95776832, 1.        ],\n",
       "         [1.74777079, 1.        ],\n",
       "         [1.8307699 , 1.        ]]),\n",
       "  'labels': array([1.3629639, 1.579064 , 0.8027136, 1.5157704, 1.1332113],\n",
       "        dtype=float32),\n",
       "  'meta': {'v': array([1.3629639], dtype=float32),\n",
       "   'a': array([1.579064], dtype=float32),\n",
       "   'z': array([0.8027136], dtype=float32),\n",
       "   't': array([1.5157704], dtype=float32),\n",
       "   's': 1.0,\n",
       "   'theta': array([1.1332113], dtype=float32),\n",
       "   'delta_t': 0.0010000000474974513,\n",
       "   'max_t': 20.0,\n",
       "   'n_samples': 1000,\n",
       "   'simulator': 'ddm_flexbound',\n",
       "   'boundary_fun_type': 'angle',\n",
       "   'possible_choices': [-1, 1],\n",
       "   'trajectory': array([[ 9.5600820e-01],\n",
       "          [ 9.7418803e-01],\n",
       "          [ 9.7369546e-01],\n",
       "          ...,\n",
       "          [-9.9900000e+02],\n",
       "          [-9.9900000e+02],\n",
       "          [-9.9900000e+02]], dtype=float32),\n",
       "   'boundary': array([  1.579064 ,   1.5769265,   1.574789 , ..., -41.166893 ,\n",
       "          -41.16903  , -41.171165 ], dtype=float32),\n",
       "   'model': 'angle'}},\n",
       " {'features: ': array([[ 1.31482685, -1.        ],\n",
       "         [ 1.34382689, -1.        ],\n",
       "         [ 1.57382441, -1.        ],\n",
       "         ...,\n",
       "         [ 1.71682262, -1.        ],\n",
       "         [ 1.47482562, -1.        ],\n",
       "         [ 1.4528259 , -1.        ]]),\n",
       "  'labels': array([-1.5496522 ,  2.5096037 ,  0.22222184,  1.1238266 ,  0.43571863],\n",
       "        dtype=float32),\n",
       "  'meta': {'v': array([-1.5496522], dtype=float32),\n",
       "   'a': array([2.5096037], dtype=float32),\n",
       "   'z': array([0.22222184], dtype=float32),\n",
       "   't': array([1.1238266], dtype=float32),\n",
       "   's': 1.0,\n",
       "   'theta': array([0.43571863], dtype=float32),\n",
       "   'delta_t': 0.0010000000474974513,\n",
       "   'max_t': 20.0,\n",
       "   'n_samples': 1000,\n",
       "   'simulator': 'ddm_flexbound',\n",
       "   'boundary_fun_type': 'angle',\n",
       "   'possible_choices': [-1, 1],\n",
       "   'trajectory': array([[  -1.3942262],\n",
       "          [  -1.390434 ],\n",
       "          [  -1.4434246],\n",
       "          ...,\n",
       "          [-999.       ],\n",
       "          [-999.       ],\n",
       "          [-999.       ]], dtype=float32),\n",
       "   'boundary': array([ 2.5096037,  2.509138 ,  2.5086727, ..., -6.80068  , -6.8011456,\n",
       "          -6.801611 ], dtype=float32),\n",
       "   'model': 'angle'}},\n",
       " {'features: ': array([[1.96486604, 1.        ],\n",
       "         [1.91186666, 1.        ],\n",
       "         [1.88486707, 1.        ],\n",
       "         ...,\n",
       "         [1.74086714, 1.        ],\n",
       "         [1.64786708, 1.        ],\n",
       "         [1.78686726, 1.        ]]),\n",
       "  'labels': array([-0.1372501 ,  0.71668977,  0.7275491 ,  1.608867  ,  0.44358554],\n",
       "        dtype=float32),\n",
       "  'meta': {'v': array([-0.1372501], dtype=float32),\n",
       "   'a': array([0.71668977], dtype=float32),\n",
       "   'z': array([0.7275491], dtype=float32),\n",
       "   't': array([1.608867], dtype=float32),\n",
       "   's': 1.0,\n",
       "   'theta': array([0.44358554], dtype=float32),\n",
       "   'delta_t': 0.0010000000474974513,\n",
       "   'max_t': 20.0,\n",
       "   'n_samples': 1000,\n",
       "   'simulator': 'ddm_flexbound',\n",
       "   'boundary_fun_type': 'angle',\n",
       "   'possible_choices': [-1, 1],\n",
       "   'trajectory': array([[ 3.2616419e-01],\n",
       "          [ 3.5521433e-01],\n",
       "          [ 3.6585027e-01],\n",
       "          ...,\n",
       "          [-9.9900000e+02],\n",
       "          [-9.9900000e+02],\n",
       "          [-9.9900000e+02]], dtype=float32),\n",
       "   'boundary': array([ 0.71668977,  0.7162146 ,  0.7157394 , ..., -8.785724  ,\n",
       "          -8.786199  , -8.786674  ], dtype=float32),\n",
       "   'model': 'angle'}}]"
      ]
     },
     "execution_count": 17,
     "metadata": {},
     "output_type": "execute_result"
    }
   ],
   "source": [
    "training_data[0]"
   ]
  },
  {
   "cell_type": "code",
   "execution_count": null,
   "metadata": {},
   "outputs": [],
   "source": []
  },
  {
   "cell_type": "code",
   "execution_count": 20,
   "metadata": {},
   "outputs": [],
   "source": [
    "max_n_trials = 3000\n",
    "mydict = {\n",
    "    0: {\"features\": np.zeros((max_n_trials, 2)), \"labels\": np.ones(4)},\n",
    "    1: {\"features\": np.zeros((max_n_trials, 2)), \"labels\": np.ones(4)},\n",
    "}\n",
    "\n",
    "\n",
    "n_trials = int(np.random.uniform(low=500, high=3000))\n",
    "n_batch = 2\n",
    "\n",
    "# Inside the dataloader\n",
    "my_batch = np.zeros((n_batch, n_trials, 2))\n",
    "\n",
    "for i in range(n_batch):\n",
    "    my_batch[i, :, :] = mydict[i][\"features\"][\n",
    "        np.random.choice(max_n_trials, n_trials, replace=False), :\n",
    "    ]"
   ]
  },
  {
   "cell_type": "code",
   "execution_count": 21,
   "metadata": {},
   "outputs": [
    {
     "data": {
      "text/plain": [
       "(2, 1488, 2)"
      ]
     },
     "execution_count": 21,
     "metadata": {},
     "output_type": "execute_result"
    }
   ],
   "source": [
    "my_batch.shape"
   ]
  },
  {
   "cell_type": "code",
   "execution_count": 14,
   "metadata": {},
   "outputs": [
    {
     "data": {
      "text/plain": [
       "array([4, 5])"
      ]
     },
     "execution_count": 14,
     "metadata": {},
     "output_type": "execute_result"
    }
   ],
   "source": [
    "np.random.choice(10, 2, replace=False)"
   ]
  },
  {
   "cell_type": "markdown",
   "metadata": {},
   "source": [
    "`training_data` is a dictionary containing four keys:\n",
    "\n",
    "1. `data` the features for [LANs](https://elifesciences.org/articles/65074), containing vectors of *model parameters*, as well as *rts* and *choices*.\n",
    "2. `labels` which contain approximate likelihood values\n",
    "3. `generator_config`, as defined above\n",
    "4. `model_config`, as defined above"
   ]
  },
  {
   "cell_type": "markdown",
   "metadata": {},
   "source": [
    "You can now use this training data for your purposes. If you want to train [LANs](https://elifesciences.org/articles/65074) yourself, you might find the [LANfactory](https://github.com/AlexanderFengler/LANfactory) package helpful.\n",
    "\n",
    "You may also simply find the basic simulators provided with the **ssms** package useful, without any desire to use the outputs into training data for amortization purposes.\n",
    "\n",
    "##### END"
   ]
  }
 ],
 "metadata": {
  "interpreter": {
   "hash": "c2404e761a8d4e2a34f63613cf4c9a9997cd3109cabb959a7904b2035989131a"
  },
  "kernelspec": {
   "display_name": "ssms_dev",
   "language": "python",
   "name": "ssms_dev"
  },
  "language_info": {
   "codemirror_mode": {
    "name": "ipython",
    "version": 3
   },
   "file_extension": ".py",
   "mimetype": "text/x-python",
   "name": "python",
   "nbconvert_exporter": "python",
   "pygments_lexer": "ipython3",
   "version": "3.10.12"
  },
  "orig_nbformat": 2
 },
 "nbformat": 4,
 "nbformat_minor": 2
}
