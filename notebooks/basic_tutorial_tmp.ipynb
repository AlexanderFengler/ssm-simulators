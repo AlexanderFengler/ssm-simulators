{
 "cells": [
  {
   "cell_type": "markdown",
   "metadata": {},
   "source": [
    "### Quick Start"
   ]
  },
  {
   "cell_type": "markdown",
   "metadata": {},
   "source": [
    "The `ssms` package serves two purposes. \n",
    "\n",
    "1. Easy access to *fast simulators of sequential sampling models*\n",
    "   \n",
    "2. Support infrastructure to construct training data for various approaches to likelihood / posterior amortization\n",
    "\n",
    "We provide two minimal examples here to illustrate how to use each of the two capabilities.\n",
    "\n",
    "Let's start with *installing* the `ssms` package.\n",
    "\n",
    "You can do so by typing,\n",
    "\n",
    "`pip install git+https://github.com/AlexanderFengler/ssm_simulators`\n",
    "\n",
    "in your terminal.\n"
   ]
  },
  {
   "cell_type": "code",
   "execution_count": 1,
   "metadata": {},
   "outputs": [],
   "source": [
    "# Import necessary packages\n",
    "import numpy as np\n",
    "import pandas as pd\n",
    "import ssms"
   ]
  },
  {
   "cell_type": "markdown",
   "metadata": {},
   "source": [
    "#### Using the Simulators\n",
    "\n",
    "Let's start with using the basic simulators. \n",
    "You access the main simulators through the  `ssms.basic_simulators.simulator` function.\n",
    "\n",
    "To get an idea about the models included in `ssms`, use the `config` module.\n",
    "The central dictionary with metadata about included models sits in `ssms.config.model_config`. "
   ]
  },
  {
   "cell_type": "code",
   "execution_count": 2,
   "metadata": {},
   "outputs": [
    {
     "data": {
      "text/plain": [
       "['ddm',\n",
       " 'ddm_legacy',\n",
       " 'angle',\n",
       " 'weibull',\n",
       " 'levy',\n",
       " 'levy_angle',\n",
       " 'full_ddm',\n",
       " 'gamma_drift',\n",
       " 'gamma_drift_angle',\n",
       " 'ds_conflict_drift',\n",
       " 'ds_conflict_drift_angle',\n",
       " 'ornstein']"
      ]
     },
     "execution_count": 2,
     "metadata": {},
     "output_type": "execute_result"
    }
   ],
   "source": [
    "# Check included models\n",
    "list(ssms.config.model_config.keys())[:12]"
   ]
  },
  {
   "cell_type": "code",
   "execution_count": 3,
   "metadata": {},
   "outputs": [
    {
     "data": {
      "text/plain": [
       "{'name': 'ds_conflict_drift',\n",
       " 'params': ['a',\n",
       "  'z',\n",
       "  't',\n",
       "  'tinit',\n",
       "  'dinit',\n",
       "  'tslope',\n",
       "  'dslope',\n",
       "  'tfixedp',\n",
       "  'tcoh',\n",
       "  'dcoh'],\n",
       " 'param_bounds': [[0.3, 0.1, 0.001, 0, 0, 0.01, 0.01, 0, -1.0, -1.0],\n",
       "  [3.0, 0.9, 2.0, 5.0, 5.0, 5.0, 5.0, 5.0, 1.0, 1.0]],\n",
       " 'boundary': <function ssms.basic_simulators.boundary_functions.constant(t=0)>,\n",
       " 'drift_fun': <function ssms.basic_simulators.drift_functions.ds_conflict_drift(t=array([0.000e+00, 1.000e-03, 2.000e-03, ..., 9.997e+00, 9.998e+00,\n",
       "       9.999e+00]), init_p_t=0, init_p_d=0, slope_t=1, slope_d=1, fixed_p_t=1, coherence_t=1.5, coherence_d=1.5)>,\n",
       " 'n_params': 10,\n",
       " 'default_params': [2.0, 0.5, 1.0, 2.0, 2.0, 2.0, 2.0, 3.0, 0.5, -0.5],\n",
       " 'hddm_include': ['a',\n",
       "  'z',\n",
       "  't',\n",
       "  'tinit',\n",
       "  'dinit',\n",
       "  'tslope',\n",
       "  'dslope',\n",
       "  'tfixedp',\n",
       "  'tcoh',\n",
       "  'dcoh'],\n",
       " 'nchoices': 2}"
      ]
     },
     "execution_count": 3,
     "metadata": {},
     "output_type": "execute_result"
    }
   ],
   "source": [
    "# Take an example config for a given model\n",
    "ssms.config.model_config['ds_conflict_drift']"
   ]
  },
  {
   "cell_type": "markdown",
   "metadata": {},
   "source": [
    "**Note:**\n",
    "The usual structure of these models includes,\n",
    "\n",
    "- Parameter names (`'params'`)\n",
    "- Bounds on the parameters (`'param_bounds'`)\n",
    "- A function that defines a boundary for the respective model (`'boundary'`)\n",
    "- The number of parameters (`'n_params'`)\n",
    "- Defaults for the parameters (`'default_params'`)\n",
    "- The number of choices the process can produce (`'nchoices'`)\n",
    "\n",
    "The `'hddm_include'` key concerns information useful for integration with the [hddm](https://github.com/hddm-devs/hddm) python package, which facilitates hierarchical bayesian inference for sequential sampling models. It is not important for the present tutorial."
   ]
  },
  {
   "cell_type": "code",
   "execution_count": 55,
   "metadata": {},
   "outputs": [],
   "source": [
    "from ssms.basic_simulators import simulator\n",
    "\n",
    "theta = ssms.config.model_config['ds_conflict_drift']['default_params'] \n",
    "theta[ssms.config.model_config['ds_conflict_drift']['params'].index('tfixedp')] = 5\n",
    "theta[ssms.config.model_config['ds_conflict_drift']['params'].index('a')] = 1.5\n",
    "theta[ssms.config.model_config['ds_conflict_drift']['params'].index('tinit')] = 5\n",
    "theta[ssms.config.model_config['ds_conflict_drift']['params'].index('dinit')] = 0\n",
    "theta[ssms.config.model_config['ds_conflict_drift']['params'].index('tcoh')] = 1\n",
    "theta[ssms.config.model_config['ds_conflict_drift']['params'].index('dcoh')] = 0\n",
    "theta[ssms.config.model_config['ds_conflict_drift']['params'].index('t')] = 0\n",
    "sim_out = simulator(model = 'ds_conflict_drift', \n",
    "                    theta = theta,\n",
    "                    n_samples = 1000)"
   ]
  },
  {
   "cell_type": "code",
   "execution_count": 56,
   "metadata": {},
   "outputs": [],
   "source": [
    "from ssms.basic_simulators import simulator\n",
    "\n",
    "theta = ssms.config.model_config['ddm']['default_params'] \n",
    "theta[ssms.config.model_config['ddm']['params'].index('v')] = 5\n",
    "theta[ssms.config.model_config['ddm']['params'].index('a')] = 1.5\n",
    "theta[ssms.config.model_config['ddm']['params'].index('t')] = 0\n",
    "sim_out_base = simulator(model = 'ddm', \n",
    "                    theta = theta,\n",
    "                    n_samples = 1000)"
   ]
  },
  {
   "cell_type": "code",
   "execution_count": 57,
   "metadata": {},
   "outputs": [
    {
     "data": {
      "text/plain": [
       "['a',\n",
       " 'z',\n",
       " 't',\n",
       " 'tinit',\n",
       " 'dinit',\n",
       " 'tslope',\n",
       " 'dslope',\n",
       " 'tfixedp',\n",
       " 'tcoh',\n",
       " 'dcoh']"
      ]
     },
     "execution_count": 57,
     "metadata": {},
     "output_type": "execute_result"
    }
   ],
   "source": [
    "ssms.config.model_config['ds_conflict_drift']['params']"
   ]
  },
  {
   "cell_type": "code",
   "execution_count": 58,
   "metadata": {},
   "outputs": [
    {
     "data": {
      "text/plain": [
       "[<matplotlib.lines.Line2D at 0x13aab21f0>]"
      ]
     },
     "execution_count": 58,
     "metadata": {},
     "output_type": "execute_result"
    },
    {
     "data": {
      "image/png": "[encoded data removed]",
      "text/plain": [
       "<Figure size 432x288 with 1 Axes>"
      ]
     },
     "metadata": {
      "needs_background": "light"
     },
     "output_type": "display_data"
    }
   ],
   "source": [
    "# Plotting\n",
    "import matplotlib.pyplot as plt\n",
    "import matplotlib\n",
    "#import seaborn as sns\n",
    "plt.plot(sim_out['metadata']['drift'])"
   ]
  },
  {
   "cell_type": "code",
   "execution_count": 59,
   "metadata": {},
   "outputs": [
    {
     "data": {
      "text/plain": [
       "(-3.0, 3.0)"
      ]
     },
     "execution_count": 59,
     "metadata": {},
     "output_type": "execute_result"
    },
    {
     "data": {
      "image/png": "[encoded data removed]",
      "text/plain": [
       "<Figure size 432x288 with 1 Axes>"
      ]
     },
     "metadata": {
      "needs_background": "light"
     },
     "output_type": "display_data"
    }
   ],
   "source": [
    "plt.hist(sim_out['rts'] * sim_out['choices'], bins = 30, histtype = 'step')\n",
    "plt.hist(sim_out_base['rts'] * sim_out_base['choices'], bins = 30, histtype = 'step')\n",
    "\n",
    "plt.xlim((-3, 3))"
   ]
  },
  {
   "cell_type": "markdown",
   "metadata": {},
   "source": [
    "The output of the simulator is a `dictionary` with three elements.\n",
    "\n",
    "1. `rts` (array)\n",
    "2. `choices` (array)\n",
    "3. `metadata` (dictionary)\n",
    "\n",
    "The `metadata` includes the named parameters, simulator settings, and more."
   ]
  },
  {
   "cell_type": "markdown",
   "metadata": {},
   "source": [
    "#### "
   ]
  },
  {
   "cell_type": "code",
   "execution_count": 60,
   "metadata": {},
   "outputs": [],
   "source": [
    "# TEST STANDARD TRAINING DATA GENERATOR\n",
    "# my_data_config = config.data_generator_config['lan']['cnn']\n",
    "my_data_config = ssms.config.data_generator_config['lan']['mlp']\n",
    "my_data_config['dgp_list'] = 'tradeoff_no_bias'\n",
    "my_data_config['n_parameter_sets'] = 100\n",
    "my_data_config['n_samples'] = 1000"
   ]
  },
  {
   "cell_type": "code",
   "execution_count": 62,
   "metadata": {},
   "outputs": [],
   "source": [
    "my_model_config = ssms.config.model_config['tradeoff_no_bias']"
   ]
  },
  {
   "cell_type": "code",
   "execution_count": 63,
   "metadata": {},
   "outputs": [
    {
     "name": "stdout",
     "output_type": "stream",
     "text": [
      "n_cpus used:  6\n",
      "checking:  data/lan_mlp/\n"
     ]
    }
   ],
   "source": [
    "my_dataset_generator = ssms.dataset_generators.data_generator(generator_config = my_data_config,\n",
    "                                                              model_config = my_model_config)"
   ]
  },
  {
   "cell_type": "code",
   "execution_count": 64,
   "metadata": {
    "tags": []
   },
   "outputs": [
    {
     "name": "stdout",
     "output_type": "stream",
     "text": [
      "simulation round: 1  of 10\n",
      "simulation round: 2  of 10\n",
      "simulation round: 3  of 10\n",
      "simulation round: 4  of 10\n",
      "simulation round: 5  of 10\n",
      "simulation round: 6  of 10\n",
      "simulation round: 7  of 10\n",
      "simulation round: 8  of 10\n",
      "simulation round: 9  of 10\n",
      "simulation round: 10  of 10\n"
     ]
    }
   ],
   "source": [
    "x = my_dataset_generator.generate_data_training_uniform(save = False)"
   ]
  },
  {
   "cell_type": "code",
   "execution_count": 65,
   "metadata": {},
   "outputs": [
    {
     "data": {
      "text/plain": [
       "{'data': array([[-0.38610438, -1.3320698 ,  1.8300703 , ...,  0.407555  ,\n",
       "          2.104763  ,  0.        ],\n",
       "        [-0.38610438, -1.3320698 ,  1.8300703 , ...,  0.407555  ,\n",
       "          2.69727   ,  0.        ],\n",
       "        [-0.38610438, -1.3320698 ,  1.8300703 , ...,  0.407555  ,\n",
       "          1.2684623 ,  0.        ],\n",
       "        ...,\n",
       "        [-0.39633387,  0.18759471, -1.0542347 , ...,  0.20308132,\n",
       "         -0.32188985,  0.        ],\n",
       "        [-0.39633387,  0.18759471, -1.0542347 , ...,  0.20308132,\n",
       "         -0.06727885,  3.        ],\n",
       "        [-0.39633387,  0.18759471, -1.0542347 , ...,  0.20308132,\n",
       "         -0.74756646,  3.        ]], dtype=float32),\n",
       " 'labels': array([ -1.5323812 ,  -2.2718892 ,  -0.79332405, ..., -66.77497   ,\n",
       "        -66.77497   , -66.77497   ], dtype=float32),\n",
       " 'generator_config': {'output_folder': 'data/lan_mlp/',\n",
       "  'dgp_list': 'tradeoff_no_bias',\n",
       "  'nbins': 0,\n",
       "  'n_samples': 1000,\n",
       "  'n_parameter_sets': 100,\n",
       "  'n_parameter_sets_rejected': 100,\n",
       "  'n_training_samples_by_parameter_set': 1000,\n",
       "  'max_t': 20.0,\n",
       "  'delta_t': 0.001,\n",
       "  'pickleprotocol': 4,\n",
       "  'n_cpus': 6,\n",
       "  'kde_data_mixture_probabilities': [0.8, 0.1, 0.1],\n",
       "  'simulation_filters': {'mode': 20,\n",
       "   'choice_cnt': 0,\n",
       "   'mean_rt': 17,\n",
       "   'std': 0,\n",
       "   'mode_cnt_rel': 0.9},\n",
       "  'negative_rt_cutoff': -66.77497,\n",
       "  'n_subruns': 10,\n",
       "  'bin_pointwise': False,\n",
       "  'separate_response_channels': False},\n",
       " 'model_config': {'name': 'tradeoff_no_bias',\n",
       "  'params': ['vh', 'vl1', 'vl2', 'a', 'd', 't'],\n",
       "  'param_bounds': [[-4.0, -4.0, -4.0, 0.3, 0.0, 0.0],\n",
       "   [4.0, 4.0, 4.0, 2.5, 1.0, 2.0]],\n",
       "  'boundary': <function ssms.basic_simulators.boundary_functions.constant(t=0)>,\n",
       "  'n_params': 6,\n",
       "  'default_params': [0.0, 0.0, 0.0, 1.0, 0.5, 1.0],\n",
       "  'hddm_include': ['vh', 'vl1', 'vl2', 'a', 'd', 't'],\n",
       "  'nchoices': 4}}"
      ]
     },
     "execution_count": 65,
     "metadata": {},
     "output_type": "execute_result"
    }
   ],
   "source": [
    "x"
   ]
  },
  {
   "cell_type": "code",
   "execution_count": 3,
   "metadata": {},
   "outputs": [],
   "source": [
    "# TEST NESTED MODEL TRAINING DATA\n",
    "# my_data_config = config.data_generator_config['lan']['cnn']\n",
    "my_data_config = ssms.config.data_generator_config['lan']['mlp']\n",
    "my_data_config['dgp_list'] = 'glob'\n",
    "my_data_config['n_parameter_sets'] = 100\n",
    "my_data_config['n_samples'] = 1000"
   ]
  },
  {
   "cell_type": "code",
   "execution_count": 4,
   "metadata": {},
   "outputs": [],
   "source": [
    "my_model_config = ssms.config.model_config['glob']"
   ]
  },
  {
   "cell_type": "code",
   "execution_count": 5,
   "metadata": {},
   "outputs": [
    {
     "name": "stdout",
     "output_type": "stream",
     "text": [
      "n_cpus:  6\n",
      "checking:  data/lan_mlp/\n"
     ]
    }
   ],
   "source": [
    "my_dataset_generator = ssms.dataset_generators.data_generator(generator_config = my_data_config,\n",
    "                                                              model_config = my_model_config)"
   ]
  },
  {
   "cell_type": "code",
   "execution_count": 6,
   "metadata": {
    "tags": []
   },
   "outputs": [
    {
     "name": "stdout",
     "output_type": "stream",
     "text": [
      "simulation round:  1  of 10\n",
      "simulation round:  2  of 10\n",
      "simulation round:  3  of 10\n",
      "simulation round:  4  of 10\n",
      "simulation round:  5  of 10\n",
      "simulation round:  6  of 10\n",
      "simulation round:  7  of 10\n",
      "simulation round:  8  of 10\n",
      "simulation round:  9  of 10\n",
      "simulation round:  10  of 10\n"
     ]
    }
   ],
   "source": [
    "my_output = my_dataset_generator.generate_data_nested(save = False)"
   ]
  },
  {
   "cell_type": "code",
   "execution_count": 7,
   "metadata": {},
   "outputs": [
    {
     "data": {
      "text/plain": [
       "{'data': array([[ 1.0340211 ,  1.        ],\n",
       "        [ 1.0720211 ,  1.        ],\n",
       "        [ 1.3030207 ,  1.        ],\n",
       "        ...,\n",
       "        [ 0.7438603 , -1.        ],\n",
       "        [ 0.48186138,  1.        ],\n",
       "        [ 0.43286133, -1.        ]], dtype=float32),\n",
       " 'label_components': array([[1., 0., 0.],\n",
       "        [1., 1., 0.],\n",
       "        [0., 1., 1.],\n",
       "        [1., 0., 0.],\n",
       "        [1., 0., 1.],\n",
       "        [0., 0., 0.],\n",
       "        [1., 0., 1.],\n",
       "        [0., 0., 0.],\n",
       "        [0., 1., 0.],\n",
       "        [0., 1., 0.],\n",
       "        [0., 0., 1.],\n",
       "        [1., 0., 1.],\n",
       "        [1., 1., 1.],\n",
       "        [0., 0., 1.],\n",
       "        [0., 1., 1.],\n",
       "        [1., 1., 1.],\n",
       "        [1., 1., 1.],\n",
       "        [0., 0., 0.],\n",
       "        [1., 1., 1.],\n",
       "        [1., 0., 1.],\n",
       "        [1., 0., 0.],\n",
       "        [1., 1., 1.],\n",
       "        [0., 1., 0.],\n",
       "        [0., 0., 1.],\n",
       "        [0., 0., 0.],\n",
       "        [0., 0., 0.],\n",
       "        [1., 1., 1.],\n",
       "        [0., 0., 0.],\n",
       "        [0., 0., 0.],\n",
       "        [0., 0., 0.],\n",
       "        [0., 0., 0.],\n",
       "        [1., 1., 0.],\n",
       "        [0., 0., 0.],\n",
       "        [1., 1., 1.],\n",
       "        [0., 0., 0.],\n",
       "        [1., 0., 1.],\n",
       "        [1., 0., 0.],\n",
       "        [0., 1., 0.],\n",
       "        [0., 1., 0.],\n",
       "        [0., 1., 1.],\n",
       "        [0., 0., 0.],\n",
       "        [0., 0., 1.],\n",
       "        [1., 1., 1.],\n",
       "        [0., 0., 0.],\n",
       "        [1., 0., 0.],\n",
       "        [0., 0., 0.],\n",
       "        [1., 0., 0.],\n",
       "        [0., 0., 0.],\n",
       "        [1., 1., 0.],\n",
       "        [1., 1., 1.],\n",
       "        [0., 0., 0.],\n",
       "        [0., 0., 0.],\n",
       "        [0., 0., 0.],\n",
       "        [1., 1., 1.],\n",
       "        [0., 0., 0.],\n",
       "        [0., 0., 0.],\n",
       "        [0., 1., 0.],\n",
       "        [0., 0., 0.],\n",
       "        [1., 1., 1.],\n",
       "        [1., 1., 0.],\n",
       "        [1., 1., 0.],\n",
       "        [1., 1., 1.],\n",
       "        [0., 0., 0.],\n",
       "        [0., 1., 0.],\n",
       "        [0., 0., 0.],\n",
       "        [1., 0., 0.],\n",
       "        [0., 1., 0.],\n",
       "        [1., 1., 1.],\n",
       "        [0., 0., 0.],\n",
       "        [0., 1., 1.],\n",
       "        [1., 1., 0.],\n",
       "        [0., 1., 1.],\n",
       "        [1., 1., 1.],\n",
       "        [1., 0., 1.],\n",
       "        [0., 0., 1.],\n",
       "        [1., 0., 1.],\n",
       "        [1., 0., 1.],\n",
       "        [0., 1., 0.],\n",
       "        [0., 1., 1.],\n",
       "        [0., 1., 1.],\n",
       "        [1., 1., 1.],\n",
       "        [1., 0., 0.],\n",
       "        [1., 1., 1.],\n",
       "        [0., 0., 0.],\n",
       "        [0., 1., 1.],\n",
       "        [0., 0., 0.],\n",
       "        [1., 0., 0.],\n",
       "        [1., 1., 1.],\n",
       "        [1., 1., 0.],\n",
       "        [0., 0., 1.],\n",
       "        [1., 0., 0.],\n",
       "        [1., 1., 1.],\n",
       "        [1., 1., 1.],\n",
       "        [0., 1., 1.],\n",
       "        [1., 1., 0.],\n",
       "        [1., 0., 1.],\n",
       "        [1., 0., 1.],\n",
       "        [0., 0., 0.],\n",
       "        [1., 1., 1.],\n",
       "        [0., 0., 0.]], dtype=float32),\n",
       " 'label_parameters': array([[ 2.928222  ,  0.87069523,  0.8368141 ,  1.        ,  0.9742825 ,\n",
       "          0.9930212 ,  0.        ],\n",
       "        [ 2.5960848 ,  1.5930771 ,  0.204569  ,  1.2377188 , -0.93260556,\n",
       "          1.0577658 ,  0.        ],\n",
       "        [ 0.18857926,  0.6848909 ,  0.83077824,  1.3693298 ,  0.        ,\n",
       "          0.14211537,  0.05229598],\n",
       "        [-0.8124363 ,  1.9814378 ,  0.8135323 ,  1.        , -0.6573504 ,\n",
       "          1.6382698 ,  0.        ],\n",
       "        [-1.3011734 ,  0.96433896,  0.1624793 ,  1.        ,  0.61633795,\n",
       "          1.3628508 ,  0.11481006],\n",
       "        [-2.1099484 ,  1.3830032 ,  0.29828337,  1.        ,  0.        ,\n",
       "          1.4733757 ,  0.        ],\n",
       "        [ 0.8927978 ,  0.5083998 ,  0.8047816 ,  1.        , -0.23970068,\n",
       "          0.6456742 ,  1.3087964 ],\n",
       "        [ 2.4055295 ,  0.36967665,  0.50990015,  1.        ,  0.        ,\n",
       "          1.9320709 ,  0.        ],\n",
       "        [-0.61343527,  0.3217812 ,  0.21842954,  1.9026208 ,  0.        ,\n",
       "          1.2649702 ,  0.        ],\n",
       "        [-1.2870975 ,  0.7673955 ,  0.29097858,  1.1671562 ,  0.        ,\n",
       "          1.0624952 ,  0.        ],\n",
       "        [ 0.9667387 ,  1.4083169 ,  0.15286587,  1.        ,  0.        ,\n",
       "          0.17018273,  0.8940114 ],\n",
       "        [ 0.55449855,  1.8857824 ,  0.35257295,  1.        ,  0.45739847,\n",
       "          1.7717949 ,  1.3934075 ],\n",
       "        [-0.46798253,  1.7343154 ,  0.43789363,  1.7299895 ,  0.96945006,\n",
       "          0.05242674,  0.75250995],\n",
       "        [ 1.0247046 ,  1.3248949 ,  0.32332346,  1.        ,  0.        ,\n",
       "          1.290237  ,  0.5421123 ],\n",
       "        [-2.947794  ,  1.3829035 ,  0.797611  ,  1.8769206 ,  0.        ,\n",
       "          1.1082003 ,  0.31170794],\n",
       "        [-0.87526137,  1.8840338 ,  0.31567612,  1.0212612 , -0.02429811,\n",
       "          0.36903197,  0.3045729 ],\n",
       "        [ 0.53584695,  1.3270414 ,  0.409051  ,  1.8502368 ,  0.5276256 ,\n",
       "          0.9297919 ,  0.43434146],\n",
       "        [ 0.6115877 ,  0.6432009 ,  0.8364637 ,  1.        ,  0.        ,\n",
       "          1.6813692 ,  0.        ],\n",
       "        [ 1.0914477 ,  1.8831464 ,  0.2291907 ,  1.5750929 ,  0.89098704,\n",
       "          1.5381567 ,  0.24614845],\n",
       "        [-2.9971511 ,  0.3673034 ,  0.47513413,  1.        ,  0.01543913,\n",
       "          0.44555557,  0.26117334],\n",
       "        [-0.7838404 ,  0.30649915,  0.26894495,  1.        , -0.31155   ,\n",
       "          0.69451517,  0.        ],\n",
       "        [ 1.0354769 ,  1.2450714 ,  0.23486751,  1.0462948 ,  0.8359107 ,\n",
       "          0.4264151 ,  0.45728397],\n",
       "        [-2.8291256 ,  0.95721835,  0.3331097 ,  1.5073049 ,  0.        ,\n",
       "          0.8860503 ,  0.        ],\n",
       "        [ 2.6903043 ,  1.455944  ,  0.56593347,  1.        ,  0.        ,\n",
       "          1.4217719 ,  0.06207461],\n",
       "        [ 2.4773858 ,  0.56817186,  0.54900914,  1.        ,  0.        ,\n",
       "          0.8451641 ,  0.        ],\n",
       "        [-0.39785844,  1.8676416 ,  0.4771075 ,  1.        ,  0.        ,\n",
       "          1.9586669 ,  0.        ],\n",
       "        [-0.05909137,  0.9265098 ,  0.49688417,  1.1645888 , -0.26542783,\n",
       "          1.9632006 ,  1.4095306 ],\n",
       "        [-1.4438484 ,  1.7883204 ,  0.52939343,  1.        ,  0.        ,\n",
       "          1.4236438 ,  0.        ],\n",
       "        [-1.841051  ,  1.6291795 ,  0.7312972 ,  1.        ,  0.        ,\n",
       "          1.7604966 ,  0.        ],\n",
       "        [-0.36998877,  1.8864084 ,  0.4685925 ,  1.        ,  0.        ,\n",
       "          0.41668013,  0.        ],\n",
       "        [ 1.6198637 ,  1.697659  ,  0.5078589 ,  1.        ,  0.        ,\n",
       "          1.4219596 ,  0.        ],\n",
       "        [ 2.3987472 ,  1.2515962 ,  0.18404268,  1.0613939 ,  0.09505124,\n",
       "          1.9897447 ,  0.        ],\n",
       "        [-0.9982261 ,  1.4521877 ,  0.6502394 ,  1.        ,  0.        ,\n",
       "          0.36915433,  0.        ],\n",
       "        [ 2.3428814 ,  0.84289515,  0.82675385,  1.8253106 ,  0.2082273 ,\n",
       "          0.85815626,  0.49537835],\n",
       "        [ 2.4783103 ,  1.3024273 ,  0.60537416,  1.        ,  0.        ,\n",
       "          1.1660397 ,  0.        ],\n",
       "        [-0.17545843,  1.0688266 ,  0.35562015,  1.        , -0.36433354,\n",
       "          1.1283497 ,  1.4431955 ],\n",
       "        [ 1.1309114 ,  1.311656  ,  0.4337342 ,  1.        ,  0.39026305,\n",
       "          1.7609602 ,  0.        ],\n",
       "        [ 0.34803933,  0.83107173,  0.17361803,  1.9340484 ,  0.        ,\n",
       "          0.9012402 ,  0.        ],\n",
       "        [-2.1342385 ,  0.31504253,  0.5242534 ,  1.6155959 ,  0.        ,\n",
       "          1.2084298 ,  0.        ],\n",
       "        [-2.2638261 ,  1.5215164 ,  0.43540162,  1.0346026 ,  0.        ,\n",
       "          0.7384451 ,  0.15020844],\n",
       "        [-2.2109354 ,  0.5172499 ,  0.7542464 ,  1.        ,  0.        ,\n",
       "          0.02947727,  0.        ],\n",
       "        [-2.020658  ,  1.9743663 ,  0.15755273,  1.        ,  0.        ,\n",
       "          0.09793659,  1.3995861 ],\n",
       "        [-0.38372457,  0.50808525,  0.46887574,  1.0613141 ,  0.18337448,\n",
       "          0.2736532 ,  1.1726824 ],\n",
       "        [ 2.0602257 ,  0.61018467,  0.6626491 ,  1.        ,  0.        ,\n",
       "          0.81220424,  0.        ],\n",
       "        [ 2.53276   ,  1.4972732 ,  0.4248562 ,  1.        ,  0.43115675,\n",
       "          1.7149477 ,  0.        ],\n",
       "        [ 1.6316918 ,  0.916965  ,  0.22438745,  1.        ,  0.        ,\n",
       "          0.77456546,  0.        ],\n",
       "        [ 0.10758731,  0.3931796 ,  0.31847486,  1.        , -0.88925153,\n",
       "          1.0163134 ,  0.        ],\n",
       "        [ 1.7857304 ,  1.6089488 ,  0.742358  ,  1.        ,  0.        ,\n",
       "          1.5823452 ,  0.        ],\n",
       "        [-2.3095634 ,  1.9951475 ,  0.5049586 ,  1.7023379 , -0.8149798 ,\n",
       "          1.5061328 ,  0.        ],\n",
       "        [-0.8794275 ,  1.7187585 ,  0.4186223 ,  1.7947546 ,  0.6023203 ,\n",
       "          1.3091539 ,  1.4145616 ],\n",
       "        [ 0.45103258,  1.5133908 ,  0.52978724,  1.        ,  0.        ,\n",
       "          0.16757306,  0.        ],\n",
       "        [ 2.0231583 ,  1.135243  ,  0.22622791,  1.        ,  0.        ,\n",
       "          0.3612579 ,  0.        ],\n",
       "        [ 2.887628  ,  1.4594424 ,  0.8363307 ,  1.        ,  0.        ,\n",
       "          1.4960909 ,  0.        ],\n",
       "        [-1.4590222 ,  0.34883106,  0.4995123 ,  1.4832566 ,  0.88180375,\n",
       "          1.2362827 ,  0.6196065 ],\n",
       "        [ 1.8860965 ,  1.418727  ,  0.20864926,  1.        ,  0.        ,\n",
       "          0.8544934 ,  0.        ],\n",
       "        [-1.0350658 ,  0.6879574 ,  0.36693493,  1.        ,  0.        ,\n",
       "          0.68756175,  0.        ],\n",
       "        [-0.08371188,  1.4785157 ,  0.20392391,  1.6417961 ,  0.        ,\n",
       "          1.1683856 ,  0.        ],\n",
       "        [-2.7313826 ,  1.3003422 ,  0.3524874 ,  1.        ,  0.        ,\n",
       "          1.8944236 ,  0.        ],\n",
       "        [-2.5452971 ,  0.8065317 ,  0.16727908,  1.5003197 ,  0.2676712 ,\n",
       "          0.5787861 ,  1.4055581 ],\n",
       "        [-1.4462999 ,  1.4176346 ,  0.5180644 ,  1.0463457 ,  0.12477592,\n",
       "          0.36165452,  0.        ],\n",
       "        [-2.3960712 ,  0.74519324,  0.38569298,  1.6206632 ,  0.85625666,\n",
       "          0.02327877,  0.        ],\n",
       "        [ 0.08491269,  1.3194484 ,  0.7313331 ,  1.8408114 ,  0.02655139,\n",
       "          1.1969548 ,  0.23481075],\n",
       "        [ 0.7164912 ,  1.1879731 ,  0.41496775,  1.        ,  0.        ,\n",
       "          1.2462039 ,  0.        ],\n",
       "        [-0.5224922 ,  0.66881454,  0.54979706,  1.6669074 ,  0.        ,\n",
       "          1.9556041 ,  0.        ],\n",
       "        [-0.86078346,  1.8099316 ,  0.26549187,  1.        ,  0.        ,\n",
       "          1.6385117 ,  0.        ],\n",
       "        [ 2.3745933 ,  1.0276198 ,  0.3666194 ,  1.        , -0.78719574,\n",
       "          0.38145894,  0.        ],\n",
       "        [ 0.805231  ,  1.0542387 ,  0.3411527 ,  1.511307  ,  0.        ,\n",
       "          0.77310276,  0.        ],\n",
       "        [-1.4786668 ,  1.087715  ,  0.7233298 ,  1.196261  , -0.85148954,\n",
       "          1.3517233 ,  1.2560749 ],\n",
       "        [ 0.8621974 ,  0.9343131 ,  0.41499493,  1.        ,  0.        ,\n",
       "          0.7848511 ,  0.        ],\n",
       "        [ 1.7226702 ,  0.35004342,  0.17937684,  1.9609654 ,  0.        ,\n",
       "          0.9606557 ,  0.89702404],\n",
       "        [-2.0636966 ,  1.7856181 ,  0.18930353,  1.7936205 , -0.13593346,\n",
       "          0.06855933,  0.        ],\n",
       "        [-2.392237  ,  1.6430285 ,  0.38853598,  1.089028  ,  0.        ,\n",
       "          1.8447334 ,  0.65989536],\n",
       "        [-2.220733  ,  0.87794363,  0.69461095,  1.3522456 ,  0.98206705,\n",
       "          0.92685723,  0.07773528],\n",
       "        [-0.52771896,  1.4759774 ,  0.78406745,  1.        ,  0.5873934 ,\n",
       "          1.822565  ,  0.52194005],\n",
       "        [-1.967768  ,  0.7434029 ,  0.6255768 ,  1.        ,  0.        ,\n",
       "          0.33225808,  1.3798159 ],\n",
       "        [ 1.1050459 ,  0.67038304,  0.27948886,  1.        , -0.59240896,\n",
       "          1.3367685 ,  1.2885005 ],\n",
       "        [-1.3340998 ,  0.4524257 ,  0.15855318,  1.        ,  0.76034284,\n",
       "          1.987327  ,  0.9289812 ],\n",
       "        [ 2.0259955 ,  1.5686736 ,  0.6550407 ,  1.414931  ,  0.        ,\n",
       "          0.9496042 ,  0.        ],\n",
       "        [ 1.1379883 ,  1.8135872 ,  0.21340983,  1.1482384 ,  0.        ,\n",
       "          0.844588  ,  0.07707809],\n",
       "        [-0.9655211 ,  0.48989883,  0.70151263,  1.7992219 ,  0.        ,\n",
       "          1.1886716 ,  0.63284254],\n",
       "        [ 0.29302186,  1.9862777 ,  0.20396094,  1.2351947 , -0.59475255,\n",
       "          0.2988441 ,  0.37570152],\n",
       "        [ 2.2469816 ,  1.1430814 ,  0.19875908,  1.        , -0.35805222,\n",
       "          0.41006237,  0.        ],\n",
       "        [-2.0765724 ,  1.0710802 ,  0.5325147 ,  1.4408714 ,  0.30189395,\n",
       "          1.1807786 ,  1.0069088 ],\n",
       "        [ 0.8968278 ,  0.7179921 ,  0.6683264 ,  1.        ,  0.        ,\n",
       "          1.3277513 ,  0.        ],\n",
       "        [ 0.09288844,  0.51512456,  0.3346523 ,  1.3160679 ,  0.        ,\n",
       "          1.4448651 ,  1.0458245 ],\n",
       "        [ 0.6263793 ,  1.5752987 ,  0.22822694,  1.        ,  0.        ,\n",
       "          0.16070063,  0.        ],\n",
       "        [-2.6959186 ,  0.638835  ,  0.57963264,  1.        , -0.93013126,\n",
       "          1.3121376 ,  0.        ],\n",
       "        [ 2.7746851 ,  1.266077  ,  0.6697363 ,  1.1137097 ,  0.642927  ,\n",
       "          1.8280586 ,  0.26670828],\n",
       "        [-2.4563267 ,  1.9282122 ,  0.56301   ,  1.5623008 , -0.91291916,\n",
       "          1.6838822 ,  0.        ],\n",
       "        [-2.9112728 ,  0.60937154,  0.36277604,  1.        ,  0.        ,\n",
       "          0.6364526 ,  0.4646204 ],\n",
       "        [-2.21941   ,  0.6004722 ,  0.58599097,  1.        , -0.16797227,\n",
       "          0.99741626,  0.        ],\n",
       "        [-0.54870373,  1.8947555 ,  0.61795324,  1.7540423 , -0.5080704 ,\n",
       "          1.5980028 ,  1.3132071 ],\n",
       "        [-2.594077  ,  0.8970616 ,  0.44895026,  1.4177908 , -0.4855521 ,\n",
       "          1.2361134 ,  1.4266573 ],\n",
       "        [-0.15888265,  0.95004183,  0.16197932,  1.3298246 ,  0.        ,\n",
       "          0.6061892 ,  0.86046845],\n",
       "        [-0.87916535,  0.9445644 ,  0.80511063,  1.5436271 ,  0.4547054 ,\n",
       "          1.0863318 ,  0.        ],\n",
       "        [ 1.5825392 ,  0.77795225,  0.4798035 ,  1.        , -0.04237388,\n",
       "          1.3072939 ,  0.37675536],\n",
       "        [ 2.4138064 ,  1.9035664 ,  0.3673694 ,  1.        , -0.09113656,\n",
       "          1.187167  ,  0.5224555 ],\n",
       "        [-2.5251796 ,  0.6041114 ,  0.35622507,  1.        ,  0.        ,\n",
       "          1.8233935 ,  0.        ],\n",
       "        [-0.42892128,  1.3251876 ,  0.34107795,  1.3084366 , -0.27671412,\n",
       "          0.38398898,  0.03652378],\n",
       "        [-1.2647854 ,  0.4669409 ,  0.32771823,  1.        ,  0.        ,\n",
       "          0.38586137,  0.        ]], dtype=float32),\n",
       " 'generator_config': {'output_folder': 'data/lan_mlp/',\n",
       "  'dgp_list': 'glob',\n",
       "  'nbins': 0,\n",
       "  'n_samples': 1000,\n",
       "  'n_parameter_sets': 100,\n",
       "  'n_parameter_sets_rejected': 100,\n",
       "  'n_training_samples_by_parameter_set': 1000,\n",
       "  'max_t': 20.0,\n",
       "  'delta_t': 0.001,\n",
       "  'pickleprotocol': 4,\n",
       "  'n_cpus': 6,\n",
       "  'kde_data_mixture_probabilities': [0.8, 0.1, 0.1],\n",
       "  'simulation_filters': {'mode': 20,\n",
       "   'choice_cnt': 10,\n",
       "   'mean_rt': 15,\n",
       "   'std': 0,\n",
       "   'mode_cnt_rel': 0.5},\n",
       "  'negative_rt_cutoff': -66.77497,\n",
       "  'n_subruns': 10,\n",
       "  'bin_pointwise': False,\n",
       "  'separate_response_channels': False},\n",
       " 'model_config': {'name': 'glob',\n",
       "  'params': ['v', 'a', 'z', 'alphar', 'g', 't', 'theta'],\n",
       "  'param_bounds': [[-3.0, 0.3, 0.15, 1.0, -1.0, 1e-05, -0.0],\n",
       "   [3.0, 2.0, 0.85, 2.0, 1.0, 2.0, 1.45]],\n",
       "  'n_params': 7,\n",
       "  'default_params': [0.0, 1.0, 0.5, 2.0, 0.0, 1.0, 0.0],\n",
       "  'hddm_include': ['z', 'alphar', 'g', 'theta'],\n",
       "  'nchoices': 2,\n",
       "  'components': {'names': ['g', 'alphar', 'theta'],\n",
       "   'off_values': array([0., 1., 0.], dtype=float32),\n",
       "   'probabilities': array([0.33333333, 0.33333333, 0.33333333]),\n",
       "   'labels': array([[1, 0, 0],\n",
       "          [0, 1, 0],\n",
       "          [0, 0, 1]]),\n",
       "   'n_components': 3}}}"
      ]
     },
     "execution_count": 7,
     "metadata": {},
     "output_type": "execute_result"
    }
   ],
   "source": [
    "my_output"
   ]
  },
  {
   "cell_type": "code",
   "execution_count": 5,
   "metadata": {},
   "outputs": [
    {
     "name": "stdout",
     "output_type": "stream",
     "text": [
      "Starting simulations\n",
      "simulations finished!\n",
      "simulations finished!simulations finished!\n",
      "\n",
      "simulations finished!\n",
      "simulations finished!simulations finished!\n",
      "\n",
      "simulations finished!\n",
      "simulations finished!simulations finished!\n",
      "\n",
      "simulations finished!\n",
      "simulations finished!\n",
      "simulations finished!\n"
     ]
    }
   ],
   "source": [
    "# NEEDS NEW CONFIG HERE\n",
    "my_output = my_dataset_generator.generate_data_ratio_estimator(save = False)"
   ]
  },
  {
   "cell_type": "code",
   "execution_count": 8,
   "metadata": {},
   "outputs": [
    {
     "data": {
      "text/plain": [
       "array([0., 1., 1., 0., 0., 1., 0., 0., 1., 0., 1., 0., 0., 0., 1., 0., 1.,\n",
       "       0., 0., 0., 0., 1., 1., 1., 0., 0., 1., 0., 0., 0., 0., 1., 1., 1.,\n",
       "       1., 0., 0., 1., 1., 0., 0., 1., 0., 0., 1., 1., 0., 1., 0., 1., 0.,\n",
       "       0., 1., 0., 1., 1., 1., 0., 0., 1., 1., 1., 0., 1., 1., 0., 0., 0.,\n",
       "       1., 0., 0., 0., 0., 1., 1., 1., 1., 1., 0., 1., 1., 1., 1., 1., 1.,\n",
       "       0., 1., 0., 1., 1., 0., 1., 1., 1., 0., 1., 0., 0., 0., 0.],\n",
       "      dtype=float32)"
      ]
     },
     "execution_count": 8,
     "metadata": {},
     "output_type": "execute_result"
    }
   ],
   "source": [
    "my_output['labels']"
   ]
  },
  {
   "cell_type": "code",
   "execution_count": null,
   "metadata": {},
   "outputs": [],
   "source": [
    "my_dataset_generator.model_config"
   ]
  },
  {
   "cell_type": "code",
   "execution_count": 8,
   "metadata": {},
   "outputs": [
    {
     "data": {
      "text/plain": [
       "(10, 512, 2)"
      ]
     },
     "execution_count": 8,
     "metadata": {},
     "output_type": "execute_result"
    }
   ],
   "source": [
    "x['data'].shape"
   ]
  },
  {
   "cell_type": "code",
   "execution_count": 9,
   "metadata": {},
   "outputs": [
    {
     "data": {
      "text/plain": [
       "(10, 4)"
      ]
     },
     "execution_count": 9,
     "metadata": {},
     "output_type": "execute_result"
    }
   ],
   "source": [
    "x['labels'].shape"
   ]
  },
  {
   "cell_type": "code",
   "execution_count": 10,
   "metadata": {},
   "outputs": [
    {
     "data": {
      "text/plain": [
       "array([[ 1.2226119 ,  0.37123147,  0.5904053 ,  1.6807697 ,  0.        ,\n",
       "         1.0837663 ,  0.        ],\n",
       "       [ 2.9925056 ,  1.3653069 ,  0.1604542 ,  1.2743086 ,  0.18776555,\n",
       "         1.2324505 ,  0.        ],\n",
       "       [ 2.477468  ,  0.58937293,  0.3375957 ,  1.2296201 ,  0.82703817,\n",
       "         0.92556745,  1.0006771 ],\n",
       "       [-0.5683042 ,  0.43178543,  0.5617197 ,  1.1424209 ,  0.01943262,\n",
       "         1.4299839 ,  0.        ],\n",
       "       [-1.805324  ,  0.9111644 ,  0.5896453 ,  1.896022  ,  0.        ,\n",
       "         1.6689351 ,  0.        ],\n",
       "       [-1.7950133 ,  1.206874  ,  0.64769906,  1.4530326 ,  0.7132122 ,\n",
       "         0.93900985,  0.        ],\n",
       "       [ 1.1343992 ,  0.8687558 ,  0.489402  ,  1.9120643 ,  0.        ,\n",
       "         0.5533016 ,  0.        ],\n",
       "       [-0.55500275,  1.4295069 ,  0.6387958 ,  1.        ,  0.56790733,\n",
       "         0.62682825,  0.83169496],\n",
       "       [-0.0092219 ,  0.86031497,  0.42054382,  1.        ,  0.        ,\n",
       "         0.01748262,  0.        ],\n",
       "       [-0.2008512 ,  0.48497012,  0.78317183,  1.        ,  0.        ,\n",
       "         0.96895134,  0.        ],\n",
       "       [-0.6972486 ,  0.75304437,  0.8300332 ,  1.        ,  0.        ,\n",
       "         0.45300204,  0.        ],\n",
       "       [ 1.0012553 ,  1.0033954 ,  0.493322  ,  1.        ,  0.        ,\n",
       "         1.2483783 ,  0.        ],\n",
       "       [ 2.3676934 ,  0.51802   ,  0.35875735,  1.7682399 , -0.7256085 ,\n",
       "         0.45148104,  0.5576493 ],\n",
       "       [-1.7788482 ,  1.4178509 ,  0.75436896,  1.3468419 ,  0.4198148 ,\n",
       "         0.8227297 ,  0.40256032],\n",
       "       [ 2.6580434 ,  1.0616567 ,  0.33680072,  1.        , -0.92244995,\n",
       "         1.9883511 ,  0.        ],\n",
       "       [-0.68432444,  1.2132739 ,  0.284127  ,  1.6006645 ,  0.        ,\n",
       "         0.15735035,  0.        ],\n",
       "       [ 2.4521046 ,  0.41210857,  0.24830328,  1.5345336 , -0.29694733,\n",
       "         0.05886869,  0.54805547],\n",
       "       [-0.2967434 ,  1.8305862 ,  0.19015113,  1.4461718 ,  0.18770006,\n",
       "         1.577358  ,  0.3530639 ],\n",
       "       [ 0.6309806 ,  0.31625846,  0.80819726,  1.1058321 ,  0.        ,\n",
       "         0.48276708,  0.        ],\n",
       "       [ 1.2836797 ,  0.41920146,  0.35179982,  1.109689  ,  0.        ,\n",
       "         0.21984704,  0.        ],\n",
       "       [-2.383505  ,  1.8166163 ,  0.64389324,  1.8083651 ,  0.4714371 ,\n",
       "         0.73760986,  1.1414114 ],\n",
       "       [ 0.49906757,  0.5401918 ,  0.4053722 ,  1.        ,  0.        ,\n",
       "         1.6216866 ,  0.        ],\n",
       "       [-1.7510903 ,  1.624238  ,  0.38318372,  1.        ,  0.6712909 ,\n",
       "         1.5299634 ,  0.        ],\n",
       "       [ 2.9291103 ,  1.5909715 ,  0.2683509 ,  1.        ,  0.        ,\n",
       "         1.8988706 ,  0.76652867],\n",
       "       [-2.8521247 ,  1.5238638 ,  0.60080594,  1.4517412 ,  0.65170765,\n",
       "         1.4547386 ,  0.7070603 ],\n",
       "       [ 2.8016078 ,  1.764859  ,  0.16179101,  1.        ,  0.56919557,\n",
       "         0.7803592 ,  0.        ],\n",
       "       [-2.7042272 ,  1.6989521 ,  0.76459724,  1.2414097 , -0.55933815,\n",
       "         0.6049276 ,  1.1701709 ],\n",
       "       [ 0.63654584,  0.95077205,  0.7513168 ,  1.8178993 , -0.62035125,\n",
       "         1.7258177 ,  1.1202755 ],\n",
       "       [-2.6961634 ,  0.686342  ,  0.68958044,  1.9673817 ,  0.        ,\n",
       "         0.26404262,  0.00872517],\n",
       "       [ 2.7997253 ,  1.548826  ,  0.58017176,  1.        ,  0.61203563,\n",
       "         0.56819135,  0.        ],\n",
       "       [ 0.2993663 ,  0.59102213,  0.84705573,  1.        ,  0.        ,\n",
       "         0.13827702,  0.        ],\n",
       "       [ 2.1696954 ,  0.47996208,  0.8050529 ,  1.        ,  0.        ,\n",
       "         1.0706285 ,  0.4689155 ],\n",
       "       [-2.2061205 ,  1.5675113 ,  0.19381419,  1.2984278 , -0.6676933 ,\n",
       "         0.6652617 ,  0.66840965],\n",
       "       [ 2.2894611 ,  1.4722995 ,  0.5733834 ,  1.        , -0.4187158 ,\n",
       "         1.5585716 ,  0.        ],\n",
       "       [-0.81609094,  1.1186664 ,  0.6750972 ,  1.6909151 ,  0.        ,\n",
       "         1.289095  ,  0.        ],\n",
       "       [ 0.72265756,  1.6367677 ,  0.46366102,  1.9950624 ,  0.07746189,\n",
       "         0.08812767,  0.        ],\n",
       "       [-1.3030789 ,  0.39535066,  0.16051398,  1.0723776 , -0.41457725,\n",
       "         0.37150818,  0.58372915],\n",
       "       [ 0.48187694,  1.7816287 ,  0.4291644 ,  1.        ,  0.        ,\n",
       "         0.28259665,  0.        ],\n",
       "       [ 1.2893182 ,  1.009391  ,  0.41555008,  1.        ,  0.        ,\n",
       "         1.3144615 ,  0.        ],\n",
       "       [-1.9433632 ,  1.960664  ,  0.8151731 ,  1.9768889 ,  0.76651484,\n",
       "         1.3341435 ,  0.73465264],\n",
       "       [ 2.413974  ,  1.7001636 ,  0.48288426,  1.095345  , -0.2620826 ,\n",
       "         1.802798  ,  0.        ],\n",
       "       [ 1.7920227 ,  0.85289496,  0.65795743,  1.7374064 , -0.34372124,\n",
       "         0.7599855 ,  0.35359305],\n",
       "       [-2.7785463 ,  1.5048076 ,  0.3678916 ,  1.6928318 , -0.17074053,\n",
       "         0.31342673,  1.0398871 ],\n",
       "       [ 2.6645095 ,  0.56895286,  0.27316728,  1.4204681 , -0.83609104,\n",
       "         0.51205075,  0.08505701],\n",
       "       [-0.9083792 ,  0.44636866,  0.16708097,  1.2083997 ,  0.        ,\n",
       "         1.5525115 ,  0.        ],\n",
       "       [ 1.4882399 ,  1.9332966 ,  0.66901404,  1.        ,  0.        ,\n",
       "         0.34103638,  0.        ],\n",
       "       [ 2.6789062 ,  1.6655862 ,  0.37854284,  1.2611954 ,  0.        ,\n",
       "         0.24491592,  0.        ],\n",
       "       [-1.3474929 ,  1.8064152 ,  0.3789065 ,  1.0917168 ,  0.83251405,\n",
       "         1.6602612 ,  0.7949589 ],\n",
       "       [ 0.80390406,  1.1013871 ,  0.2422566 ,  1.        ,  0.        ,\n",
       "         1.1008005 ,  0.        ],\n",
       "       [ 0.26457798,  1.5950335 ,  0.6580431 ,  1.        ,  0.61443585,\n",
       "         1.3750108 ,  0.        ],\n",
       "       [-0.84039146,  1.1382753 ,  0.2518963 ,  1.        ,  0.        ,\n",
       "         0.7025284 ,  0.        ],\n",
       "       [-2.4363925 ,  0.43910363,  0.38136828,  1.        ,  0.        ,\n",
       "         1.0318862 ,  0.        ],\n",
       "       [-1.5053444 ,  1.1381212 ,  0.31037122,  1.        ,  0.        ,\n",
       "         1.8919544 ,  1.3146806 ],\n",
       "       [-1.9577276 ,  0.49952212,  0.49925193,  1.        ,  0.6631935 ,\n",
       "         1.1031494 ,  0.        ],\n",
       "       [-0.9601885 ,  0.48117822,  0.7959575 ,  1.        ,  0.        ,\n",
       "         0.9722057 ,  0.        ],\n",
       "       [ 1.8456496 ,  0.8530027 ,  0.24487737,  1.7856963 ,  0.01902746,\n",
       "         1.519073  ,  0.        ],\n",
       "       [-1.1937126 ,  1.4789672 ,  0.5090156 ,  1.        , -0.74555403,\n",
       "         0.45765245,  0.        ],\n",
       "       [ 1.1858908 ,  0.5599636 ,  0.4104319 ,  1.        ,  0.2669646 ,\n",
       "         0.8588222 ,  0.        ],\n",
       "       [-2.0692525 ,  1.8195254 ,  0.6061734 ,  1.        ,  0.        ,\n",
       "         1.6090101 ,  0.34650776],\n",
       "       [ 1.9953346 ,  0.8879622 ,  0.2503415 ,  1.145336  , -0.12779285,\n",
       "         0.7029555 ,  0.5899502 ],\n",
       "       [ 1.5466486 ,  1.827878  ,  0.28361523,  1.        ,  0.        ,\n",
       "         1.8056024 ,  0.        ],\n",
       "       [-2.7523026 ,  1.4381608 ,  0.7442922 ,  1.02966   , -0.46745482,\n",
       "         0.7043568 ,  1.3448989 ],\n",
       "       [-1.0229456 ,  1.3084165 ,  0.26067618,  1.        ,  0.        ,\n",
       "         1.7409256 ,  0.        ],\n",
       "       [ 1.1799091 ,  1.4809359 ,  0.5721945 ,  1.        ,  0.99050415,\n",
       "         0.21303016,  0.        ],\n",
       "       [-0.49536315,  0.9777443 ,  0.82473785,  1.2633404 ,  0.6011507 ,\n",
       "         0.53586423,  1.2244565 ],\n",
       "       [-0.70281065,  1.6168385 ,  0.7454774 ,  1.727397  ,  0.        ,\n",
       "         1.8347695 ,  1.097895  ],\n",
       "       [ 1.7231166 ,  0.75315374,  0.7311972 ,  1.        ,  0.        ,\n",
       "         0.02785631,  0.        ],\n",
       "       [ 0.1588974 ,  0.7497719 ,  0.82607234,  1.0693374 , -0.9812879 ,\n",
       "         1.7043382 ,  0.03294924],\n",
       "       [ 2.1678107 ,  0.3010294 ,  0.8159674 ,  1.        ,  0.5468316 ,\n",
       "         1.5528253 ,  0.        ],\n",
       "       [-2.189127  ,  1.2478999 ,  0.70990777,  1.2165078 , -0.5587022 ,\n",
       "         1.7521315 ,  1.2786977 ],\n",
       "       [-2.7337596 ,  1.9748782 ,  0.2954607 ,  1.        ,  0.        ,\n",
       "         1.0733072 ,  0.        ],\n",
       "       [ 2.6159186 ,  1.4925083 ,  0.20694025,  1.        , -0.20746367,\n",
       "         1.6267954 ,  0.        ],\n",
       "       [ 2.7882242 ,  1.8137116 ,  0.42208073,  1.5883957 ,  0.76293814,\n",
       "         1.1250918 ,  0.67709655],\n",
       "       [-1.9983852 ,  1.698298  ,  0.23703413,  1.4120232 ,  0.        ,\n",
       "         1.4183061 ,  0.8625505 ],\n",
       "       [ 0.1935391 ,  1.285499  ,  0.33026925,  1.        ,  0.        ,\n",
       "         0.4052381 ,  1.222437  ],\n",
       "       [ 1.2940339 ,  1.9269272 ,  0.7370203 ,  1.9553009 ,  0.121388  ,\n",
       "         1.2628337 ,  0.        ],\n",
       "       [ 2.1138327 ,  0.36310402,  0.16411954,  1.        ,  0.        ,\n",
       "         0.6543951 ,  0.        ],\n",
       "       [ 0.1317089 ,  1.9888889 ,  0.20346622,  1.0905174 ,  0.        ,\n",
       "         0.11501179,  0.5465609 ],\n",
       "       [-0.8278105 ,  0.92486006,  0.2784127 ,  1.101791  ,  0.        ,\n",
       "         0.7152258 ,  0.        ],\n",
       "       [ 0.01974217,  1.525218  ,  0.5577579 ,  1.5847505 , -0.41699612,\n",
       "         1.8960488 ,  0.41312334],\n",
       "       [-0.51462466,  0.66109955,  0.3800231 ,  1.        ,  0.        ,\n",
       "         1.9430321 ,  0.        ],\n",
       "       [-2.704162  ,  1.2559427 ,  0.83877647,  1.9282522 ,  0.9432319 ,\n",
       "         1.6666979 ,  0.        ],\n",
       "       [-0.20089504,  1.0158206 ,  0.5258377 ,  1.        ,  0.        ,\n",
       "         0.66304106,  0.        ],\n",
       "       [ 2.2808201 ,  0.57235485,  0.74919724,  1.2095401 ,  0.68668664,\n",
       "         1.6895843 ,  1.3202826 ],\n",
       "       [ 0.30071673,  1.709087  ,  0.6661582 ,  1.        ,  0.        ,\n",
       "         1.4932995 ,  1.1486969 ],\n",
       "       [-0.0861757 ,  0.7568551 ,  0.26483837,  1.        ,  0.        ,\n",
       "         1.5390635 ,  0.        ],\n",
       "       [ 0.11393294,  1.114309  ,  0.28944084,  1.        , -0.08431296,\n",
       "         0.316339  ,  0.        ],\n",
       "       [ 1.520111  ,  1.9614669 ,  0.5492764 ,  1.7143346 ,  0.        ,\n",
       "         1.1661593 ,  0.4334075 ],\n",
       "       [ 1.6651609 ,  0.60468984,  0.3119611 ,  1.475715  , -0.6186038 ,\n",
       "         0.24663469,  1.0354215 ],\n",
       "       [-0.99073845,  1.3722177 ,  0.8484967 ,  1.2596086 ,  0.4464681 ,\n",
       "         1.9420478 ,  1.060621  ],\n",
       "       [-2.798319  ,  1.7204441 ,  0.57803786,  1.534741  ,  0.50243664,\n",
       "         1.963135  ,  1.0025971 ],\n",
       "       [ 1.3681768 ,  1.0043405 ,  0.30596825,  1.        ,  0.53021723,\n",
       "         0.10283308,  0.3134418 ],\n",
       "       [-2.1902065 ,  1.8060541 ,  0.6717961 ,  1.0324855 , -0.59285533,\n",
       "         1.2013143 ,  0.42820185],\n",
       "       [ 2.0757878 ,  1.8150367 ,  0.642386  ,  1.        , -0.04657958,\n",
       "         0.65097064,  0.5687484 ],\n",
       "       [ 0.4473417 ,  0.42394727,  0.47488734,  1.        ,  0.        ,\n",
       "         1.1451683 ,  0.        ],\n",
       "       [ 1.4074403 ,  0.47764823,  0.15800445,  1.135153  ,  0.        ,\n",
       "         0.22225042,  0.        ],\n",
       "       [-0.44654492,  1.9018015 ,  0.619462  ,  1.        ,  0.        ,\n",
       "         0.9219161 ,  0.7678479 ],\n",
       "       [-2.7916648 ,  1.9873564 ,  0.35208762,  1.8709652 ,  0.4222713 ,\n",
       "         0.95796293,  1.3054994 ],\n",
       "       [ 2.6202521 ,  1.0363461 ,  0.47605398,  1.        ,  0.        ,\n",
       "         1.3882989 ,  0.        ],\n",
       "       [-2.3632243 ,  1.319305  ,  0.36051476,  1.2646853 ,  0.        ,\n",
       "         1.6044955 ,  0.        ]], dtype=float32)"
      ]
     },
     "execution_count": 10,
     "metadata": {},
     "output_type": "execute_result"
    }
   ],
   "source": [
    "my_output['label_parameters']"
   ]
  },
  {
   "cell_type": "code",
   "execution_count": 5,
   "metadata": {},
   "outputs": [],
   "source": [
    "from matplotlib import pyplot as plt\n",
    "def normalized_gamma(t, alpha, tau, c):\n",
    "    num_ = np.power(t, alpha - 1) * np.exp(np.divide(-t, tau))\n",
    "    div_ = np.power(alpha - 1, alpha - 1) * np.power(tau, alpha - 1) * np.exp(- (alpha - 1))\n",
    "    return c * np.divide(num_, div_)"
   ]
  },
  {
   "cell_type": "code",
   "execution_count": 113,
   "metadata": {},
   "outputs": [],
   "source": [
    "t = np.arange(0, 20, 0.01)"
   ]
  },
  {
   "cell_type": "code",
   "execution_count": 114,
   "metadata": {},
   "outputs": [
    {
     "data": {
      "image/png": "[encoded data removed]",
      "text/plain": [
       "<Figure size 432x288 with 1 Axes>"
      ]
     },
     "metadata": {
      "needs_background": "light"
     },
     "output_type": "display_data"
    }
   ],
   "source": [
    "for i in np.arange(1, 0.01, -0.01):\n",
    "    out = ssms.basic_simulators.gamma_drift(t = t, shape = 10, scale = i, c = 2)\n",
    "    plt.plot(t, out, alpha = i / 10, color = 'black')"
   ]
  },
  {
   "cell_type": "code",
   "execution_count": 126,
   "metadata": {},
   "outputs": [
    {
     "data": {
      "text/plain": [
       "[<matplotlib.lines.Line2D at 0x1338b7a30>]"
      ]
     },
     "execution_count": 126,
     "metadata": {},
     "output_type": "execute_result"
    },
    {
     "data": {
      "image/png": "[encoded data removed]",
      "text/plain": [
       "<Figure size 432x288 with 1 Axes>"
      ]
     },
     "metadata": {
      "needs_background": "light"
     },
     "output_type": "display_data"
    }
   ],
   "source": [
    "out = ssms.basic_simulators.gamma_drift(t = t, shape = 1.2, scale = 0.5, c = 2)\n",
    "plt.plot(t, out, alpha = 5 / 10, color = 'black')"
   ]
  },
  {
   "cell_type": "code",
   "execution_count": 109,
   "metadata": {},
   "outputs": [
    {
     "ename": "NameError",
     "evalue": "name 'normalized_gamma' is not defined",
     "output_type": "error",
     "traceback": [
      "\u001b[0;31m---------------------------------------------------------------------------\u001b[0m",
      "\u001b[0;31mNameError\u001b[0m                                 Traceback (most recent call last)",
      "\u001b[1;32m/Users/afengler/OneDrive/project_ssm_simulators/ssm_simulators/basic_tutorial_tmp.ipynb Cell 29'\u001b[0m in \u001b[0;36m<cell line: 1>\u001b[0;34m()\u001b[0m\n\u001b[0;32m----> <a href='vscode-notebook-cell:/Users/afengler/OneDrive/project_ssm_simulators/ssm_simulators/basic_tutorial_tmp.ipynb#ch0000032?line=0'>1</a>\u001b[0m out \u001b[39m=\u001b[39m normalized_gamma(t \u001b[39m=\u001b[39m t, alpha \u001b[39m=\u001b[39m \u001b[39m10\u001b[39m, tau \u001b[39m=\u001b[39m \u001b[39m0.5\u001b[39m, c \u001b[39m=\u001b[39m \u001b[39m2\u001b[39m)\n\u001b[1;32m      <a href='vscode-notebook-cell:/Users/afengler/OneDrive/project_ssm_simulators/ssm_simulators/basic_tutorial_tmp.ipynb#ch0000032?line=1'>2</a>\u001b[0m plt\u001b[39m.\u001b[39mplot(t, out, alpha \u001b[39m=\u001b[39m \u001b[39m1\u001b[39m, color \u001b[39m=\u001b[39m \u001b[39m'\u001b[39m\u001b[39mblack\u001b[39m\u001b[39m'\u001b[39m)\n",
      "\u001b[0;31mNameError\u001b[0m: name 'normalized_gamma' is not defined"
     ]
    }
   ],
   "source": [
    "out = normalized_gamma(t = t, alpha = 10, tau = 0.5, c = 2)\n",
    "plt.plot(t, out, alpha = 1, color = 'black')"
   ]
  },
  {
   "cell_type": "code",
   "execution_count": 43,
   "metadata": {},
   "outputs": [
    {
     "data": {
      "text/plain": [
       "[<matplotlib.lines.Line2D at 0x135e375b0>]"
      ]
     },
     "execution_count": 43,
     "metadata": {},
     "output_type": "execute_result"
    },
    {
     "data": {
      "image/png": "[encoded data removed]",
      "text/plain": [
       "<Figure size 432x288 with 1 Axes>"
      ]
     },
     "metadata": {
      "needs_background": "light"
     },
     "output_type": "display_data"
    }
   ],
   "source": [
    "plt.plot(t, out)"
   ]
  },
  {
   "cell_type": "code",
   "execution_count": 2,
   "metadata": {},
   "outputs": [
    {
     "data": {
      "text/plain": [
       "(100,)"
      ]
     },
     "execution_count": 2,
     "metadata": {},
     "output_type": "execute_result"
    }
   ],
   "source": [
    "np.zeros(100).shape"
   ]
  },
  {
   "cell_type": "code",
   "execution_count": 110,
   "metadata": {},
   "outputs": [],
   "source": [
    "from ssms.basic_simulators import simulator\n",
    "model = 'gamma_drift_angle'\n",
    "params_tmp = ssms.config.model_config[model]['default_params']\n",
    "params_tmp[ssms.config.model_config[model]['params'].index('c')] = 3.0\n",
    "params_tmp[ssms.config.model_config[model]['params'].index('theta')] = 0.0\n",
    "\n",
    "sim_out = simulator(model = model, \n",
    "                    theta = params_tmp,\n",
    "                    n_samples = 10000)"
   ]
  },
  {
   "cell_type": "code",
   "execution_count": 111,
   "metadata": {},
   "outputs": [],
   "source": [
    "from ssms.basic_simulators import simulator\n",
    "model = 'angle'\n",
    "params_tmp = ssms.config.model_config[model]['default_params']\n",
    "\n",
    "sim_out = simulator(model = model, \n",
    "                    theta = params_tmp,\n",
    "                    n_samples = 10000)"
   ]
  },
  {
   "cell_type": "code",
   "execution_count": 12,
   "metadata": {},
   "outputs": [
    {
     "data": {
      "text/plain": [
       "(10000, 1)"
      ]
     },
     "execution_count": 12,
     "metadata": {},
     "output_type": "execute_result"
    }
   ],
   "source": [
    "sim_out['rts'].shape"
   ]
  },
  {
   "cell_type": "code",
   "execution_count": 7,
   "metadata": {},
   "outputs": [
    {
     "data": {
      "text/plain": [
       "[0.0, 1.0, 0.5, 0.25, 5.0, 0.5, 1.0]"
      ]
     },
     "execution_count": 7,
     "metadata": {},
     "output_type": "execute_result"
    }
   ],
   "source": [
    "ssms.config.model_config['gamma_drift']['default_params']"
   ]
  },
  {
   "cell_type": "code",
   "execution_count": 26,
   "metadata": {},
   "outputs": [
    {
     "data": {
      "text/plain": [
       "(array([1.000e+00, 2.000e+00, 4.000e+00, 3.900e+01, 9.600e+01, 2.440e+02,\n",
       "        4.570e+02, 6.730e+02, 8.610e+02, 2.370e+02, 0.000e+00, 0.000e+00,\n",
       "        2.800e+01, 6.280e+02, 9.300e+02, 9.120e+02, 9.600e+02, 1.102e+03,\n",
       "        1.027e+03, 8.510e+02, 5.290e+02, 2.670e+02, 9.800e+01, 3.800e+01,\n",
       "        9.000e+00, 3.000e+00, 2.000e+00, 1.000e+00, 0.000e+00, 1.000e+00]),\n",
       " array([-2.27103591, -2.06870387, -1.86637184, -1.6640398 , -1.46170777,\n",
       "        -1.25937573, -1.0570437 , -0.85471166, -0.65237962, -0.45004759,\n",
       "        -0.24771555, -0.04538352,  0.15694852,  0.35928055,  0.56161259,\n",
       "         0.76394463,  0.96627666,  1.1686087 ,  1.37094073,  1.57327277,\n",
       "         1.7756048 ,  1.97793684,  2.18026888,  2.38260091,  2.58493295,\n",
       "         2.78726498,  2.98959702,  3.19192905,  3.39426109,  3.59659313,\n",
       "         3.79892516]),\n",
       " <BarContainer object of 30 artists>)"
      ]
     },
     "execution_count": 26,
     "metadata": {},
     "output_type": "execute_result"
    },
    {
     "data": {
      "image/png": "[encoded data removed]",
      "text/plain": [
       "<Figure size 432x288 with 1 Axes>"
      ]
     },
     "metadata": {
      "needs_background": "light"
     },
     "output_type": "display_data"
    }
   ],
   "source": [
    "from matplotlib import pyplot as plt\n",
    "plt.hist(sim_out['rts'] * sim_out['choices'], bins = 30)"
   ]
  },
  {
   "cell_type": "code",
   "execution_count": 27,
   "metadata": {},
   "outputs": [
    {
     "data": {
      "text/plain": [
       "0.7386"
      ]
     },
     "execution_count": 27,
     "metadata": {},
     "output_type": "execute_result"
    }
   ],
   "source": [
    "(sim_out['choices'] == 1).sum() / sim_out['choices'].shape[0]"
   ]
  },
  {
   "cell_type": "code",
   "execution_count": null,
   "metadata": {},
   "outputs": [],
   "source": []
  },
  {
   "cell_type": "markdown",
   "metadata": {},
   "source": [
    "# Test new tradeoff model"
   ]
  },
  {
   "cell_type": "code",
   "execution_count": 106,
   "metadata": {},
   "outputs": [
    {
     "data": {
      "image/png": "[encoded data removed]",
      "text/plain": [
       "<Figure size 432x288 with 1 Axes>"
      ]
     },
     "metadata": {
      "needs_background": "light"
     },
     "output_type": "display_data"
    }
   ],
   "source": [
    "from ssms.basic_simulators import simulator\n",
    "model = 'tradeoff_angle_no_bias'\n",
    "color_dict = {0: 'red',\n",
    "              1: 'green',\n",
    "              2: 'blue',\n",
    "              3: 'black'}\n",
    "\n",
    "rt_means_by_choice = {i: [] for i in range(4)}\n",
    "\n",
    "params_tmp = ssms.config.model_config[model]['default_params']\n",
    "params_tmp[ssms.config.model_config[model]['params'].index('d')] = 1.0\n",
    "params_tmp[ssms.config.model_config[model]['params'].index('vh')] = 1.0\n",
    "params_tmp[ssms.config.model_config[model]['params'].index('vl2')] = 1.0 #1.0\n",
    "params_tmp[ssms.config.model_config[model]['params'].index('vl1')] = 0.0\n",
    "params_tmp[ssms.config.model_config[model]['params'].index('theta')] = 0.0\n",
    "\n",
    "\n",
    "#params_tmp[ssms.config.model_config[model]['params'].index('theta')] = 0.0\n",
    "for k in range(10):\n",
    "    sim_out = simulator(model = model, \n",
    "                        theta = params_tmp,\n",
    "                        n_samples = 50000)\n",
    "    for i in np.unique(sim_out['choices']):\n",
    "        plt.hist(sim_out['rts'][sim_out['choices'] == i], histtype = 'step', bins = 30, color = color_dict[i], alpha = 1) #0.1)\n",
    "        rt_means_by_choice[i].append(np.mean(sim_out['rts'][sim_out['choices'] == i]))"
   ]
  },
  {
   "cell_type": "code",
   "execution_count": 107,
   "metadata": {},
   "outputs": [
    {
     "data": {
      "image/png": "[encoded data removed]",
      "text/plain": [
       "<Figure size 432x288 with 1 Axes>"
      ]
     },
     "metadata": {
      "needs_background": "light"
     },
     "output_type": "display_data"
    }
   ],
   "source": [
    "from ssms.basic_simulators import simulator\n",
    "model = 'tradeoff_angle_no_bias'\n",
    "color_dict = {0: 'red',\n",
    "              1: 'green',\n",
    "              2: 'blue',\n",
    "              3: 'black'}\n",
    "\n",
    "rt_means_by_choice_2 = {i: [] for i in range(4)}\n",
    "params_tmp = ssms.config.model_config[model]['default_params']\n",
    "params_tmp[ssms.config.model_config[model]['params'].index('d')] = 0.0\n",
    "params_tmp[ssms.config.model_config[model]['params'].index('vh')] = 1.0\n",
    "params_tmp[ssms.config.model_config[model]['params'].index('vl2')] = 1.0 #1.0\n",
    "params_tmp[ssms.config.model_config[model]['params'].index('vl1')] = 0.0\n",
    "params_tmp[ssms.config.model_config[model]['params'].index('theta')] = 0.0\n",
    "\n",
    "for k in range(10):\n",
    "    sim_out = simulator(model = model, \n",
    "                        theta = params_tmp,\n",
    "                        n_samples = 50000)\n",
    "    for i in np.unique(sim_out['choices']):\n",
    "        plt.hist(sim_out['rts'][sim_out['choices'] == i], histtype = 'step', bins = 30, color = color_dict[i], alpha = 1)\n",
    "        rt_means_by_choice_2[i].append(np.mean(sim_out['rts'][sim_out['choices'] == i]))"
   ]
  },
  {
   "cell_type": "code",
   "execution_count": 108,
   "metadata": {},
   "outputs": [
    {
     "data": {
      "image/png": "[encoded data removed]",
      "text/plain": [
       "<Figure size 432x288 with 1 Axes>"
      ]
     },
     "metadata": {
      "needs_background": "light"
     },
     "output_type": "display_data"
    },
    {
     "data": {
      "image/png": "[encoded data removed]",
      "text/plain": [
       "<Figure size 432x288 with 1 Axes>"
      ]
     },
     "metadata": {
      "needs_background": "light"
     },
     "output_type": "display_data"
    },
    {
     "data": {
      "image/png": "[encoded data removed]",
      "text/plain": [
       "<Figure size 432x288 with 1 Axes>"
      ]
     },
     "metadata": {
      "needs_background": "light"
     },
     "output_type": "display_data"
    },
    {
     "data": {
      "image/png": "[encoded data removed]",
      "text/plain": [
       "<Figure size 432x288 with 1 Axes>"
      ]
     },
     "metadata": {
      "needs_background": "light"
     },
     "output_type": "display_data"
    }
   ],
   "source": [
    "for i in range(4):\n",
    "    plt.hist(rt_means_by_choice[i], histtype = 'step', color = 'red')\n",
    "    plt.hist(rt_means_by_choice_2[i], histtype = 'step', color = 'black')\n",
    "    plt.show()"
   ]
  },
  {
   "cell_type": "code",
   "execution_count": 66,
   "metadata": {},
   "outputs": [
    {
     "data": {
      "image/png": "[encoded data removed]",
      "text/plain": [
       "<Figure size 432x288 with 1 Axes>"
      ]
     },
     "metadata": {
      "needs_background": "light"
     },
     "output_type": "display_data"
    }
   ],
   "source": [
    "from matplotlib import pyplot as plt\n",
    "\n",
    "\n",
    "\n",
    "for i in np.unique(sim_out['choices']):\n",
    "    plt.hist(sim_out['rts'][sim_out['choices'] == i], histtype = 'step', bins = 30, color = color_dict[i], alpha = 0.5)"
   ]
  },
  {
   "cell_type": "code",
   "execution_count": 132,
   "metadata": {},
   "outputs": [
    {
     "data": {
      "text/plain": [
       "(10,)"
      ]
     },
     "execution_count": 132,
     "metadata": {},
     "output_type": "execute_result"
    }
   ],
   "source": [
    "np.tile(np.array([0], dtype = np.float32), 10).shape"
   ]
  },
  {
   "cell_type": "code",
   "execution_count": null,
   "metadata": {},
   "outputs": [],
   "source": []
  }
 ],
 "metadata": {
  "interpreter": {
   "hash": "c2404e761a8d4e2a34f63613cf4c9a9997cd3109cabb959a7904b2035989131a"
  },
  "kernelspec": {
   "display_name": "hddmnn_tutorial",
   "language": "python",
   "name": "python3"
  },
  "language_info": {
   "codemirror_mode": {
    "name": "ipython",
    "version": 3
   },
   "file_extension": ".py",
   "mimetype": "text/x-python",
   "name": "python",
   "nbconvert_exporter": "python",
   "pygments_lexer": "ipython3",
   "version": "3.8.10"
  },
  "orig_nbformat": 2
 },
 "nbformat": 4,
 "nbformat_minor": 2
}
