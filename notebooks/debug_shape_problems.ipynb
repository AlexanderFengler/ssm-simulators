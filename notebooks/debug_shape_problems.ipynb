{
 "cells": [
  {
   "cell_type": "code",
   "execution_count": 1,
   "metadata": {},
   "outputs": [],
   "source": [
    "import ssms\n",
    "from ssms.basic_simulators.simulator import simulator\n",
    "import cssm\n",
    "from matplotlib import pyplot as plt"
   ]
  },
  {
   "cell_type": "code",
   "execution_count": 2,
   "metadata": {},
   "outputs": [
    {
     "name": "stdout",
     "output_type": "stream",
     "text": [
      "('v', 0.0)\n",
      "('a', 1.0)\n",
      "('z', 0.5)\n",
      "('t', 0.25)\n",
      "('sz', 0.001)\n",
      "('sv', 0.001)\n",
      "('st', 0.001)\n"
     ]
    }
   ],
   "source": [
    "for i in zip(ssms.config.model_config[\"full_ddm_rv\"][\"params\"], \n",
    "\t\t\t ssms.config.model_config[\"full_ddm_rv\"][\"default_params\"]):\n",
    "\tprint(i)"
   ]
  },
  {
   "cell_type": "code",
   "execution_count": 3,
   "metadata": {},
   "outputs": [
    {
     "data": {
      "text/plain": [
       "{'t': 0}"
      ]
     },
     "execution_count": 3,
     "metadata": {},
     "output_type": "execute_result"
    }
   ],
   "source": [
    "dict((('t', 0),)) # , ('st', 2)))"
   ]
  },
  {
   "cell_type": "code",
   "execution_count": 6,
   "metadata": {},
   "outputs": [],
   "source": [
    "import numpy as np\n",
    "my_theta = dict(zip(ssms.config.model_config[\"full_ddm_rv\"][\"params\"], \n",
    "\t\t\t\t\tssms.config.model_config[\"full_ddm_rv\"][\"default_params\"]))\n",
    "my_theta['v'] = np.array([my_theta['v']]*10)"
   ]
  },
  {
   "cell_type": "code",
   "execution_count": 8,
   "metadata": {},
   "outputs": [],
   "source": [
    "out = simulator(model = \"full_ddm_rv\", \n",
    "\t\t  theta = my_theta)"
   ]
  },
  {
   "cell_type": "code",
   "execution_count": 12,
   "metadata": {},
   "outputs": [
    {
     "data": {
      "text/plain": [
       "{'v': array([0., 0., 0., 0., 0., 0., 0., 0., 0., 0.], dtype=float32),\n",
       " 'a': array([1., 1., 1., 1., 1., 1., 1., 1., 1., 1.], dtype=float32),\n",
       " 'z': array([0.5, 0.5, 0.5, 0.5, 0.5, 0.5, 0.5, 0.5, 0.5, 0.5], dtype=float32),\n",
       " 't': array([0.25, 0.25, 0.25, 0.25, 0.25, 0.25, 0.25, 0.25, 0.25, 0.25],\n",
       "       dtype=float32),\n",
       " 'z_dist': functools.partial(<bound method rv_generic.rvs of <scipy.stats._continuous_distns.uniform_gen object at 0x14f3359c0>>, loc=array([-0.001, -0.001, -0.001, -0.001, -0.001, -0.001, -0.001, -0.001,\n",
       "        -0.001, -0.001], dtype=float32), scale=array([0.002, 0.002, 0.002, 0.002, 0.002, 0.002, 0.002, 0.002, 0.002,\n",
       "        0.002], dtype=float32)),\n",
       " 'v_dist': functools.partial(<bound method rv_generic.rvs of <scipy.stats._continuous_distns.norm_gen object at 0x14d8938e0>>, loc=0, scale=array([0.001, 0.001, 0.001, 0.001, 0.001, 0.001, 0.001, 0.001, 0.001,\n",
       "        0.001], dtype=float32)),\n",
       " 't_dist': functools.partial(<bound method rv_generic.rvs of <scipy.stats._continuous_distns.uniform_gen object at 0x14f3359c0>>, loc=array([-0.001, -0.001, -0.001, -0.001, -0.001, -0.001, -0.001, -0.001,\n",
       "        -0.001, -0.001], dtype=float32), scale=array([0.002, 0.002, 0.002, 0.002, 0.002, 0.002, 0.002, 0.002, 0.002,\n",
       "        0.002], dtype=float32)),\n",
       " 'deadline': array([999., 999., 999., 999., 999., 999., 999., 999., 999., 999.],\n",
       "       dtype=float32),\n",
       " 's': 1.0,\n",
       " 'delta_t': 0.0010000000474974513,\n",
       " 'max_t': 20.0,\n",
       " 'n_samples': 1000,\n",
       " 'n_trials': 10,\n",
       " 'simulator': 'full_ddm_rv',\n",
       " 'boundary_fun_type': 'constant',\n",
       " 'possible_choices': [-1, 1],\n",
       " 'trajectory': array([[ 1.2602806e-03],\n",
       "        [ 1.9907062e-03],\n",
       "        [ 9.7255884e-03],\n",
       "        ...,\n",
       "        [-9.9900000e+02],\n",
       "        [-9.9900000e+02],\n",
       "        [-9.9900000e+02]], dtype=float32),\n",
       " 'boundary': array([1., 1., 1., ..., 1., 1., 1.], dtype=float32),\n",
       " 'model': 'full_ddm_rv'}"
      ]
     },
     "execution_count": 12,
     "metadata": {},
     "output_type": "execute_result"
    }
   ],
   "source": [
    "out['metadata']"
   ]
  },
  {
   "cell_type": "code",
   "execution_count": 22,
   "metadata": {},
   "outputs": [
    {
     "data": {
      "text/plain": [
       "array([0.21667262, 0.51916356, 0.07858902, 0.75129958, 0.98203186,\n",
       "       0.63231121, 0.71158048, 0.87939018, 0.82341418, 0.68397599])"
      ]
     },
     "execution_count": 22,
     "metadata": {},
     "output_type": "execute_result"
    }
   ],
   "source": [
    "from scipy.stats import uniform\n",
    "\n",
    "# (1, 1, 10) --> (10,)\n",
    "uniform.rvs(loc = 0, scale = 1, size = 10)"
   ]
  },
  {
   "cell_type": "code",
   "execution_count": 37,
   "metadata": {},
   "outputs": [
    {
     "data": {
      "text/plain": [
       "(3, 100)"
      ]
     },
     "execution_count": 37,
     "metadata": {},
     "output_type": "execute_result"
    }
   ],
   "source": [
    "# (1, 1, 10) --> (10,)\n",
    "uniform.rvs(loc = [10, 100, 1000], scale = 1, size = (100, 3)).T.shape"
   ]
  },
  {
   "cell_type": "code",
   "execution_count": null,
   "metadata": {},
   "outputs": [],
   "source": []
  }
 ],
 "metadata": {
  "kernelspec": {
   "display_name": "ssms_dev",
   "language": "python",
   "name": "ssms_dev"
  },
  "language_info": {
   "codemirror_mode": {
    "name": "ipython",
    "version": 3
   },
   "file_extension": ".py",
   "mimetype": "text/x-python",
   "name": "python",
   "nbconvert_exporter": "python",
   "pygments_lexer": "ipython3",
   "version": "3.10.12"
  },
  "orig_nbformat": 4
 },
 "nbformat": 4,
 "nbformat_minor": 2
}
