{
 "cells": [
  {
   "cell_type": "code",
   "execution_count": 1,
   "metadata": {},
   "outputs": [],
   "source": [
    "import ssms\n",
    "from matplotlib import pyplot as plt\n",
    "from ssms.basic_simulators.simulator import simulator\n",
    "import numpy as np"
   ]
  },
  {
   "cell_type": "code",
   "execution_count": 2,
   "metadata": {},
   "outputs": [
    {
     "ename": "NameError",
     "evalue": "name 'out' is not defined",
     "output_type": "error",
     "traceback": [
      "\u001b[0;31m---------------------------------------------------------------------------\u001b[0m",
      "\u001b[0;31mNameError\u001b[0m                                 Traceback (most recent call last)",
      "\u001b[1;32m/Users/afengler/Library/CloudStorage/OneDrive-Personal/proj_ssm_simulators/ssm-simulators/notebooks/test_deadline.ipynb Cell 2\u001b[0m line \u001b[0;36m1\n\u001b[0;32m----> <a href='vscode-notebook-cell:/Users/afengler/Library/CloudStorage/OneDrive-Personal/proj_ssm_simulators/ssm-simulators/notebooks/test_deadline.ipynb#X51sZmlsZQ%3D%3D?line=0'>1</a>\u001b[0m np\u001b[39m.\u001b[39munique(out[\u001b[39m\"\u001b[39m\u001b[39mmetadata\u001b[39m\u001b[39m\"\u001b[39m][\u001b[39m\"\u001b[39m\u001b[39mt\u001b[39m\u001b[39m\"\u001b[39m])\u001b[39m.\u001b[39mshape\n",
      "\u001b[0;31mNameError\u001b[0m: name 'out' is not defined"
     ]
    }
   ],
   "source": [
    "np.unique(out[\"metadata\"][\"t\"]).shape"
   ]
  },
  {
   "cell_type": "code",
   "execution_count": 4,
   "metadata": {},
   "outputs": [],
   "source": [
    "simulations = simulator(\n",
    "    model=\"angle_deadline\",\n",
    "    theta={\n",
    "        \"a\": np.ones(10000) * 1.0,\n",
    "        \"z\": np.ones(10000) * 0.5,\n",
    "        \"t\": np.ones(10000) * 0.5,\n",
    "        \"v\": np.ones(10000) * 1.0,\n",
    "        \"theta\": np.ones(10000) * 0.5,\n",
    "        \"deadline\": np.ones(10000) * 5.0,\n",
    "    },\n",
    "    n_samples=1,\n",
    "    max_t=20,\n",
    ")"
   ]
  },
  {
   "cell_type": "code",
   "execution_count": 5,
   "metadata": {},
   "outputs": [
    {
     "data": {
      "text/plain": [
       "{'rts': array([[1.4772485 ],\n",
       "        [0.6739382 ],\n",
       "        [0.7260139 ],\n",
       "        ...,\n",
       "        [0.69780004],\n",
       "        [0.90793693],\n",
       "        [0.86936617]], dtype=float32),\n",
       " 'choices': array([[ 1],\n",
       "        [ 1],\n",
       "        [-1],\n",
       "        ...,\n",
       "        [ 1],\n",
       "        [ 1],\n",
       "        [-1]], dtype=int32),\n",
       " 'metadata': {'v': array([1., 1., 1., ..., 1., 1., 1.], dtype=float32),\n",
       "  'a': array([1., 1., 1., ..., 1., 1., 1.], dtype=float32),\n",
       "  'z': array([0.5, 0.5, 0.5, ..., 0.5, 0.5, 0.5], dtype=float32),\n",
       "  't': array([0.5, 0.5, 0.5, ..., 0.5, 0.5, 0.5], dtype=float32),\n",
       "  's': 1.0,\n",
       "  'deadline': array([5., 5., 5., ..., 5., 5., 5.], dtype=float32),\n",
       "  'theta': array([0.5, 0.5, 0.5, ..., 0.5, 0.5, 0.5], dtype=float32),\n",
       "  'delta_t': 0.0010000000474974513,\n",
       "  'max_t': 20.0,\n",
       "  'n_samples': 1,\n",
       "  'n_trials': 10000,\n",
       "  'simulator': 'ddm_flexbound',\n",
       "  'boundary_fun_type': 'angle',\n",
       "  'possible_choices': [-1, 1],\n",
       "  'trajectory': array([[ 0.0000000e+00],\n",
       "         [ 3.4604587e-02],\n",
       "         [ 9.1727227e-02],\n",
       "         ...,\n",
       "         [-9.9900000e+02],\n",
       "         [-9.9900000e+02],\n",
       "         [-9.9900000e+02]], dtype=float32),\n",
       "  'boundary': array([ 1.       ,  0.9994537,  0.9989074, ..., -9.924958 , -9.925504 ,\n",
       "         -9.92605  ], dtype=float32),\n",
       "  'model': 'angle'},\n",
       " 'choice_p': array([[0.1811, 0.8189]]),\n",
       " 'choice_p_no_omission': array([[0.1811, 0.8189]]),\n",
       " 'omission_p': array([[0.]]),\n",
       " 'nogo_p': array([[0.8189]]),\n",
       " 'go_p': array([[0.1811]]),\n",
       " 'binned_128': array([[[0.000e+00, 0.000e+00],\n",
       "         [0.000e+00, 0.000e+00],\n",
       "         [0.000e+00, 0.000e+00],\n",
       "         [2.300e+01, 2.060e+02],\n",
       "         [3.100e+02, 1.953e+03],\n",
       "         [4.390e+02, 2.144e+03],\n",
       "         [3.610e+02, 1.626e+03],\n",
       "         [2.870e+02, 1.097e+03],\n",
       "         [2.030e+02, 6.610e+02],\n",
       "         [1.130e+02, 3.520e+02],\n",
       "         [5.500e+01, 1.240e+02],\n",
       "         [1.900e+01, 2.100e+01],\n",
       "         [1.000e+00, 5.000e+00],\n",
       "         [0.000e+00, 0.000e+00],\n",
       "         [0.000e+00, 0.000e+00],\n",
       "         [0.000e+00, 0.000e+00],\n",
       "         [0.000e+00, 0.000e+00],\n",
       "         [0.000e+00, 0.000e+00],\n",
       "         [0.000e+00, 0.000e+00],\n",
       "         [0.000e+00, 0.000e+00],\n",
       "         [0.000e+00, 0.000e+00],\n",
       "         [0.000e+00, 0.000e+00],\n",
       "         [0.000e+00, 0.000e+00],\n",
       "         [0.000e+00, 0.000e+00],\n",
       "         [0.000e+00, 0.000e+00],\n",
       "         [0.000e+00, 0.000e+00],\n",
       "         [0.000e+00, 0.000e+00],\n",
       "         [0.000e+00, 0.000e+00],\n",
       "         [0.000e+00, 0.000e+00],\n",
       "         [0.000e+00, 0.000e+00],\n",
       "         [0.000e+00, 0.000e+00],\n",
       "         [0.000e+00, 0.000e+00],\n",
       "         [0.000e+00, 0.000e+00],\n",
       "         [0.000e+00, 0.000e+00],\n",
       "         [0.000e+00, 0.000e+00],\n",
       "         [0.000e+00, 0.000e+00],\n",
       "         [0.000e+00, 0.000e+00],\n",
       "         [0.000e+00, 0.000e+00],\n",
       "         [0.000e+00, 0.000e+00],\n",
       "         [0.000e+00, 0.000e+00],\n",
       "         [0.000e+00, 0.000e+00],\n",
       "         [0.000e+00, 0.000e+00],\n",
       "         [0.000e+00, 0.000e+00],\n",
       "         [0.000e+00, 0.000e+00],\n",
       "         [0.000e+00, 0.000e+00],\n",
       "         [0.000e+00, 0.000e+00],\n",
       "         [0.000e+00, 0.000e+00],\n",
       "         [0.000e+00, 0.000e+00],\n",
       "         [0.000e+00, 0.000e+00],\n",
       "         [0.000e+00, 0.000e+00],\n",
       "         [0.000e+00, 0.000e+00],\n",
       "         [0.000e+00, 0.000e+00],\n",
       "         [0.000e+00, 0.000e+00],\n",
       "         [0.000e+00, 0.000e+00],\n",
       "         [0.000e+00, 0.000e+00],\n",
       "         [0.000e+00, 0.000e+00],\n",
       "         [0.000e+00, 0.000e+00],\n",
       "         [0.000e+00, 0.000e+00],\n",
       "         [0.000e+00, 0.000e+00],\n",
       "         [0.000e+00, 0.000e+00],\n",
       "         [0.000e+00, 0.000e+00],\n",
       "         [0.000e+00, 0.000e+00],\n",
       "         [0.000e+00, 0.000e+00],\n",
       "         [0.000e+00, 0.000e+00],\n",
       "         [0.000e+00, 0.000e+00],\n",
       "         [0.000e+00, 0.000e+00],\n",
       "         [0.000e+00, 0.000e+00],\n",
       "         [0.000e+00, 0.000e+00],\n",
       "         [0.000e+00, 0.000e+00],\n",
       "         [0.000e+00, 0.000e+00],\n",
       "         [0.000e+00, 0.000e+00],\n",
       "         [0.000e+00, 0.000e+00],\n",
       "         [0.000e+00, 0.000e+00],\n",
       "         [0.000e+00, 0.000e+00],\n",
       "         [0.000e+00, 0.000e+00],\n",
       "         [0.000e+00, 0.000e+00],\n",
       "         [0.000e+00, 0.000e+00],\n",
       "         [0.000e+00, 0.000e+00],\n",
       "         [0.000e+00, 0.000e+00],\n",
       "         [0.000e+00, 0.000e+00],\n",
       "         [0.000e+00, 0.000e+00],\n",
       "         [0.000e+00, 0.000e+00],\n",
       "         [0.000e+00, 0.000e+00],\n",
       "         [0.000e+00, 0.000e+00],\n",
       "         [0.000e+00, 0.000e+00],\n",
       "         [0.000e+00, 0.000e+00],\n",
       "         [0.000e+00, 0.000e+00],\n",
       "         [0.000e+00, 0.000e+00],\n",
       "         [0.000e+00, 0.000e+00],\n",
       "         [0.000e+00, 0.000e+00],\n",
       "         [0.000e+00, 0.000e+00],\n",
       "         [0.000e+00, 0.000e+00],\n",
       "         [0.000e+00, 0.000e+00],\n",
       "         [0.000e+00, 0.000e+00],\n",
       "         [0.000e+00, 0.000e+00],\n",
       "         [0.000e+00, 0.000e+00],\n",
       "         [0.000e+00, 0.000e+00],\n",
       "         [0.000e+00, 0.000e+00],\n",
       "         [0.000e+00, 0.000e+00],\n",
       "         [0.000e+00, 0.000e+00],\n",
       "         [0.000e+00, 0.000e+00],\n",
       "         [0.000e+00, 0.000e+00],\n",
       "         [0.000e+00, 0.000e+00],\n",
       "         [0.000e+00, 0.000e+00],\n",
       "         [0.000e+00, 0.000e+00],\n",
       "         [0.000e+00, 0.000e+00],\n",
       "         [0.000e+00, 0.000e+00],\n",
       "         [0.000e+00, 0.000e+00],\n",
       "         [0.000e+00, 0.000e+00],\n",
       "         [0.000e+00, 0.000e+00],\n",
       "         [0.000e+00, 0.000e+00],\n",
       "         [0.000e+00, 0.000e+00],\n",
       "         [0.000e+00, 0.000e+00],\n",
       "         [0.000e+00, 0.000e+00],\n",
       "         [0.000e+00, 0.000e+00],\n",
       "         [0.000e+00, 0.000e+00],\n",
       "         [0.000e+00, 0.000e+00],\n",
       "         [0.000e+00, 0.000e+00],\n",
       "         [0.000e+00, 0.000e+00],\n",
       "         [0.000e+00, 0.000e+00],\n",
       "         [0.000e+00, 0.000e+00],\n",
       "         [0.000e+00, 0.000e+00],\n",
       "         [0.000e+00, 0.000e+00],\n",
       "         [0.000e+00, 0.000e+00],\n",
       "         [0.000e+00, 0.000e+00],\n",
       "         [0.000e+00, 0.000e+00],\n",
       "         [0.000e+00, 0.000e+00],\n",
       "         [0.000e+00, 0.000e+00]]]),\n",
       " 'binned_256': array([[[0.000e+00, 0.000e+00],\n",
       "         [0.000e+00, 0.000e+00],\n",
       "         [0.000e+00, 0.000e+00],\n",
       "         [0.000e+00, 0.000e+00],\n",
       "         [0.000e+00, 0.000e+00],\n",
       "         [0.000e+00, 0.000e+00],\n",
       "         [0.000e+00, 0.000e+00],\n",
       "         [2.200e+01, 1.870e+02],\n",
       "         [1.140e+02, 7.980e+02],\n",
       "         [1.890e+02, 1.148e+03],\n",
       "         [2.060e+02, 1.089e+03],\n",
       "         [2.300e+02, 1.030e+03],\n",
       "         [1.870e+02, 9.220e+02],\n",
       "         [1.760e+02, 7.270e+02],\n",
       "         [1.450e+02, 6.140e+02],\n",
       "         [1.430e+02, 4.860e+02],\n",
       "         [1.070e+02, 3.910e+02],\n",
       "         [9.600e+01, 2.750e+02],\n",
       "         [7.800e+01, 2.130e+02],\n",
       "         [4.100e+01, 1.540e+02],\n",
       "         [3.100e+01, 8.300e+01],\n",
       "         [2.500e+01, 4.400e+01],\n",
       "         [7.000e+00, 1.700e+01],\n",
       "         [1.300e+01, 6.000e+00],\n",
       "         [1.000e+00, 3.000e+00],\n",
       "         [0.000e+00, 2.000e+00],\n",
       "         [0.000e+00, 0.000e+00],\n",
       "         [0.000e+00, 0.000e+00],\n",
       "         [0.000e+00, 0.000e+00],\n",
       "         [0.000e+00, 0.000e+00],\n",
       "         [0.000e+00, 0.000e+00],\n",
       "         [0.000e+00, 0.000e+00],\n",
       "         [0.000e+00, 0.000e+00],\n",
       "         [0.000e+00, 0.000e+00],\n",
       "         [0.000e+00, 0.000e+00],\n",
       "         [0.000e+00, 0.000e+00],\n",
       "         [0.000e+00, 0.000e+00],\n",
       "         [0.000e+00, 0.000e+00],\n",
       "         [0.000e+00, 0.000e+00],\n",
       "         [0.000e+00, 0.000e+00],\n",
       "         [0.000e+00, 0.000e+00],\n",
       "         [0.000e+00, 0.000e+00],\n",
       "         [0.000e+00, 0.000e+00],\n",
       "         [0.000e+00, 0.000e+00],\n",
       "         [0.000e+00, 0.000e+00],\n",
       "         [0.000e+00, 0.000e+00],\n",
       "         [0.000e+00, 0.000e+00],\n",
       "         [0.000e+00, 0.000e+00],\n",
       "         [0.000e+00, 0.000e+00],\n",
       "         [0.000e+00, 0.000e+00],\n",
       "         [0.000e+00, 0.000e+00],\n",
       "         [0.000e+00, 0.000e+00],\n",
       "         [0.000e+00, 0.000e+00],\n",
       "         [0.000e+00, 0.000e+00],\n",
       "         [0.000e+00, 0.000e+00],\n",
       "         [0.000e+00, 0.000e+00],\n",
       "         [0.000e+00, 0.000e+00],\n",
       "         [0.000e+00, 0.000e+00],\n",
       "         [0.000e+00, 0.000e+00],\n",
       "         [0.000e+00, 0.000e+00],\n",
       "         [0.000e+00, 0.000e+00],\n",
       "         [0.000e+00, 0.000e+00],\n",
       "         [0.000e+00, 0.000e+00],\n",
       "         [0.000e+00, 0.000e+00],\n",
       "         [0.000e+00, 0.000e+00],\n",
       "         [0.000e+00, 0.000e+00],\n",
       "         [0.000e+00, 0.000e+00],\n",
       "         [0.000e+00, 0.000e+00],\n",
       "         [0.000e+00, 0.000e+00],\n",
       "         [0.000e+00, 0.000e+00],\n",
       "         [0.000e+00, 0.000e+00],\n",
       "         [0.000e+00, 0.000e+00],\n",
       "         [0.000e+00, 0.000e+00],\n",
       "         [0.000e+00, 0.000e+00],\n",
       "         [0.000e+00, 0.000e+00],\n",
       "         [0.000e+00, 0.000e+00],\n",
       "         [0.000e+00, 0.000e+00],\n",
       "         [0.000e+00, 0.000e+00],\n",
       "         [0.000e+00, 0.000e+00],\n",
       "         [0.000e+00, 0.000e+00],\n",
       "         [0.000e+00, 0.000e+00],\n",
       "         [0.000e+00, 0.000e+00],\n",
       "         [0.000e+00, 0.000e+00],\n",
       "         [0.000e+00, 0.000e+00],\n",
       "         [0.000e+00, 0.000e+00],\n",
       "         [0.000e+00, 0.000e+00],\n",
       "         [0.000e+00, 0.000e+00],\n",
       "         [0.000e+00, 0.000e+00],\n",
       "         [0.000e+00, 0.000e+00],\n",
       "         [0.000e+00, 0.000e+00],\n",
       "         [0.000e+00, 0.000e+00],\n",
       "         [0.000e+00, 0.000e+00],\n",
       "         [0.000e+00, 0.000e+00],\n",
       "         [0.000e+00, 0.000e+00],\n",
       "         [0.000e+00, 0.000e+00],\n",
       "         [0.000e+00, 0.000e+00],\n",
       "         [0.000e+00, 0.000e+00],\n",
       "         [0.000e+00, 0.000e+00],\n",
       "         [0.000e+00, 0.000e+00],\n",
       "         [0.000e+00, 0.000e+00],\n",
       "         [0.000e+00, 0.000e+00],\n",
       "         [0.000e+00, 0.000e+00],\n",
       "         [0.000e+00, 0.000e+00],\n",
       "         [0.000e+00, 0.000e+00],\n",
       "         [0.000e+00, 0.000e+00],\n",
       "         [0.000e+00, 0.000e+00],\n",
       "         [0.000e+00, 0.000e+00],\n",
       "         [0.000e+00, 0.000e+00],\n",
       "         [0.000e+00, 0.000e+00],\n",
       "         [0.000e+00, 0.000e+00],\n",
       "         [0.000e+00, 0.000e+00],\n",
       "         [0.000e+00, 0.000e+00],\n",
       "         [0.000e+00, 0.000e+00],\n",
       "         [0.000e+00, 0.000e+00],\n",
       "         [0.000e+00, 0.000e+00],\n",
       "         [0.000e+00, 0.000e+00],\n",
       "         [0.000e+00, 0.000e+00],\n",
       "         [0.000e+00, 0.000e+00],\n",
       "         [0.000e+00, 0.000e+00],\n",
       "         [0.000e+00, 0.000e+00],\n",
       "         [0.000e+00, 0.000e+00],\n",
       "         [0.000e+00, 0.000e+00],\n",
       "         [0.000e+00, 0.000e+00],\n",
       "         [0.000e+00, 0.000e+00],\n",
       "         [0.000e+00, 0.000e+00],\n",
       "         [0.000e+00, 0.000e+00],\n",
       "         [0.000e+00, 0.000e+00],\n",
       "         [0.000e+00, 0.000e+00],\n",
       "         [0.000e+00, 0.000e+00],\n",
       "         [0.000e+00, 0.000e+00],\n",
       "         [0.000e+00, 0.000e+00],\n",
       "         [0.000e+00, 0.000e+00],\n",
       "         [0.000e+00, 0.000e+00],\n",
       "         [0.000e+00, 0.000e+00],\n",
       "         [0.000e+00, 0.000e+00],\n",
       "         [0.000e+00, 0.000e+00],\n",
       "         [0.000e+00, 0.000e+00],\n",
       "         [0.000e+00, 0.000e+00],\n",
       "         [0.000e+00, 0.000e+00],\n",
       "         [0.000e+00, 0.000e+00],\n",
       "         [0.000e+00, 0.000e+00],\n",
       "         [0.000e+00, 0.000e+00],\n",
       "         [0.000e+00, 0.000e+00],\n",
       "         [0.000e+00, 0.000e+00],\n",
       "         [0.000e+00, 0.000e+00],\n",
       "         [0.000e+00, 0.000e+00],\n",
       "         [0.000e+00, 0.000e+00],\n",
       "         [0.000e+00, 0.000e+00],\n",
       "         [0.000e+00, 0.000e+00],\n",
       "         [0.000e+00, 0.000e+00],\n",
       "         [0.000e+00, 0.000e+00],\n",
       "         [0.000e+00, 0.000e+00],\n",
       "         [0.000e+00, 0.000e+00],\n",
       "         [0.000e+00, 0.000e+00],\n",
       "         [0.000e+00, 0.000e+00],\n",
       "         [0.000e+00, 0.000e+00],\n",
       "         [0.000e+00, 0.000e+00],\n",
       "         [0.000e+00, 0.000e+00],\n",
       "         [0.000e+00, 0.000e+00],\n",
       "         [0.000e+00, 0.000e+00],\n",
       "         [0.000e+00, 0.000e+00],\n",
       "         [0.000e+00, 0.000e+00],\n",
       "         [0.000e+00, 0.000e+00],\n",
       "         [0.000e+00, 0.000e+00],\n",
       "         [0.000e+00, 0.000e+00],\n",
       "         [0.000e+00, 0.000e+00],\n",
       "         [0.000e+00, 0.000e+00],\n",
       "         [0.000e+00, 0.000e+00],\n",
       "         [0.000e+00, 0.000e+00],\n",
       "         [0.000e+00, 0.000e+00],\n",
       "         [0.000e+00, 0.000e+00],\n",
       "         [0.000e+00, 0.000e+00],\n",
       "         [0.000e+00, 0.000e+00],\n",
       "         [0.000e+00, 0.000e+00],\n",
       "         [0.000e+00, 0.000e+00],\n",
       "         [0.000e+00, 0.000e+00],\n",
       "         [0.000e+00, 0.000e+00],\n",
       "         [0.000e+00, 0.000e+00],\n",
       "         [0.000e+00, 0.000e+00],\n",
       "         [0.000e+00, 0.000e+00],\n",
       "         [0.000e+00, 0.000e+00],\n",
       "         [0.000e+00, 0.000e+00],\n",
       "         [0.000e+00, 0.000e+00],\n",
       "         [0.000e+00, 0.000e+00],\n",
       "         [0.000e+00, 0.000e+00],\n",
       "         [0.000e+00, 0.000e+00],\n",
       "         [0.000e+00, 0.000e+00],\n",
       "         [0.000e+00, 0.000e+00],\n",
       "         [0.000e+00, 0.000e+00],\n",
       "         [0.000e+00, 0.000e+00],\n",
       "         [0.000e+00, 0.000e+00],\n",
       "         [0.000e+00, 0.000e+00],\n",
       "         [0.000e+00, 0.000e+00],\n",
       "         [0.000e+00, 0.000e+00],\n",
       "         [0.000e+00, 0.000e+00],\n",
       "         [0.000e+00, 0.000e+00],\n",
       "         [0.000e+00, 0.000e+00],\n",
       "         [0.000e+00, 0.000e+00],\n",
       "         [0.000e+00, 0.000e+00],\n",
       "         [0.000e+00, 0.000e+00],\n",
       "         [0.000e+00, 0.000e+00],\n",
       "         [0.000e+00, 0.000e+00],\n",
       "         [0.000e+00, 0.000e+00],\n",
       "         [0.000e+00, 0.000e+00],\n",
       "         [0.000e+00, 0.000e+00],\n",
       "         [0.000e+00, 0.000e+00],\n",
       "         [0.000e+00, 0.000e+00],\n",
       "         [0.000e+00, 0.000e+00],\n",
       "         [0.000e+00, 0.000e+00],\n",
       "         [0.000e+00, 0.000e+00],\n",
       "         [0.000e+00, 0.000e+00],\n",
       "         [0.000e+00, 0.000e+00],\n",
       "         [0.000e+00, 0.000e+00],\n",
       "         [0.000e+00, 0.000e+00],\n",
       "         [0.000e+00, 0.000e+00],\n",
       "         [0.000e+00, 0.000e+00],\n",
       "         [0.000e+00, 0.000e+00],\n",
       "         [0.000e+00, 0.000e+00],\n",
       "         [0.000e+00, 0.000e+00],\n",
       "         [0.000e+00, 0.000e+00],\n",
       "         [0.000e+00, 0.000e+00],\n",
       "         [0.000e+00, 0.000e+00],\n",
       "         [0.000e+00, 0.000e+00],\n",
       "         [0.000e+00, 0.000e+00],\n",
       "         [0.000e+00, 0.000e+00],\n",
       "         [0.000e+00, 0.000e+00],\n",
       "         [0.000e+00, 0.000e+00],\n",
       "         [0.000e+00, 0.000e+00],\n",
       "         [0.000e+00, 0.000e+00],\n",
       "         [0.000e+00, 0.000e+00],\n",
       "         [0.000e+00, 0.000e+00],\n",
       "         [0.000e+00, 0.000e+00],\n",
       "         [0.000e+00, 0.000e+00],\n",
       "         [0.000e+00, 0.000e+00],\n",
       "         [0.000e+00, 0.000e+00],\n",
       "         [0.000e+00, 0.000e+00],\n",
       "         [0.000e+00, 0.000e+00],\n",
       "         [0.000e+00, 0.000e+00],\n",
       "         [0.000e+00, 0.000e+00],\n",
       "         [0.000e+00, 0.000e+00],\n",
       "         [0.000e+00, 0.000e+00],\n",
       "         [0.000e+00, 0.000e+00],\n",
       "         [0.000e+00, 0.000e+00],\n",
       "         [0.000e+00, 0.000e+00],\n",
       "         [0.000e+00, 0.000e+00],\n",
       "         [0.000e+00, 0.000e+00],\n",
       "         [0.000e+00, 0.000e+00],\n",
       "         [0.000e+00, 0.000e+00],\n",
       "         [0.000e+00, 0.000e+00],\n",
       "         [0.000e+00, 0.000e+00],\n",
       "         [0.000e+00, 0.000e+00],\n",
       "         [0.000e+00, 0.000e+00],\n",
       "         [0.000e+00, 0.000e+00],\n",
       "         [0.000e+00, 0.000e+00],\n",
       "         [0.000e+00, 0.000e+00],\n",
       "         [0.000e+00, 0.000e+00]]])}"
      ]
     },
     "execution_count": 5,
     "metadata": {},
     "output_type": "execute_result"
    }
   ],
   "source": [
    "simulations"
   ]
  },
  {
   "cell_type": "code",
   "execution_count": null,
   "metadata": {},
   "outputs": [],
   "source": [
    "'ddm_boundaryfun_driftfun_deadline'"
   ]
  },
  {
   "cell_type": "code",
   "execution_count": 7,
   "metadata": {},
   "outputs": [
    {
     "data": {
      "text/plain": [
       "{'rts': array([[1.2078639 ],\n",
       "        [1.0145779 ],\n",
       "        [0.824644  ],\n",
       "        ...,\n",
       "        [0.87732315],\n",
       "        [1.1183238 ],\n",
       "        [1.1726061 ]], dtype=float32),\n",
       " 'choices': array([[ 1],\n",
       "        [ 1],\n",
       "        [ 1],\n",
       "        ...,\n",
       "        [ 1],\n",
       "        [-1],\n",
       "        [ 1]], dtype=int32),\n",
       " 'metadata': {'v': array([1., 1., 1., ..., 1., 1., 1.], dtype=float32),\n",
       "  'a': array([1., 1., 1., ..., 1., 1., 1.], dtype=float32),\n",
       "  'z': array([0.5, 0.5, 0.5, ..., 0.5, 0.5, 0.5], dtype=float32),\n",
       "  't': array([0.5, 0.5, 0.5, ..., 0.5, 0.5, 0.5], dtype=float32),\n",
       "  's': 1.0,\n",
       "  'deadline': array([999., 999., 999., ..., 999., 999., 999.], dtype=float32),\n",
       "  'theta': array([0.5, 0.5, 0.5, ..., 0.5, 0.5, 0.5], dtype=float32),\n",
       "  'delta_t': 0.0010000000474974513,\n",
       "  'max_t': 20.0,\n",
       "  'n_samples': 1,\n",
       "  'n_trials': 10000,\n",
       "  'simulator': 'ddm_flexbound',\n",
       "  'boundary_fun_type': 'angle',\n",
       "  'possible_choices': [-1, 1],\n",
       "  'trajectory': array([[ 0.0000000e+00],\n",
       "         [ 4.4858374e-02],\n",
       "         [-3.6620833e-03],\n",
       "         ...,\n",
       "         [-9.9900000e+02],\n",
       "         [-9.9900000e+02],\n",
       "         [-9.9900000e+02]], dtype=float32),\n",
       "  'boundary': array([ 1.       ,  0.9994537,  0.9989074, ..., -9.924958 , -9.925504 ,\n",
       "         -9.92605  ], dtype=float32),\n",
       "  'model': 'angle'}}"
      ]
     },
     "execution_count": 7,
     "metadata": {},
     "output_type": "execute_result"
    }
   ],
   "source": [
    "simulations"
   ]
  },
  {
   "cell_type": "code",
   "execution_count": 4,
   "metadata": {},
   "outputs": [],
   "source": [
    "out_dict = {}\n",
    "out_dict['choice_p'] = {}\n",
    "out_dict['choice_p_no_omission'] = {}\n",
    "out_dict['p_omission'] = {}\n",
    "for choice in simulations['metadata']['possible_choices']:\n",
    "    out_dict['choice_p'][choice] = np.array([(simulations[\"choices\"] == choice).sum() / simulations[\"choices\"].flatten().shape[0]])\n",
    "    out_dict['choice_p_no_omission'][choice] = np.array([(simulations[\"choices\"][simulations['rts'] != -999] == choice).sum() / simulations[\"choices\"].flatten().shape[0]])\n",
    "    out_dict['p_omission'][choice] = np.array([(simulations[\"rts\"] == -999).sum() / simulations[\"choices\"].flatten().shape[0]])"
   ]
  },
  {
   "cell_type": "code",
   "execution_count": 11,
   "metadata": {},
   "outputs": [
    {
     "ename": "NameError",
     "evalue": "name 'simulations' is not defined",
     "output_type": "error",
     "traceback": [
      "\u001b[0;31m---------------------------------------------------------------------------\u001b[0m",
      "\u001b[0;31mNameError\u001b[0m                                 Traceback (most recent call last)",
      "\u001b[1;32m/Users/afengler/Library/CloudStorage/OneDrive-Personal/proj_ssm_simulators/ssm-simulators/notebooks/test_deadline.ipynb Cell 7\u001b[0m line \u001b[0;36m1\n\u001b[0;32m----> <a href='vscode-notebook-cell:/Users/afengler/Library/CloudStorage/OneDrive-Personal/proj_ssm_simulators/ssm-simulators/notebooks/test_deadline.ipynb#Y124sZmlsZQ%3D%3D?line=0'>1</a>\u001b[0m simulations[\u001b[39m'\u001b[39m\u001b[39mrts\u001b[39m\u001b[39m'\u001b[39m] \u001b[39m!=\u001b[39m \u001b[39m-\u001b[39m\u001b[39m999\u001b[39m\n",
      "\u001b[0;31mNameError\u001b[0m: name 'simulations' is not defined"
     ]
    }
   ],
   "source": [
    "simulations['rts'] != -999"
   ]
  },
  {
   "cell_type": "code",
   "execution_count": 5,
   "metadata": {},
   "outputs": [
    {
     "data": {
      "text/plain": [
       "{'choice_p': {-1: array([0.2386]), 1: array([0.7614])},\n",
       " 'choice_p_no_omission': {-1: array([0.0895]), 1: array([0.4996])},\n",
       " 'p_omission': {-1: array([0.4109]), 1: array([0.4109])}}"
      ]
     },
     "execution_count": 5,
     "metadata": {},
     "output_type": "execute_result"
    }
   ],
   "source": [
    "out_dict"
   ]
  },
  {
   "cell_type": "code",
   "execution_count": 6,
   "metadata": {},
   "outputs": [
    {
     "data": {
      "text/plain": [
       "{'v': array([1., 1., 1., ..., 1., 1., 1.], dtype=float32),\n",
       " 'a': array([1.5, 1.5, 1.5, ..., 1.5, 1.5, 1.5], dtype=float32),\n",
       " 'z': array([0.5, 0.5, 0.5, ..., 0.5, 0.5, 0.5], dtype=float32),\n",
       " 't': array([0.5, 0.5, 0.5, ..., 0.5, 0.5, 0.5], dtype=float32),\n",
       " 's': 1.0,\n",
       " 'deadline': array([1., 1., 1., ..., 1., 1., 1.], dtype=float32),\n",
       " 'delta_t': 0.0010000000474974513,\n",
       " 'max_t': 20.0,\n",
       " 'n_samples': 1,\n",
       " 'n_trials': 10000,\n",
       " 'simulator': 'ddm_flexbound',\n",
       " 'boundary_fun_type': 'angle',\n",
       " 'possible_choices': [-1, 1],\n",
       " 'trajectory': array([[ 0.000000e+00],\n",
       "        [-2.215560e-02],\n",
       "        [-4.701581e-03],\n",
       "        ...,\n",
       "        [-9.990000e+02],\n",
       "        [-9.990000e+02],\n",
       "        [-9.990000e+02]], dtype=float32),\n",
       " 'boundary': array([  1.5      ,   1.4984426,   1.4968852, ..., -29.645042 ,\n",
       "        -29.646599 , -29.648155 ], dtype=float32),\n",
       " 'model': 'angle'}"
      ]
     },
     "execution_count": 6,
     "metadata": {},
     "output_type": "execute_result"
    }
   ],
   "source": [
    "out['metadata']"
   ]
  },
  {
   "cell_type": "code",
   "execution_count": 24,
   "metadata": {},
   "outputs": [
    {
     "name": "stderr",
     "output_type": "stream",
     "text": [
      "/Users/afengler/Library/CloudStorage/OneDrive-Personal/proj_ssm_simulators/ssm-simulators/ssms/basic_simulators/simulator.py:377: UserWarning: Deadline model request, and theta not supplied as dict.Make sure to supply the deadline parameters in last position!\n",
      "  warnings.warn(\n"
     ]
    }
   ],
   "source": [
    "from copy import deepcopy\n",
    "v = 1.0\n",
    "a = 2.0\n",
    "z = 0.5\n",
    "t = 0.0\n",
    "theta = 0.7\n",
    "deadline = 10\n",
    "out = simulator(model=\"angle_deadline\", theta=[v, a, z, t, theta, deadline], n_samples=10000, max_t=20)\n",
    "out_log = deepcopy(out) \n",
    "out_log[\"log_rts\"] = np.ones(out[\"rts\"].shape) * -999\n",
    "out_log[\"log_rts\"][out_log['rts'] != -999] = np.log(out_log[\"rts\"][out_log['rts'] != -999])\n",
    "del out_log['rts']"
   ]
  },
  {
   "cell_type": "code",
   "execution_count": 31,
   "metadata": {},
   "outputs": [
    {
     "data": {
      "text/plain": [
       "(array([0.00312946, 0.00521577, 0.00834523, 0.02190623, 0.02920831,\n",
       "        0.03442408, 0.040683  , 0.06363239, 0.07510708, 0.07197762,\n",
       "        0.08032285, 0.07510708, 0.08866808, 0.067805  , 0.08449547,\n",
       "        0.07093446, 0.05111454, 0.05215769, 0.04902823, 0.02399254,\n",
       "        0.01147469, 0.00625892, 0.00312946, 0.        , 0.        ,\n",
       "        0.        , 0.00312946, 0.03442408, 0.22010547, 0.49654125,\n",
       "        0.71247411, 0.87520611, 0.93153642, 0.90545758, 0.91797542,\n",
       "        0.83660942, 0.70830149, 0.58103672, 0.50071387, 0.44438356,\n",
       "        0.36719017, 0.27643578, 0.21906232, 0.14499839, 0.11579008,\n",
       "        0.06676185, 0.03129462, 0.01043154, 0.00938839, 0.00417262]),\n",
       " array([-2.40115374, -2.30529061, -2.20942747, -2.11356434, -2.01770121,\n",
       "        -1.92183808, -1.82597494, -1.73011181, -1.63424868, -1.53838554,\n",
       "        -1.44252241, -1.34665928, -1.25079614, -1.15493301, -1.05906988,\n",
       "        -0.96320675, -0.86734361, -0.77148048, -0.67561735, -0.57975421,\n",
       "        -0.48389108, -0.38802795, -0.29216481, -0.19630168, -0.10043855,\n",
       "        -0.00457542,  0.09128772,  0.18715085,  0.28301398,  0.37887712,\n",
       "         0.47474025,  0.57060338,  0.66646652,  0.76232965,  0.85819278,\n",
       "         0.95405591,  1.04991905,  1.14578218,  1.24164531,  1.33750845,\n",
       "         1.43337158,  1.52923471,  1.62509784,  1.72096098,  1.81682411,\n",
       "         1.91268724,  2.00855038,  2.10441351,  2.20027664,  2.29613978,\n",
       "         2.39200291]),\n",
       " [<matplotlib.patches.Polygon at 0x139b58040>])"
      ]
     },
     "execution_count": 31,
     "metadata": {},
     "output_type": "execute_result"
    },
    {
     "data": {
      "image/png": "[encoded data removed]",
      "text/plain": [
       "<Figure size 640x480 with 1 Axes>"
      ]
     },
     "metadata": {},
     "output_type": "display_data"
    }
   ],
   "source": [
    "my_kde = ssms.support_utils.kde_class.LogKDE(out)\n",
    "my_kde_shifted_log = ssms.support_utils.kde_class.LogKDEshifted(out_log)\n",
    "my_kde_shifted = ssms.support_utils.kde_class.LogKDEshifted(out)\n",
    "\n",
    "sample_kde = my_kde.kde_sample(10000)\n",
    "sample_kde_shifted = my_kde_shifted.kde_sample(10000)\n",
    "sample_kde_shifted_log = my_kde_shifted_log.kde_sample(10000)\n",
    "plt.hist(sample_kde[0] * sample_kde[1], bins = 50, density=True, histtype='step', color='blue')\n",
    "plt.hist(sample_kde_shifted['rts'] * sample_kde_shifted['choices'], bins = 50, density=True, histtype='step', color='red')\n",
    "plt.hist(sample_kde_shifted_log['rts'] * sample_kde_shifted_log['choices'], bins = 50, density=True, histtype='step', color='green')"
   ]
  },
  {
   "cell_type": "code",
   "execution_count": 27,
   "metadata": {},
   "outputs": [
    {
     "data": {
      "text/plain": [
       "(array([[0.42254475],\n",
       "        [0.4172195 ],\n",
       "        [1.44519658],\n",
       "        ...,\n",
       "        [0.57311077],\n",
       "        [1.08196257],\n",
       "        [0.70934649]]),\n",
       " array([[-1.],\n",
       "        [-1.],\n",
       "        [-1.],\n",
       "        ...,\n",
       "        [ 1.],\n",
       "        [ 1.],\n",
       "        [ 1.]]),\n",
       " {'v': array([1.], dtype=float32),\n",
       "  'a': array([2.], dtype=float32),\n",
       "  'z': array([0.5], dtype=float32),\n",
       "  't': array([0.], dtype=float32),\n",
       "  's': 1.0,\n",
       "  'deadline': array([10.], dtype=float32),\n",
       "  'theta': array([0.7], dtype=float32),\n",
       "  'delta_t': 0.0010000000474974513,\n",
       "  'max_t': 20.0,\n",
       "  'n_samples': 10000,\n",
       "  'n_trials': 1,\n",
       "  'simulator': 'ddm_flexbound',\n",
       "  'boundary_fun_type': 'angle',\n",
       "  'possible_choices': [-1, 1],\n",
       "  'trajectory': array([[ 0.0000000e+00],\n",
       "         [-1.9366566e-02],\n",
       "         [ 3.6493689e-04],\n",
       "         ...,\n",
       "         [-9.9900000e+02],\n",
       "         [-9.9900000e+02],\n",
       "         [-9.9900000e+02]], dtype=float32),\n",
       "  'boundary': array([  2.       ,   1.9991577,   1.9983155, ..., -14.844082 ,\n",
       "         -14.844925 , -14.845766 ], dtype=float32),\n",
       "  'model': 'angle'})"
      ]
     },
     "execution_count": 27,
     "metadata": {},
     "output_type": "execute_result"
    }
   ],
   "source": [
    "sample_kde"
   ]
  },
  {
   "cell_type": "code",
   "execution_count": null,
   "metadata": {},
   "outputs": [],
   "source": [
    "from matplotlib import pyplot as plt\n",
    "\n",
    "plt.plot(data_1[0], np.exp(evals_1), color=\"blue\")\n",
    "plt.plot(data_m1[0] * (-1), np.exp(evals_m1), color=\"blue\")\n",
    "plt.plot(data_1_shifted[0], np.exp(evals_1_shifted), color=\"red\")\n",
    "plt.plot(data_m1_shifted[0] * (-1), np.exp(evals_m1_shifted), color=\"red\")\n",
    "\n",
    "plt.hist(out[\"rts\"][out[\"rts\"] != -999] * out[\"choices\"][out[\"rts\"] != -999], bins=40, histtype=\"step\", density=True)"
   ]
  },
  {
   "cell_type": "code",
   "execution_count": 8,
   "metadata": {},
   "outputs": [],
   "source": [
    "my_kde = ssms.support_utils.kde_class.LogKDE(out)"
   ]
  },
  {
   "cell_type": "code",
   "execution_count": 19,
   "metadata": {},
   "outputs": [
    {
     "data": {
      "text/plain": [
       "(10000, 1)"
      ]
     },
     "execution_count": 19,
     "metadata": {},
     "output_type": "execute_result"
    }
   ],
   "source": [
    "my_kde.kde_eval((data_1['rts'], data_1['choices']))\n",
    "my_kde.kde_sample(n_samples = 10000)"
   ]
  },
  {
   "cell_type": "code",
   "execution_count": 23,
   "metadata": {},
   "outputs": [
    {
     "data": {
      "text/plain": [
       "(10000, 1)"
      ]
     },
     "execution_count": 23,
     "metadata": {},
     "output_type": "execute_result"
    }
   ],
   "source": [
    "my_kde_shifted.kde_sample(n_samples=10000)['rts'].shape"
   ]
  },
  {
   "cell_type": "code",
   "execution_count": 21,
   "metadata": {},
   "outputs": [],
   "source": [
    "my_kde_shifted_log = ssms.support_utils.kde_class.LogKDEshifted(out_log)\n",
    "my_kde_shifted = ssms.support_utils.kde_class.LogKDEshifted(out)"
   ]
  },
  {
   "cell_type": "code",
   "execution_count": 13,
   "metadata": {},
   "outputs": [],
   "source": [
    "data_1 = {'rts': np.linspace(0.01, 10, 1000),\n",
    "          'choices': np.ones(1000)}\n",
    "data_m1 = {'rts': np.linspace(0.01, 10, 1000), \n",
    "          'choices': (-1) * np.ones(1000)}\n",
    "\n",
    "data_l1 = {'log_rts': np.log(np.linspace(0.01, 10, 1000)),\n",
    "          'choices': np.ones(1000)}\n",
    "data_lm1 = {'log_rts': np.log(np.linspace(0.01, 10, 1000)),\n",
    "          'choices': (-1) * np.ones(1000)}\n",
    "\n",
    "# data_m1 = (np.linspace(0.01, 10, 1000), np.ones(1000) * (-1))\n",
    "\n",
    "# data_1_shifted = (np.linspace(0.01, 10, 1000), np.ones(1000))\n",
    "# data_m1_shifted = (np.linspace(0.01, 10, 1000), np.ones(1000) * (-1))\n",
    "\n",
    "# data_l1 = np.log(data_1)"
   ]
  },
  {
   "cell_type": "code",
   "execution_count": 14,
   "metadata": {},
   "outputs": [
    {
     "ename": "NameError",
     "evalue": "name 'my_kde_shifted' is not defined",
     "output_type": "error",
     "traceback": [
      "\u001b[0;31m---------------------------------------------------------------------------\u001b[0m",
      "\u001b[0;31mNameError\u001b[0m                                 Traceback (most recent call last)",
      "\u001b[1;32m/Users/afengler/Library/CloudStorage/OneDrive-Personal/proj_ssm_simulators/ssm-simulators/notebooks/test_deadline.ipynb Cell 15\u001b[0m line \u001b[0;36m1\n\u001b[0;32m----> <a href='vscode-notebook-cell:/Users/afengler/Library/CloudStorage/OneDrive-Personal/proj_ssm_simulators/ssm-simulators/notebooks/test_deadline.ipynb#Y145sZmlsZQ%3D%3D?line=0'>1</a>\u001b[0m evals_1 \u001b[39m=\u001b[39m my_kde_shifted\u001b[39m.\u001b[39mkde_eval(data_1)\n\u001b[1;32m      <a href='vscode-notebook-cell:/Users/afengler/Library/CloudStorage/OneDrive-Personal/proj_ssm_simulators/ssm-simulators/notebooks/test_deadline.ipynb#Y145sZmlsZQ%3D%3D?line=1'>2</a>\u001b[0m evals_m1 \u001b[39m=\u001b[39m my_kde_shifted\u001b[39m.\u001b[39mkde_eval(data_m1)\n\u001b[1;32m      <a href='vscode-notebook-cell:/Users/afengler/Library/CloudStorage/OneDrive-Personal/proj_ssm_simulators/ssm-simulators/notebooks/test_deadline.ipynb#Y145sZmlsZQ%3D%3D?line=3'>4</a>\u001b[0m evals_l1 \u001b[39m=\u001b[39m my_kde_shifted\u001b[39m.\u001b[39mkde_eval(data_1)\n",
      "\u001b[0;31mNameError\u001b[0m: name 'my_kde_shifted' is not defined"
     ]
    }
   ],
   "source": [
    "evals_1 = my_kde_shifted.kde_eval(data_1)\n",
    "evals_m1 = my_kde_shifted.kde_eval(data_m1)\n",
    "\n",
    "evals_l1 = my_kde_shifted.kde_eval(data_1)\n",
    "print('this is the problem')\n",
    "evals_lm1 = my_kde_shifted.kde_eval(data_lm1)\n",
    "\n",
    "# evals_1_shifted = my_kde_shifted.kde_eval(data_1_shifted)\n",
    "# evals_m1_shifted = my_kde_shifted.kde_eval(data_m1_shifted)"
   ]
  },
  {
   "cell_type": "code",
   "execution_count": 31,
   "metadata": {},
   "outputs": [
    {
     "name": "stdout",
     "output_type": "stream",
     "text": [
      "first\n",
      "(1000,)\n",
      "second\n",
      "(1000,)\n",
      "first\n",
      "(1000,)\n",
      "second\n",
      "(1000,)\n"
     ]
    },
    {
     "data": {
      "text/plain": [
       "[<matplotlib.lines.Line2D at 0x2bfdce560>]"
      ]
     },
     "execution_count": 31,
     "metadata": {},
     "output_type": "execute_result"
    },
    {
     "data": {
      "image/png": "[encoded data removed]",
      "text/plain": [
       "<Figure size 640x480 with 1 Axes>"
      ]
     },
     "metadata": {},
     "output_type": "display_data"
    }
   ],
   "source": [
    "# my_kde_shifted.kde_eval(data_1)\n",
    "# my_kde_log_shifted.kde_eval(data_1)\n",
    "from matplotlib import pyplot as plt\n",
    "plt.plot(data_1['rts'], np.exp(my_kde_shifted.kde_eval(data_1)), color=\"blue\", label='')\n",
    "plt.plot(data_m1['rts'] * (-1), np.exp(my_kde_shifted.kde_eval(data_m1)), color=\"blue\", label='')"
   ]
  },
  {
   "cell_type": "code",
   "execution_count": 32,
   "metadata": {},
   "outputs": [
    {
     "name": "stdout",
     "output_type": "stream",
     "text": [
      "pre\n",
      "(1000, 1)\n",
      "first\n",
      "(1000,)\n",
      "second\n",
      "(1000,)\n",
      "pre\n",
      "(1000, 1)\n",
      "first\n",
      "(1000,)\n",
      "second\n",
      "(1000,)\n"
     ]
    },
    {
     "data": {
      "text/plain": [
       "[<matplotlib.lines.Line2D at 0x2bfe619f0>]"
      ]
     },
     "execution_count": 32,
     "metadata": {},
     "output_type": "execute_result"
    },
    {
     "data": {
      "image/png": "[encoded data removed]",
      "text/plain": [
       "<Figure size 640x480 with 1 Axes>"
      ]
     },
     "metadata": {},
     "output_type": "display_data"
    }
   ],
   "source": [
    "plt.plot(np.exp(data_l1['log_rts']), np.exp(np.squeeze(my_kde_shifted.kde_eval(data_l1)) - np.log(np.exp(data_lm1['log_rts']) - t)), color=\"blue\", label='')\n",
    "plt.plot(np.exp(data_lm1['log_rts']) * (-1), np.exp(np.squeeze(my_kde_shifted.kde_eval(data_lm1)) - np.log(np.exp(data_lm1['log_rts']) - t)), color=\"blue\", label='')"
   ]
  },
  {
   "cell_type": "code",
   "execution_count": 23,
   "metadata": {},
   "outputs": [
    {
     "name": "stdout",
     "output_type": "stream",
     "text": [
      "pre\n",
      "(1000, 1)\n",
      "first\n",
      "(1000,)\n",
      "second\n",
      "(1000,)\n"
     ]
    },
    {
     "data": {
      "text/plain": [
       "(1000,)"
      ]
     },
     "execution_count": 23,
     "metadata": {},
     "output_type": "execute_result"
    }
   ],
   "source": [
    "np.squeeze(np.exp(my_kde_shifted.kde_eval(data_l1))).shape"
   ]
  },
  {
   "cell_type": "code",
   "execution_count": 19,
   "metadata": {},
   "outputs": [
    {
     "name": "stdout",
     "output_type": "stream",
     "text": [
      "pre\n",
      "(1000, 1)\n",
      "first\n",
      "(1000,)\n",
      "second\n",
      "(1000,)\n"
     ]
    },
    {
     "data": {
      "text/plain": [
       "(1000, 1)"
      ]
     },
     "execution_count": 19,
     "metadata": {},
     "output_type": "execute_result"
    }
   ],
   "source": [
    "my_kde_shifted.kde_eval(data_l1).shape"
   ]
  },
  {
   "cell_type": "code",
   "execution_count": 23,
   "metadata": {},
   "outputs": [
    {
     "name": "stderr",
     "output_type": "stream",
     "text": [
      "/var/folders/gx/s43vynx550qbypcxm83fv56dzq4hgg/T/ipykernel_2400/1136789726.py:1: RuntimeWarning: divide by zero encountered in log\n",
      "  np.log(np.exp(data_lm1['log_rts']) - t)\n",
      "/var/folders/gx/s43vynx550qbypcxm83fv56dzq4hgg/T/ipykernel_2400/1136789726.py:1: RuntimeWarning: invalid value encountered in log\n",
      "  np.log(np.exp(data_lm1['log_rts']) - t)\n"
     ]
    },
    {
     "data": {
      "text/plain": [
       "array([        nan,         nan,         nan,         nan,         nan,\n",
       "               nan,         nan,         nan,         nan,         nan,\n",
       "               nan,         nan,         nan,         nan,         nan,\n",
       "               nan,         nan,         nan,         nan,         nan,\n",
       "               nan,         nan,         nan,         nan,         nan,\n",
       "               nan,         nan,         nan,         nan,         nan,\n",
       "               nan,         nan,         nan,         nan,         nan,\n",
       "               nan,         nan,         nan,         nan,         nan,\n",
       "               nan,         nan,         nan,         nan,         nan,\n",
       "               nan,         nan,         nan,         nan,         nan,\n",
       "               nan,         nan,         nan,         nan,         nan,\n",
       "               nan,         nan,         nan,         nan,         nan,\n",
       "               nan,         nan,         nan,         nan,         nan,\n",
       "               nan,         nan,         nan,         nan,         nan,\n",
       "               nan,         nan,         nan,         nan,         nan,\n",
       "               nan,         nan,         nan,         nan,         nan,\n",
       "               nan,         nan,         nan,         nan,         nan,\n",
       "               nan,         nan,         nan,         nan,         nan,\n",
       "               nan,         nan,         nan,         nan,         nan,\n",
       "               nan,         nan,         nan,         nan,        -inf,\n",
       "       -4.60517019, -3.91202301, -3.5065579 , -3.21887582, -2.99573227,\n",
       "       -2.81341072, -2.65926004, -2.52572864, -2.40794561, -2.30258509,\n",
       "       -2.20727491, -2.12026354, -2.04022083, -1.96611286, -1.89711998,\n",
       "       -1.83258146, -1.77195684, -1.71479843, -1.66073121, -1.60943791,\n",
       "       -1.56064775, -1.51412773, -1.46967597, -1.42711636, -1.38629436,\n",
       "       -1.34707365, -1.30933332, -1.27296568, -1.23787436, -1.2039728 ,\n",
       "       -1.17118298, -1.13943428, -1.10866262, -1.07880966, -1.04982212,\n",
       "       -1.02165125, -0.99425227, -0.96758403, -0.94160854, -0.91629073,\n",
       "       -0.89159812, -0.86750057, -0.84397007, -0.82098055, -0.7985077 ,\n",
       "       -0.77652879, -0.75502258, -0.73396918, -0.71334989, -0.69314718,\n",
       "       -0.67334455, -0.65392647, -0.63487827, -0.61618614, -0.597837  ,\n",
       "       -0.5798185 , -0.56211892, -0.54472718, -0.52763274, -0.51082562,\n",
       "       -0.49429632, -0.4780358 , -0.46203546, -0.4462871 , -0.43078292,\n",
       "       -0.41551544, -0.40047757, -0.38566248, -0.37106368, -0.35667494,\n",
       "       -0.34249031, -0.32850407, -0.31471074, -0.30110509, -0.28768207,\n",
       "       -0.27443685, -0.26136476, -0.24846136, -0.23572233, -0.22314355,\n",
       "       -0.21072103, -0.19845094, -0.18632958, -0.17435339, -0.16251893,\n",
       "       -0.15082289, -0.13926207, -0.12783337, -0.11653382, -0.10536052,\n",
       "       -0.09431068, -0.08338161, -0.07257069, -0.0618754 , -0.05129329,\n",
       "       -0.04082199, -0.03045921, -0.02020271, -0.01005034,  0.        ,\n",
       "        0.00995033,  0.01980263,  0.0295588 ,  0.03922071,  0.04879016,\n",
       "        0.05826891,  0.06765865,  0.07696104,  0.0861777 ,  0.09531018,\n",
       "        0.10436002,  0.11332869,  0.12221763,  0.13102826,  0.13976194,\n",
       "        0.14842001,  0.15700375,  0.16551444,  0.17395331,  0.18232156,\n",
       "        0.19062036,  0.19885086,  0.20701417,  0.21511138,  0.22314355,\n",
       "        0.23111172,  0.2390169 ,  0.24686008,  0.25464222,  0.26236426,\n",
       "        0.27002714,  0.27763174,  0.28517894,  0.29266961,  0.30010459,\n",
       "        0.3074847 ,  0.31481074,  0.3220835 ,  0.32930375,  0.33647224,\n",
       "        0.3435897 ,  0.35065687,  0.35767444,  0.36464311,  0.37156356,\n",
       "        0.37843644,  0.3852624 ,  0.39204209,  0.39877612,  0.40546511,\n",
       "        0.41210965,  0.41871033,  0.42526774,  0.43178242,  0.43825493,\n",
       "        0.44468582,  0.45107562,  0.45742485,  0.46373402,  0.47000363,\n",
       "        0.47623418,  0.48242615,  0.48858001,  0.49469624,  0.50077529,\n",
       "        0.5068176 ,  0.51282363,  0.51879379,  0.52472853,  0.53062825,\n",
       "        0.53649337,  0.54232429,  0.54812141,  0.55388511,  0.55961579,\n",
       "        0.56531381,  0.57097955,  0.57661336,  0.58221562,  0.58778666,\n",
       "        0.59332685,  0.5988365 ,  0.60431597,  0.60976557,  0.61518564,\n",
       "        0.62057649,  0.62593843,  0.63127178,  0.63657683,  0.64185389,\n",
       "        0.64710324,  0.65232519,  0.65752   ,  0.66268797,  0.66782937,\n",
       "        0.67294447,  0.67803354,  0.68309684,  0.68813464,  0.69314718,\n",
       "        0.69813472,  0.70309751,  0.70803579,  0.71294981,  0.71783979,\n",
       "        0.72270598,  0.72754861,  0.73236789,  0.73716407,  0.74193734,\n",
       "        0.74668795,  0.75141609,  0.75612198,  0.76080583,  0.76546784,\n",
       "        0.77010822,  0.77472717,  0.77932488,  0.78390154,  0.78845736,\n",
       "        0.79299252,  0.7975072 ,  0.80200159,  0.80647587,  0.81093022,\n",
       "        0.81536481,  0.81977983,  0.82417544,  0.82855182,  0.83290912,\n",
       "        0.83724752,  0.84156719,  0.84586827,  0.85015093,  0.85441533,\n",
       "        0.85866162,  0.86288996,  0.86710049,  0.87129337,  0.87546874,\n",
       "        0.87962675,  0.88376754,  0.88789126,  0.89199804,  0.89608802,\n",
       "        0.90016135,  0.90421815,  0.90825856,  0.91228271,  0.91629073,\n",
       "        0.92028275,  0.9242589 ,  0.9282193 ,  0.93216408,  0.93609336,\n",
       "        0.94000726,  0.9439059 ,  0.9477894 ,  0.95165788,  0.95551145,\n",
       "        0.95935022,  0.96317432,  0.96698385,  0.97077892,  0.97455964,\n",
       "        0.97832612,  0.98207847,  0.98581679,  0.98954119,  0.99325177,\n",
       "        0.99694863,  1.00063188,  1.00430161,  1.00795792,  1.01160091,\n",
       "        1.01523068,  1.01884732,  1.02245093,  1.0260416 ,  1.02961942,\n",
       "        1.03318448,  1.03673688,  1.04027671,  1.04380405,  1.04731899,\n",
       "        1.05082162,  1.05431203,  1.05779029,  1.0612565 ,  1.06471074,\n",
       "        1.06815308,  1.07158362,  1.07500242,  1.07840958,  1.08180517,\n",
       "        1.08518927,  1.08856195,  1.0919233 ,  1.09527339,  1.09861229,\n",
       "        1.10194008,  1.10525683,  1.10856262,  1.11185752,  1.11514159,\n",
       "        1.11841492,  1.12167756,  1.1249296 ,  1.12817109,  1.13140211,\n",
       "        1.13462273,  1.137833  ,  1.141033  ,  1.1442228 ,  1.14740245,\n",
       "        1.15057203,  1.15373159,  1.1568812 ,  1.16002092,  1.16315081,\n",
       "        1.16627094,  1.16938136,  1.17248214,  1.17557333,  1.178655  ,\n",
       "        1.1817272 ,  1.18478998,  1.18784342,  1.19088756,  1.19392247,\n",
       "        1.19694819,  1.19996478,  1.2029723 ,  1.20597081,  1.20896035,\n",
       "        1.21194097,  1.21491274,  1.21787571,  1.22082992,  1.22377543,\n",
       "        1.22671229,  1.22964055,  1.23256026,  1.23547147,  1.23837423,\n",
       "        1.24126859,  1.24415459,  1.24703229,  1.24990174,  1.25276297,\n",
       "        1.25561604,  1.25846099,  1.26129787,  1.26412673,  1.2669476 ,\n",
       "        1.26976054,  1.2725656 ,  1.2753628 ,  1.2781522 ,  1.28093385,\n",
       "        1.28370777,  1.28647403,  1.28923265,  1.29198368,  1.29472717,\n",
       "        1.29746315,  1.30019166,  1.30291275,  1.30562646,  1.30833282,\n",
       "        1.31103188,  1.31372367,  1.31640823,  1.31908561,  1.32175584,\n",
       "        1.32441896,  1.327075  ,  1.32972401,  1.33236602,  1.33500107,\n",
       "        1.33762919,  1.34025042,  1.3428648 ,  1.34547237,  1.34807315,\n",
       "        1.35066718,  1.35325451,  1.35583515,  1.35840916,  1.36097655,\n",
       "        1.36353737,  1.36609165,  1.36863943,  1.37118072,  1.37371558,\n",
       "        1.37624403,  1.37876609,  1.38128182,  1.38379123,  1.38629436,\n",
       "        1.38879124,  1.3912819 ,  1.39376638,  1.39624469,  1.39871688,\n",
       "        1.40118297,  1.403643  ,  1.40609699,  1.40854497,  1.41098697,\n",
       "        1.41342303,  1.41585316,  1.41827741,  1.42069579,  1.42310833,\n",
       "        1.42551507,  1.42791604,  1.43031125,  1.43270073,  1.43508453,\n",
       "        1.43746265,  1.43983513,  1.44220199,  1.44456327,  1.44691898,\n",
       "        1.44926916,  1.45161383,  1.45395301,  1.45628673,  1.45861502,\n",
       "        1.4609379 ,  1.4632554 ,  1.46556754,  1.46787435,  1.47017585,\n",
       "        1.47247206,  1.47476301,  1.47704872,  1.47932923,  1.48160454,\n",
       "        1.48387469,  1.4861397 ,  1.48839958,  1.49065438,  1.4929041 ,\n",
       "        1.49514877,  1.49738841,  1.49962305,  1.5018527 ,  1.5040774 ,\n",
       "        1.50629715,  1.50851199,  1.51072194,  1.51292701,  1.51512723,\n",
       "        1.51732262,  1.5195132 ,  1.521699  ,  1.52388002,  1.5260563 ,\n",
       "        1.52822786,  1.53039471,  1.53255687,  1.53471437,  1.53686722,\n",
       "        1.53901545,  1.54115907,  1.54329811,  1.54543258,  1.54756251,\n",
       "        1.54968791,  1.5518088 ,  1.5539252 ,  1.55603714,  1.55814462,\n",
       "        1.56024767,  1.5623463 ,  1.56444055,  1.56653041,  1.56861592,\n",
       "        1.57069708,  1.57277393,  1.57484647,  1.57691472,  1.5789787 ,\n",
       "        1.58103844,  1.58309394,  1.58514522,  1.5871923 ,  1.58923521,\n",
       "        1.59127394,  1.59330853,  1.59533899,  1.59736533,  1.59938758,\n",
       "        1.60140574,  1.60341984,  1.60542989,  1.60743591,  1.60943791,\n",
       "        1.61143592,  1.61342993,  1.61541998,  1.61740608,  1.61938824,\n",
       "        1.62136648,  1.62334082,  1.62531126,  1.62727783,  1.62924054,\n",
       "        1.6311994 ,  1.63315444,  1.63510566,  1.63705308,  1.63899671,\n",
       "        1.64093658,  1.64287269,  1.64480506,  1.6467337 ,  1.64865863,\n",
       "        1.65057986,  1.6524974 ,  1.65441128,  1.6563215 ,  1.65822808,\n",
       "        1.66013103,  1.66203036,  1.6639261 ,  1.66581825,  1.66770682,\n",
       "        1.66959184,  1.6714733 ,  1.67335124,  1.67522565,  1.67709656,\n",
       "        1.67896398,  1.68082791,  1.68268837,  1.68454538,  1.68639895,\n",
       "        1.68824909,  1.69009582,  1.69193913,  1.69377906,  1.69561561,\n",
       "        1.69744879,  1.69927862,  1.7011051 ,  1.70292826,  1.70474809,\n",
       "        1.70656462,  1.70837786,  1.71018782,  1.7119945 ,  1.71379793,\n",
       "        1.71559811,  1.71739505,  1.71918878,  1.72097929,  1.7227666 ,\n",
       "        1.72455072,  1.72633166,  1.72810944,  1.72988407,  1.73165555,\n",
       "        1.73342389,  1.73518912,  1.73695123,  1.73871025,  1.74046617,\n",
       "        1.74221902,  1.74396881,  1.74571553,  1.74745921,  1.74919985,\n",
       "        1.75093747,  1.75267208,  1.75440368,  1.75613229,  1.75785792,\n",
       "        1.75958057,  1.76130026,  1.763017  ,  1.7647308 ,  1.76644166,\n",
       "        1.7681496 ,  1.76985463,  1.77155676,  1.773256  ,  1.77495235,\n",
       "        1.77664583,  1.77833645,  1.78002421,  1.78170913,  1.78339122,\n",
       "        1.78507048,  1.78674693,  1.78842057,  1.79009141,  1.79175947,\n",
       "        1.79342475,  1.79508726,  1.79674701,  1.79840401,  1.80005827,\n",
       "        1.8017098 ,  1.80335861,  1.8050047 ,  1.80664808,  1.80828877,\n",
       "        1.80992677,  1.8115621 ,  1.81319475,  1.81482474,  1.81645208,\n",
       "        1.81807678,  1.81969884,  1.82131827,  1.82293509,  1.82454929,\n",
       "        1.8261609 ,  1.82776991,  1.82937633,  1.83098018,  1.83258146,\n",
       "        1.83418019,  1.83577635,  1.83736998,  1.83896107,  1.84054963,\n",
       "        1.84213568,  1.84371921,  1.84530024,  1.84687877,  1.84845481,\n",
       "        1.85002838,  1.85159947,  1.8531681 ,  1.85473427,  1.85629799,\n",
       "        1.85785927,  1.85941812,  1.86097454,  1.86252854,  1.86408013,\n",
       "        1.86562932,  1.86717611,  1.86872051,  1.87026253,  1.87180218,\n",
       "        1.87333946,  1.87487438,  1.87640694,  1.87793717,  1.87946505,\n",
       "        1.8809906 ,  1.88251383,  1.88403475,  1.88555335,  1.88706965,\n",
       "        1.88858365,  1.89009537,  1.8916048 ,  1.89311196,  1.89461685,\n",
       "        1.89611948,  1.89761986,  1.89911799,  1.90061387,  1.90210753,\n",
       "        1.90359895,  1.90508815,  1.90657514,  1.90805992,  1.9095425 ,\n",
       "        1.91102289,  1.91250109,  1.9139771 ,  1.91545094,  1.91692261,\n",
       "        1.91839212,  1.91985947,  1.92132467,  1.92278773,  1.92424865,\n",
       "        1.92570744,  1.92716411,  1.92861865,  1.93007109,  1.93152141,\n",
       "        1.93296964,  1.93441577,  1.93585981,  1.93730177,  1.93874166,\n",
       "        1.94017947,  1.94161522,  1.94304892,  1.94448056,  1.94591015,\n",
       "        1.9473377 ,  1.94876322,  1.95018671,  1.95160817,  1.95302762,\n",
       "        1.95444505,  1.95586048,  1.95727391,  1.95868534,  1.96009478,\n",
       "        1.96150224,  1.96290773,  1.96431123,  1.96571278,  1.96711236,\n",
       "        1.96850998,  1.96990565,  1.97129938,  1.97269117,  1.97408103,\n",
       "        1.97546895,  1.97685495,  1.97823904,  1.97962121,  1.98100147,\n",
       "        1.98237983,  1.98375629,  1.98513086,  1.98650355,  1.98787435,\n",
       "        1.98924327,  1.99061033,  1.99197552,  1.99333884,  1.99470031,\n",
       "        1.99605993,  1.99741771,  1.99877364,  2.00012773,  2.00148   ,\n",
       "        2.00283044,  2.00417906,  2.00552586,  2.00687085,  2.00821403,\n",
       "        2.00955541,  2.010895  ,  2.01223279,  2.0135688 ,  2.01490302,\n",
       "        2.01623547,  2.01756614,  2.01889504,  2.02022218,  2.02154756,\n",
       "        2.02287119,  2.02419307,  2.0255132 ,  2.02683159,  2.02814825,\n",
       "        2.02946317,  2.03077637,  2.03208785,  2.0333976 ,  2.03470565,\n",
       "        2.03601198,  2.03731662,  2.03861955,  2.03992078,  2.04122033,\n",
       "        2.04251819,  2.04381436,  2.04510886,  2.04640169,  2.04769284,\n",
       "        2.04898233,  2.05027016,  2.05155634,  2.05284086,  2.05412373,\n",
       "        2.05540496,  2.05668455,  2.05796251,  2.05923883,  2.06051353,\n",
       "        2.06178661,  2.06305806,  2.0643279 ,  2.06559613,  2.06686276,\n",
       "        2.06812778,  2.06939121,  2.07065304,  2.07191328,  2.07317193,\n",
       "        2.074429  ,  2.07568449,  2.07693841,  2.07819076,  2.07944154,\n",
       "        2.08069076,  2.08193842,  2.08318453,  2.08442908,  2.08567209,\n",
       "        2.08691356,  2.08815348,  2.08939187,  2.09062873,  2.09186406,\n",
       "        2.09309787,  2.09433015,  2.09556092,  2.09679018,  2.09801793,\n",
       "        2.09924417,  2.10046891,  2.10169215,  2.1029139 ,  2.10413415,\n",
       "        2.10535292,  2.10657021,  2.10778601,  2.10900034,  2.1102132 ,\n",
       "        2.11142459,  2.11263451,  2.11384297,  2.11504997,  2.11625551,\n",
       "        2.11745961,  2.11866225,  2.11986346,  2.12106322,  2.12226154,\n",
       "        2.12345843,  2.12465388,  2.12584791,  2.12704052,  2.12823171,\n",
       "        2.12942147,  2.13060983,  2.13179677,  2.13298231,  2.13416644,\n",
       "        2.13534917,  2.13653051,  2.13771045,  2.138889  ,  2.14006616,\n",
       "        2.14124194,  2.14241634,  2.14358936,  2.14476101,  2.14593128,\n",
       "        2.14710019,  2.14826773,  2.14943391,  2.15059874,  2.1517622 ,\n",
       "        2.15292432,  2.15408508,  2.15524451,  2.15640258,  2.15755932,\n",
       "        2.15871472,  2.15986879,  2.16102153,  2.16217294,  2.16332303,\n",
       "        2.16447179,  2.16561924,  2.16676537,  2.16791019,  2.1690537 ,\n",
       "        2.1701959 ,  2.17133681,  2.17247641,  2.17361471,  2.17475172,\n",
       "        2.17588744,  2.17702187,  2.17815501,  2.17928688,  2.18041746,\n",
       "        2.18154676,  2.1826748 ,  2.18380156,  2.18492705,  2.18605128,\n",
       "        2.18717424,  2.18829595,  2.18941639,  2.19053559,  2.19165353,\n",
       "        2.19277023,  2.19388568,  2.19499988,  2.19611285,  2.19722458])"
      ]
     },
     "execution_count": 23,
     "metadata": {},
     "output_type": "execute_result"
    }
   ],
   "source": [
    "np.log(np.exp(data_lm1['log_rts']) - t)"
   ]
  },
  {
   "cell_type": "code",
   "execution_count": 25,
   "metadata": {},
   "outputs": [
    {
     "data": {
      "text/plain": [
       "array([ 0.01,  0.02,  0.03,  0.04,  0.05,  0.06,  0.07,  0.08,  0.09,\n",
       "        0.1 ,  0.11,  0.12,  0.13,  0.14,  0.15,  0.16,  0.17,  0.18,\n",
       "        0.19,  0.2 ,  0.21,  0.22,  0.23,  0.24,  0.25,  0.26,  0.27,\n",
       "        0.28,  0.29,  0.3 ,  0.31,  0.32,  0.33,  0.34,  0.35,  0.36,\n",
       "        0.37,  0.38,  0.39,  0.4 ,  0.41,  0.42,  0.43,  0.44,  0.45,\n",
       "        0.46,  0.47,  0.48,  0.49,  0.5 ,  0.51,  0.52,  0.53,  0.54,\n",
       "        0.55,  0.56,  0.57,  0.58,  0.59,  0.6 ,  0.61,  0.62,  0.63,\n",
       "        0.64,  0.65,  0.66,  0.67,  0.68,  0.69,  0.7 ,  0.71,  0.72,\n",
       "        0.73,  0.74,  0.75,  0.76,  0.77,  0.78,  0.79,  0.8 ,  0.81,\n",
       "        0.82,  0.83,  0.84,  0.85,  0.86,  0.87,  0.88,  0.89,  0.9 ,\n",
       "        0.91,  0.92,  0.93,  0.94,  0.95,  0.96,  0.97,  0.98,  0.99,\n",
       "        1.  ,  1.01,  1.02,  1.03,  1.04,  1.05,  1.06,  1.07,  1.08,\n",
       "        1.09,  1.1 ,  1.11,  1.12,  1.13,  1.14,  1.15,  1.16,  1.17,\n",
       "        1.18,  1.19,  1.2 ,  1.21,  1.22,  1.23,  1.24,  1.25,  1.26,\n",
       "        1.27,  1.28,  1.29,  1.3 ,  1.31,  1.32,  1.33,  1.34,  1.35,\n",
       "        1.36,  1.37,  1.38,  1.39,  1.4 ,  1.41,  1.42,  1.43,  1.44,\n",
       "        1.45,  1.46,  1.47,  1.48,  1.49,  1.5 ,  1.51,  1.52,  1.53,\n",
       "        1.54,  1.55,  1.56,  1.57,  1.58,  1.59,  1.6 ,  1.61,  1.62,\n",
       "        1.63,  1.64,  1.65,  1.66,  1.67,  1.68,  1.69,  1.7 ,  1.71,\n",
       "        1.72,  1.73,  1.74,  1.75,  1.76,  1.77,  1.78,  1.79,  1.8 ,\n",
       "        1.81,  1.82,  1.83,  1.84,  1.85,  1.86,  1.87,  1.88,  1.89,\n",
       "        1.9 ,  1.91,  1.92,  1.93,  1.94,  1.95,  1.96,  1.97,  1.98,\n",
       "        1.99,  2.  ,  2.01,  2.02,  2.03,  2.04,  2.05,  2.06,  2.07,\n",
       "        2.08,  2.09,  2.1 ,  2.11,  2.12,  2.13,  2.14,  2.15,  2.16,\n",
       "        2.17,  2.18,  2.19,  2.2 ,  2.21,  2.22,  2.23,  2.24,  2.25,\n",
       "        2.26,  2.27,  2.28,  2.29,  2.3 ,  2.31,  2.32,  2.33,  2.34,\n",
       "        2.35,  2.36,  2.37,  2.38,  2.39,  2.4 ,  2.41,  2.42,  2.43,\n",
       "        2.44,  2.45,  2.46,  2.47,  2.48,  2.49,  2.5 ,  2.51,  2.52,\n",
       "        2.53,  2.54,  2.55,  2.56,  2.57,  2.58,  2.59,  2.6 ,  2.61,\n",
       "        2.62,  2.63,  2.64,  2.65,  2.66,  2.67,  2.68,  2.69,  2.7 ,\n",
       "        2.71,  2.72,  2.73,  2.74,  2.75,  2.76,  2.77,  2.78,  2.79,\n",
       "        2.8 ,  2.81,  2.82,  2.83,  2.84,  2.85,  2.86,  2.87,  2.88,\n",
       "        2.89,  2.9 ,  2.91,  2.92,  2.93,  2.94,  2.95,  2.96,  2.97,\n",
       "        2.98,  2.99,  3.  ,  3.01,  3.02,  3.03,  3.04,  3.05,  3.06,\n",
       "        3.07,  3.08,  3.09,  3.1 ,  3.11,  3.12,  3.13,  3.14,  3.15,\n",
       "        3.16,  3.17,  3.18,  3.19,  3.2 ,  3.21,  3.22,  3.23,  3.24,\n",
       "        3.25,  3.26,  3.27,  3.28,  3.29,  3.3 ,  3.31,  3.32,  3.33,\n",
       "        3.34,  3.35,  3.36,  3.37,  3.38,  3.39,  3.4 ,  3.41,  3.42,\n",
       "        3.43,  3.44,  3.45,  3.46,  3.47,  3.48,  3.49,  3.5 ,  3.51,\n",
       "        3.52,  3.53,  3.54,  3.55,  3.56,  3.57,  3.58,  3.59,  3.6 ,\n",
       "        3.61,  3.62,  3.63,  3.64,  3.65,  3.66,  3.67,  3.68,  3.69,\n",
       "        3.7 ,  3.71,  3.72,  3.73,  3.74,  3.75,  3.76,  3.77,  3.78,\n",
       "        3.79,  3.8 ,  3.81,  3.82,  3.83,  3.84,  3.85,  3.86,  3.87,\n",
       "        3.88,  3.89,  3.9 ,  3.91,  3.92,  3.93,  3.94,  3.95,  3.96,\n",
       "        3.97,  3.98,  3.99,  4.  ,  4.01,  4.02,  4.03,  4.04,  4.05,\n",
       "        4.06,  4.07,  4.08,  4.09,  4.1 ,  4.11,  4.12,  4.13,  4.14,\n",
       "        4.15,  4.16,  4.17,  4.18,  4.19,  4.2 ,  4.21,  4.22,  4.23,\n",
       "        4.24,  4.25,  4.26,  4.27,  4.28,  4.29,  4.3 ,  4.31,  4.32,\n",
       "        4.33,  4.34,  4.35,  4.36,  4.37,  4.38,  4.39,  4.4 ,  4.41,\n",
       "        4.42,  4.43,  4.44,  4.45,  4.46,  4.47,  4.48,  4.49,  4.5 ,\n",
       "        4.51,  4.52,  4.53,  4.54,  4.55,  4.56,  4.57,  4.58,  4.59,\n",
       "        4.6 ,  4.61,  4.62,  4.63,  4.64,  4.65,  4.66,  4.67,  4.68,\n",
       "        4.69,  4.7 ,  4.71,  4.72,  4.73,  4.74,  4.75,  4.76,  4.77,\n",
       "        4.78,  4.79,  4.8 ,  4.81,  4.82,  4.83,  4.84,  4.85,  4.86,\n",
       "        4.87,  4.88,  4.89,  4.9 ,  4.91,  4.92,  4.93,  4.94,  4.95,\n",
       "        4.96,  4.97,  4.98,  4.99,  5.  ,  5.01,  5.02,  5.03,  5.04,\n",
       "        5.05,  5.06,  5.07,  5.08,  5.09,  5.1 ,  5.11,  5.12,  5.13,\n",
       "        5.14,  5.15,  5.16,  5.17,  5.18,  5.19,  5.2 ,  5.21,  5.22,\n",
       "        5.23,  5.24,  5.25,  5.26,  5.27,  5.28,  5.29,  5.3 ,  5.31,\n",
       "        5.32,  5.33,  5.34,  5.35,  5.36,  5.37,  5.38,  5.39,  5.4 ,\n",
       "        5.41,  5.42,  5.43,  5.44,  5.45,  5.46,  5.47,  5.48,  5.49,\n",
       "        5.5 ,  5.51,  5.52,  5.53,  5.54,  5.55,  5.56,  5.57,  5.58,\n",
       "        5.59,  5.6 ,  5.61,  5.62,  5.63,  5.64,  5.65,  5.66,  5.67,\n",
       "        5.68,  5.69,  5.7 ,  5.71,  5.72,  5.73,  5.74,  5.75,  5.76,\n",
       "        5.77,  5.78,  5.79,  5.8 ,  5.81,  5.82,  5.83,  5.84,  5.85,\n",
       "        5.86,  5.87,  5.88,  5.89,  5.9 ,  5.91,  5.92,  5.93,  5.94,\n",
       "        5.95,  5.96,  5.97,  5.98,  5.99,  6.  ,  6.01,  6.02,  6.03,\n",
       "        6.04,  6.05,  6.06,  6.07,  6.08,  6.09,  6.1 ,  6.11,  6.12,\n",
       "        6.13,  6.14,  6.15,  6.16,  6.17,  6.18,  6.19,  6.2 ,  6.21,\n",
       "        6.22,  6.23,  6.24,  6.25,  6.26,  6.27,  6.28,  6.29,  6.3 ,\n",
       "        6.31,  6.32,  6.33,  6.34,  6.35,  6.36,  6.37,  6.38,  6.39,\n",
       "        6.4 ,  6.41,  6.42,  6.43,  6.44,  6.45,  6.46,  6.47,  6.48,\n",
       "        6.49,  6.5 ,  6.51,  6.52,  6.53,  6.54,  6.55,  6.56,  6.57,\n",
       "        6.58,  6.59,  6.6 ,  6.61,  6.62,  6.63,  6.64,  6.65,  6.66,\n",
       "        6.67,  6.68,  6.69,  6.7 ,  6.71,  6.72,  6.73,  6.74,  6.75,\n",
       "        6.76,  6.77,  6.78,  6.79,  6.8 ,  6.81,  6.82,  6.83,  6.84,\n",
       "        6.85,  6.86,  6.87,  6.88,  6.89,  6.9 ,  6.91,  6.92,  6.93,\n",
       "        6.94,  6.95,  6.96,  6.97,  6.98,  6.99,  7.  ,  7.01,  7.02,\n",
       "        7.03,  7.04,  7.05,  7.06,  7.07,  7.08,  7.09,  7.1 ,  7.11,\n",
       "        7.12,  7.13,  7.14,  7.15,  7.16,  7.17,  7.18,  7.19,  7.2 ,\n",
       "        7.21,  7.22,  7.23,  7.24,  7.25,  7.26,  7.27,  7.28,  7.29,\n",
       "        7.3 ,  7.31,  7.32,  7.33,  7.34,  7.35,  7.36,  7.37,  7.38,\n",
       "        7.39,  7.4 ,  7.41,  7.42,  7.43,  7.44,  7.45,  7.46,  7.47,\n",
       "        7.48,  7.49,  7.5 ,  7.51,  7.52,  7.53,  7.54,  7.55,  7.56,\n",
       "        7.57,  7.58,  7.59,  7.6 ,  7.61,  7.62,  7.63,  7.64,  7.65,\n",
       "        7.66,  7.67,  7.68,  7.69,  7.7 ,  7.71,  7.72,  7.73,  7.74,\n",
       "        7.75,  7.76,  7.77,  7.78,  7.79,  7.8 ,  7.81,  7.82,  7.83,\n",
       "        7.84,  7.85,  7.86,  7.87,  7.88,  7.89,  7.9 ,  7.91,  7.92,\n",
       "        7.93,  7.94,  7.95,  7.96,  7.97,  7.98,  7.99,  8.  ,  8.01,\n",
       "        8.02,  8.03,  8.04,  8.05,  8.06,  8.07,  8.08,  8.09,  8.1 ,\n",
       "        8.11,  8.12,  8.13,  8.14,  8.15,  8.16,  8.17,  8.18,  8.19,\n",
       "        8.2 ,  8.21,  8.22,  8.23,  8.24,  8.25,  8.26,  8.27,  8.28,\n",
       "        8.29,  8.3 ,  8.31,  8.32,  8.33,  8.34,  8.35,  8.36,  8.37,\n",
       "        8.38,  8.39,  8.4 ,  8.41,  8.42,  8.43,  8.44,  8.45,  8.46,\n",
       "        8.47,  8.48,  8.49,  8.5 ,  8.51,  8.52,  8.53,  8.54,  8.55,\n",
       "        8.56,  8.57,  8.58,  8.59,  8.6 ,  8.61,  8.62,  8.63,  8.64,\n",
       "        8.65,  8.66,  8.67,  8.68,  8.69,  8.7 ,  8.71,  8.72,  8.73,\n",
       "        8.74,  8.75,  8.76,  8.77,  8.78,  8.79,  8.8 ,  8.81,  8.82,\n",
       "        8.83,  8.84,  8.85,  8.86,  8.87,  8.88,  8.89,  8.9 ,  8.91,\n",
       "        8.92,  8.93,  8.94,  8.95,  8.96,  8.97,  8.98,  8.99,  9.  ,\n",
       "        9.01,  9.02,  9.03,  9.04,  9.05,  9.06,  9.07,  9.08,  9.09,\n",
       "        9.1 ,  9.11,  9.12,  9.13,  9.14,  9.15,  9.16,  9.17,  9.18,\n",
       "        9.19,  9.2 ,  9.21,  9.22,  9.23,  9.24,  9.25,  9.26,  9.27,\n",
       "        9.28,  9.29,  9.3 ,  9.31,  9.32,  9.33,  9.34,  9.35,  9.36,\n",
       "        9.37,  9.38,  9.39,  9.4 ,  9.41,  9.42,  9.43,  9.44,  9.45,\n",
       "        9.46,  9.47,  9.48,  9.49,  9.5 ,  9.51,  9.52,  9.53,  9.54,\n",
       "        9.55,  9.56,  9.57,  9.58,  9.59,  9.6 ,  9.61,  9.62,  9.63,\n",
       "        9.64,  9.65,  9.66,  9.67,  9.68,  9.69,  9.7 ,  9.71,  9.72,\n",
       "        9.73,  9.74,  9.75,  9.76,  9.77,  9.78,  9.79,  9.8 ,  9.81,\n",
       "        9.82,  9.83,  9.84,  9.85,  9.86,  9.87,  9.88,  9.89,  9.9 ,\n",
       "        9.91,  9.92,  9.93,  9.94,  9.95,  9.96,  9.97,  9.98,  9.99,\n",
       "       10.  ])"
      ]
     },
     "execution_count": 25,
     "metadata": {},
     "output_type": "execute_result"
    }
   ],
   "source": [
    "np.exp(data_lm1['log_rts'])"
   ]
  },
  {
   "cell_type": "code",
   "execution_count": null,
   "metadata": {},
   "outputs": [],
   "source": [
    "data_l1 = np.log(data_1)\n"
   ]
  },
  {
   "cell_type": "code",
   "execution_count": 7,
   "metadata": {},
   "outputs": [
    {
     "ename": "AttributeError",
     "evalue": "'tuple' object has no attribute 'keys'",
     "output_type": "error",
     "traceback": [
      "\u001b[0;31m---------------------------------------------------------------------------\u001b[0m",
      "\u001b[0;31mAttributeError\u001b[0m                            Traceback (most recent call last)",
      "\u001b[1;32m/Users/afengler/Library/CloudStorage/OneDrive-Personal/proj_ssm_simulators/ssm-simulators/notebooks/test_deadline.ipynb Cell 14\u001b[0m line \u001b[0;36m1\n\u001b[0;32m----> <a href='vscode-notebook-cell:/Users/afengler/Library/CloudStorage/OneDrive-Personal/proj_ssm_simulators/ssm-simulators/notebooks/test_deadline.ipynb#X61sZmlsZQ%3D%3D?line=0'>1</a>\u001b[0m evals_1 \u001b[39m=\u001b[39m my_kde_shifted\u001b[39m.\u001b[39;49mkde_eval(data_1)\n\u001b[1;32m      <a href='vscode-notebook-cell:/Users/afengler/Library/CloudStorage/OneDrive-Personal/proj_ssm_simulators/ssm-simulators/notebooks/test_deadline.ipynb#X61sZmlsZQ%3D%3D?line=1'>2</a>\u001b[0m evals_m1 \u001b[39m=\u001b[39m my_kde_shifted\u001b[39m.\u001b[39mkde_eval(data_m1)\n\u001b[1;32m      <a href='vscode-notebook-cell:/Users/afengler/Library/CloudStorage/OneDrive-Personal/proj_ssm_simulators/ssm-simulators/notebooks/test_deadline.ipynb#X61sZmlsZQ%3D%3D?line=3'>4</a>\u001b[0m evals_1_shifted \u001b[39m=\u001b[39m my_kde_shifted\u001b[39m.\u001b[39mkde_eval(data_1_shifted)\n",
      "File \u001b[0;32m~/Library/CloudStorage/OneDrive-Personal/proj_ssm_simulators/ssm-simulators/ssms/support_utils/kde_class.py:430\u001b[0m, in \u001b[0;36mLogKDEshifted.kde_eval\u001b[0;34m(self, data, log_eval, lb, eps)\u001b[0m\n\u001b[1;32m    429\u001b[0m \u001b[39mdef\u001b[39;00m \u001b[39mkde_eval\u001b[39m(\u001b[39mself\u001b[39m, data \u001b[39m=\u001b[39m {}, log_eval \u001b[39m=\u001b[39m \u001b[39mTrue\u001b[39;00m, lb\u001b[39m=\u001b[39m\u001b[39m-\u001b[39m\u001b[39m66.774\u001b[39m, eps\u001b[39m=\u001b[39m\u001b[39m10e-5\u001b[39m):\n\u001b[0;32m--> 430\u001b[0m     \u001b[39mif\u001b[39;00m \u001b[39m'\u001b[39m\u001b[39mlog_rts\u001b[39m\u001b[39m'\u001b[39m \u001b[39min\u001b[39;00m data\u001b[39m.\u001b[39;49mkeys() \u001b[39mand\u001b[39;00m  (\u001b[39m'\u001b[39m\u001b[39mrts\u001b[39m\u001b[39m'\u001b[39m \u001b[39mnot\u001b[39;00m \u001b[39min\u001b[39;00m data\u001b[39m.\u001b[39mkeys()):\n\u001b[1;32m    431\u001b[0m         \u001b[39mreturn\u001b[39;00m \u001b[39mself\u001b[39m\u001b[39m.\u001b[39m_kde_eval_log_rt(data\u001b[39m=\u001b[39mdata, log_eval\u001b[39m=\u001b[39mlog_eval, lb\u001b[39m=\u001b[39mlb, eps\u001b[39m=\u001b[39meps)\n\u001b[1;32m    432\u001b[0m     \u001b[39melif\u001b[39;00m \u001b[39m'\u001b[39m\u001b[39mrts\u001b[39m\u001b[39m'\u001b[39m \u001b[39min\u001b[39;00m data\u001b[39m.\u001b[39mkeys() \u001b[39mand\u001b[39;00m (\u001b[39m'\u001b[39m\u001b[39mlog_rts\u001b[39m\u001b[39m'\u001b[39m \u001b[39mnot\u001b[39;00m \u001b[39min\u001b[39;00m data\u001b[39m.\u001b[39mkeys()):\n",
      "\u001b[0;31mAttributeError\u001b[0m: 'tuple' object has no attribute 'keys'"
     ]
    }
   ],
   "source": [
    "evals_1 = my_kde_shifted.kde_eval(data_1)\n",
    "evals_m1 = my_kde_shifted.kde_eval(data_m1)\n",
    "\n",
    "evals_1_shifted = my_kde_shifted.kde_eval(data_1_shifted)\n",
    "evals_m1_shifted = my_kde_shifted.kde_eval(data_m1_shifted)\n",
    "\n",
    "evals_1"
   ]
  },
  {
   "cell_type": "code",
   "execution_count": 61,
   "metadata": {},
   "outputs": [
    {
     "data": {
      "text/plain": [
       "(array([2.79595485e-01, 9.97337554e-02, 9.20619281e-02, 9.46192038e-02,\n",
       "        7.84231239e-02, 4.77358145e-02, 3.15397346e-02, 3.23921599e-02,\n",
       "        1.53436547e-02, 5.96697682e-03, 8.52425260e-04, 0.00000000e+00,\n",
       "        0.00000000e+00, 0.00000000e+00, 0.00000000e+00, 0.00000000e+00,\n",
       "        0.00000000e+00, 0.00000000e+00, 0.00000000e+00, 0.00000000e+00,\n",
       "        0.00000000e+00, 0.00000000e+00, 0.00000000e+00, 0.00000000e+00,\n",
       "        0.00000000e+00, 0.00000000e+00, 0.00000000e+00, 0.00000000e+00,\n",
       "        0.00000000e+00, 1.36388042e-02, 2.05434488e-01, 5.48961867e-01,\n",
       "        8.15770974e-01, 1.01012393e+00, 1.00756666e+00, 8.80555293e-01,\n",
       "        7.97017618e-01, 6.64891703e-01, 4.92701800e-01, 7.85083664e-01]),\n",
       " array([-2.49999499e+00, -2.37499517e+00, -2.24999534e+00, -2.12499551e+00,\n",
       "        -1.99999568e+00, -1.87499586e+00, -1.74999603e+00, -1.62499620e+00,\n",
       "        -1.49999638e+00, -1.37499655e+00, -1.24999672e+00, -1.12499689e+00,\n",
       "        -9.99997067e-01, -8.74997240e-01, -7.49997413e-01, -6.24997586e-01,\n",
       "        -4.99997759e-01, -3.74997932e-01, -2.49998105e-01, -1.24998277e-01,\n",
       "         1.54972076e-06,  1.25001377e-01,  2.50001204e-01,  3.75001031e-01,\n",
       "         5.00000858e-01,  6.25000685e-01,  7.50000513e-01,  8.75000340e-01,\n",
       "         1.00000017e+00,  1.12499999e+00,  1.24999982e+00,  1.37499965e+00,\n",
       "         1.49999948e+00,  1.62499930e+00,  1.74999913e+00,  1.87499896e+00,\n",
       "         1.99999878e+00,  2.12499861e+00,  2.24999844e+00,  2.37499827e+00,\n",
       "         2.49999809e+00]),\n",
       " [<matplotlib.patches.Polygon at 0x148624af0>])"
      ]
     },
     "execution_count": 61,
     "metadata": {},
     "output_type": "execute_result"
    },
    {
     "data": {
      "image/png": "[encoded data removed]",
      "text/plain": [
       "<Figure size 640x480 with 1 Axes>"
      ]
     },
     "metadata": {},
     "output_type": "display_data"
    }
   ],
   "source": [
    "from matplotlib import pyplot as plt\n",
    "\n",
    "plt.plot(data_1[0], np.exp(evals_1), color=\"blue\")\n",
    "plt.plot(data_m1[0] * (-1), np.exp(evals_m1), color=\"blue\")\n",
    "plt.plot(data_1_shifted[0], np.exp(evals_1_shifted), color=\"red\")\n",
    "plt.plot(data_m1_shifted[0] * (-1), np.exp(evals_m1_shifted), color=\"red\")\n",
    "\n",
    "plt.hist(out[\"rts\"][out[\"rts\"] != -999] * out[\"choices\"][out[\"rts\"] != -999], bins=40, histtype=\"step\", density=True)"
   ]
  },
  {
   "cell_type": "code",
   "execution_count": 15,
   "metadata": {},
   "outputs": [
    {
     "ename": "NameError",
     "evalue": "name 'my_kde_shifted' is not defined",
     "output_type": "error",
     "traceback": [
      "\u001b[0;31m---------------------------------------------------------------------------\u001b[0m",
      "\u001b[0;31mNameError\u001b[0m                                 Traceback (most recent call last)",
      "\u001b[1;32m/Users/afengler/Library/CloudStorage/OneDrive-Personal/proj_ssm_simulators/ssm-simulators/notebooks/test_deadline.ipynb Cell 25\u001b[0m line \u001b[0;36m1\n\u001b[0;32m----> <a href='vscode-notebook-cell:/Users/afengler/Library/CloudStorage/OneDrive-Personal/proj_ssm_simulators/ssm-simulators/notebooks/test_deadline.ipynb#Y130sZmlsZQ%3D%3D?line=0'>1</a>\u001b[0m out_kde_shifted \u001b[39m=\u001b[39m my_kde_shifted\u001b[39m.\u001b[39mkde_sample(n_samples \u001b[39m=\u001b[39m \u001b[39m10000\u001b[39m)\n\u001b[1;32m      <a href='vscode-notebook-cell:/Users/afengler/Library/CloudStorage/OneDrive-Personal/proj_ssm_simulators/ssm-simulators/notebooks/test_deadline.ipynb#Y130sZmlsZQ%3D%3D?line=1'>2</a>\u001b[0m out_kde \u001b[39m=\u001b[39m my_kde\u001b[39m.\u001b[39mkde_sample(n_samples \u001b[39m=\u001b[39m \u001b[39m10000\u001b[39m)\n",
      "\u001b[0;31mNameError\u001b[0m: name 'my_kde_shifted' is not defined"
     ]
    }
   ],
   "source": [
    "out_kde_shifted = my_kde_shifted.kde_sample(n_samples = 10000)\n",
    "out_kde = my_kde.kde_sample(n_samples = 10000)"
   ]
  },
  {
   "cell_type": "code",
   "execution_count": 52,
   "metadata": {},
   "outputs": [
    {
     "data": {
      "text/plain": [
       "array([[-1.],\n",
       "       [-1.],\n",
       "       [-1.],\n",
       "       ...,\n",
       "       [ 1.],\n",
       "       [ 1.],\n",
       "       [ 1.]])"
      ]
     },
     "execution_count": 52,
     "metadata": {},
     "output_type": "execute_result"
    }
   ],
   "source": [
    "out_kde[1]"
   ]
  },
  {
   "cell_type": "code",
   "execution_count": 66,
   "metadata": {},
   "outputs": [
    {
     "data": {
      "text/plain": [
       "(array([2.79595485e-01, 9.97337554e-02, 9.20619281e-02, 9.46192038e-02,\n",
       "        7.84231239e-02, 4.77358145e-02, 3.15397346e-02, 3.23921599e-02,\n",
       "        1.53436547e-02, 5.96697682e-03, 8.52425260e-04, 0.00000000e+00,\n",
       "        0.00000000e+00, 0.00000000e+00, 0.00000000e+00, 0.00000000e+00,\n",
       "        0.00000000e+00, 0.00000000e+00, 0.00000000e+00, 0.00000000e+00,\n",
       "        0.00000000e+00, 0.00000000e+00, 0.00000000e+00, 0.00000000e+00,\n",
       "        0.00000000e+00, 0.00000000e+00, 0.00000000e+00, 0.00000000e+00,\n",
       "        0.00000000e+00, 1.36388042e-02, 2.05434488e-01, 5.48961867e-01,\n",
       "        8.15770974e-01, 1.01012393e+00, 1.00756666e+00, 8.80555293e-01,\n",
       "        7.97017618e-01, 6.64891703e-01, 4.92701800e-01, 7.85083664e-01]),\n",
       " array([-2.49999499e+00, -2.37499517e+00, -2.24999534e+00, -2.12499551e+00,\n",
       "        -1.99999568e+00, -1.87499586e+00, -1.74999603e+00, -1.62499620e+00,\n",
       "        -1.49999638e+00, -1.37499655e+00, -1.24999672e+00, -1.12499689e+00,\n",
       "        -9.99997067e-01, -8.74997240e-01, -7.49997413e-01, -6.24997586e-01,\n",
       "        -4.99997759e-01, -3.74997932e-01, -2.49998105e-01, -1.24998277e-01,\n",
       "         1.54972076e-06,  1.25001377e-01,  2.50001204e-01,  3.75001031e-01,\n",
       "         5.00000858e-01,  6.25000685e-01,  7.50000513e-01,  8.75000340e-01,\n",
       "         1.00000017e+00,  1.12499999e+00,  1.24999982e+00,  1.37499965e+00,\n",
       "         1.49999948e+00,  1.62499930e+00,  1.74999913e+00,  1.87499896e+00,\n",
       "         1.99999878e+00,  2.12499861e+00,  2.24999844e+00,  2.37499827e+00,\n",
       "         2.49999809e+00]),\n",
       " [<matplotlib.patches.Polygon at 0x148e02ef0>])"
      ]
     },
     "execution_count": 66,
     "metadata": {},
     "output_type": "execute_result"
    },
    {
     "data": {
      "image/png": "[encoded data removed]",
      "text/plain": [
       "<Figure size 640x480 with 1 Axes>"
      ]
     },
     "metadata": {},
     "output_type": "display_data"
    }
   ],
   "source": [
    "from matplotlib import pyplot as plt\n",
    "\n",
    "# plt.plot(data_1[0], np.exp(evals_1), color=\"blue\")\n",
    "# plt.plot(data_m1[0] * (-1), np.exp(evals_m1), color=\"blue\")\n",
    "# plt.plot(data_1_shifted[0], np.exp(evals_1_shifted), color=\"red\")\n",
    "# plt.plot(data_m1_shifted[0] * (-1), np.exp(evals_m1_shifted), color=\"red\")\n",
    "plt.hist(out_kde_shifted[0] * out_kde_shifted[1], bins = 100, histtype=\"step\", density=True)\n",
    "plt.hist(out_kde[0] * out_kde[1], bins = 100, histtype=\"step\", density=True)\n",
    "\n",
    "\n",
    "plt.hist(out[\"rts\"][out[\"rts\"] != -999] * out[\"choices\"][out[\"rts\"] != -999], bins=40, histtype=\"step\", density=True)"
   ]
  },
  {
   "cell_type": "code",
   "execution_count": 68,
   "metadata": {},
   "outputs": [
    {
     "data": {
      "text/plain": [
       "(array([0.0133448 , 0.04003441, 0.04003441, 0.02668961, 0.06672402,\n",
       "        0.0133448 , 0.0133448 , 0.05337922, 0.10675844, 0.08006883,\n",
       "        0.2802409 , 0.18682727, 0.22686168, 0.37365453, 0.2802409 ,\n",
       "        0.24020648, 0.41368894, 0.36030973, 0.46706816, 0.54713699,\n",
       "        0.61386101, 0.52044738, 0.72061945, 0.8674123 , 0.76065387,\n",
       "        1.00086035, 1.05423957, 0.98751555, 1.20103242, 1.05423957,\n",
       "        1.20103242, 1.32113566, 1.36117008, 1.24106683, 1.49461812,\n",
       "        1.53465254, 1.57468695, 1.708135  , 1.61472136, 1.74816941,\n",
       "        2.14851355, 1.84158304, 1.90830707, 1.84158304, 1.708135  ,\n",
       "        1.66810058, 1.82823824, 1.82823824, 1.85492785, 2.14851355,\n",
       "        1.88161746, 2.05509992, 1.88161746, 2.16185836, 1.89496226,\n",
       "        1.94834148, 1.85492785, 1.96168629, 2.04175511, 1.84158304,\n",
       "        1.90830707, 1.88161746, 1.96168629, 1.81489343, 1.90830707,\n",
       "        1.68144539, 1.88161746, 1.68144539, 1.93499668, 1.46792851,\n",
       "        1.76151422, 1.84158304, 2.12182394, 1.708135  , 1.61472136,\n",
       "        1.62806617, 1.48127332, 1.48127332, 1.41454929, 1.22772203,\n",
       "        1.34782527, 1.17434281, 1.16099801, 1.18768762, 1.4278941 ,\n",
       "        1.45458371, 1.54799734, 1.46792851, 1.45458371, 1.17434281,\n",
       "        0.88075711, 1.05423957, 0.89410191, 0.64055062, 0.44037855,\n",
       "        0.37365453, 0.18682727, 0.10675844, 0.08006883, 0.04003441]),\n",
       " array([0.15182337, 0.16028301, 0.16874266, 0.1772023 , 0.18566195,\n",
       "        0.19412159, 0.20258124, 0.21104088, 0.21950052, 0.22796017,\n",
       "        0.23641981, 0.24487946, 0.2533391 , 0.26179875, 0.27025839,\n",
       "        0.27871803, 0.28717768, 0.29563732, 0.30409697, 0.31255661,\n",
       "        0.32101626, 0.3294759 , 0.33793554, 0.34639519, 0.35485483,\n",
       "        0.36331448, 0.37177412, 0.38023377, 0.38869341, 0.39715305,\n",
       "        0.4056127 , 0.41407234, 0.42253199, 0.43099163, 0.43945128,\n",
       "        0.44791092, 0.45637056, 0.46483021, 0.47328985, 0.4817495 ,\n",
       "        0.49020914, 0.49866879, 0.50712843, 0.51558807, 0.52404772,\n",
       "        0.53250736, 0.54096701, 0.54942665, 0.5578863 , 0.56634594,\n",
       "        0.57480558, 0.58326523, 0.59172487, 0.60018452, 0.60864416,\n",
       "        0.61710381, 0.62556345, 0.63402309, 0.64248274, 0.65094238,\n",
       "        0.65940203, 0.66786167, 0.67632132, 0.68478096, 0.6932406 ,\n",
       "        0.70170025, 0.71015989, 0.71861954, 0.72707918, 0.73553883,\n",
       "        0.74399847, 0.75245811, 0.76091776, 0.7693774 , 0.77783705,\n",
       "        0.78629669, 0.79475634, 0.80321598, 0.81167562, 0.82013527,\n",
       "        0.82859491, 0.83705456, 0.8455142 , 0.85397385, 0.86243349,\n",
       "        0.87089313, 0.87935278, 0.88781242, 0.89627207, 0.90473171,\n",
       "        0.91319136, 0.921651  , 0.93011064, 0.93857029, 0.94702993,\n",
       "        0.95548958, 0.96394922, 0.97240887, 0.98086851, 0.98932816,\n",
       "        0.9977878 ]),\n",
       " [<matplotlib.patches.Polygon at 0x148f18820>])"
      ]
     },
     "execution_count": 68,
     "metadata": {},
     "output_type": "execute_result"
    },
    {
     "data": {
      "image/png": "[encoded data removed]",
      "text/plain": [
       "<Figure size 640x480 with 1 Axes>"
      ]
     },
     "metadata": {},
     "output_type": "display_data"
    }
   ],
   "source": [
    "#plt.hist(out_kde_shifted[0] * out_kde_shifted[1], bins = 100, histtype=\"step\", density=True)\n",
    "plt.hist(np.log(out_kde[0][out_kde[1] == 1]), bins = 100, histtype=\"step\", density=True)\n"
   ]
  },
  {
   "cell_type": "code",
   "execution_count": 72,
   "metadata": {},
   "outputs": [
    {
     "data": {
      "text/plain": [
       "(array([ 9905., 10172.,  9900.,  9917., 10133., 10005., 10076., 10030.,\n",
       "         9829., 10033.]),\n",
       " array([3.65051872e-06, 1.00002687e-01, 2.00001723e-01, 3.00000759e-01,\n",
       "        3.99999796e-01, 4.99998832e-01, 5.99997868e-01, 6.99996904e-01,\n",
       "        7.99995941e-01, 8.99994977e-01, 9.99994013e-01]),\n",
       " <BarContainer object of 10 artists>)"
      ]
     },
     "execution_count": 72,
     "metadata": {},
     "output_type": "execute_result"
    },
    {
     "data": {
      "image/png": "[encoded data removed]",
      "text/plain": [
       "<Figure size 640x480 with 1 Axes>"
      ]
     },
     "metadata": {},
     "output_type": "display_data"
    }
   ],
   "source": [
    "plt.hist(np.exp(np.log(np.random.uniform(size = 100000))))"
   ]
  },
  {
   "cell_type": "code",
   "execution_count": 18,
   "metadata": {},
   "outputs": [
    {
     "data": {
      "text/plain": [
       "(-10.0, 10.0)"
      ]
     },
     "execution_count": 18,
     "metadata": {},
     "output_type": "execute_result"
    },
    {
     "data": {
      "image/png": "[encoded data removed]",
      "text/plain": [
       "<Figure size 640x480 with 1 Axes>"
      ]
     },
     "metadata": {},
     "output_type": "display_data"
    }
   ],
   "source": [
    "plt.hist(out[\"rts\"][out[\"rts\"] != -999] * out[\"choices\"][out[\"rts\"] != -999], bins=40, histtype=\"step\", density=True)\n",
    "plt.xlim(-10, 10)"
   ]
  },
  {
   "cell_type": "code",
   "execution_count": 37,
   "metadata": {},
   "outputs": [
    {
     "data": {
      "text/plain": [
       "(48,)"
      ]
     },
     "execution_count": 37,
     "metadata": {},
     "output_type": "execute_result"
    }
   ],
   "source": [
    "out[\"choices\"][out[\"rts\"] != -999].shape"
   ]
  },
  {
   "cell_type": "code",
   "execution_count": 20,
   "metadata": {},
   "outputs": [
    {
     "name": "stdout",
     "output_type": "stream",
     "text": [
      "5.748783111572266\n"
     ]
    }
   ],
   "source": [
    "from time import time\n",
    "\n",
    "start = time()\n",
    "out_traj = simulator(\n",
    "    model=\"ddm_mic2_multinoise_no_bias\", theta=[1.0, 1.0, 1.0, 1.5, 0.5, 1.0], n_samples=100000, max_t=20\n",
    ")\n",
    "\n",
    "end = time()\n",
    "\n",
    "print(end - start)"
   ]
  },
  {
   "cell_type": "code",
   "execution_count": 46,
   "metadata": {},
   "outputs": [
    {
     "data": {
      "text/plain": [
       "array([[4.685915 ],\n",
       "       [8.714623 ],\n",
       "       [4.737911 ],\n",
       "       ...,\n",
       "       [2.306005 ],\n",
       "       [2.5050144],\n",
       "       [4.278945 ]], dtype=float32)"
      ]
     },
     "execution_count": 46,
     "metadata": {},
     "output_type": "execute_result"
    }
   ],
   "source": [
    "out_traj[\"rts\"]"
   ]
  },
  {
   "cell_type": "code",
   "execution_count": 21,
   "metadata": {},
   "outputs": [
    {
     "data": {
      "text/plain": [
       "<matplotlib.legend.Legend at 0x2a4c97370>"
      ]
     },
     "execution_count": 21,
     "metadata": {},
     "output_type": "execute_result"
    },
    {
     "data": {
      "image/png": "[encoded data removed]",
      "text/plain": [
       "<Figure size 640x480 with 1 Axes>"
      ]
     },
     "metadata": {},
     "output_type": "display_data"
    }
   ],
   "source": [
    "plt.hist(\n",
    "    out_traj[\"rts\"][(out_traj[\"choices\"] == 0) & (out_traj[\"rts\"] != -999)], histtype=\"step\", bins=40, label=\"low low\"\n",
    ")\n",
    "plt.hist(\n",
    "    out_traj[\"rts\"][(out_traj[\"choices\"] == 1) & (out_traj[\"rts\"] != -999)], histtype=\"step\", bins=40, label=\"low high\"\n",
    ")\n",
    "plt.hist(\n",
    "    out_traj[\"rts\"][(out_traj[\"choices\"] == 2) & (out_traj[\"rts\"] != -999)], histtype=\"step\", bins=40, label=\"high low\"\n",
    ")\n",
    "plt.hist(\n",
    "    out_traj[\"rts\"][(out_traj[\"choices\"] == 3) & (out_traj[\"rts\"] != -999)], histtype=\"step\", bins=40, label=\"high high\"\n",
    ")\n",
    "plt.legend()"
   ]
  },
  {
   "cell_type": "code",
   "execution_count": 22,
   "metadata": {},
   "outputs": [],
   "source": [
    "out_traj[\"metadata\"][\"trajectory\"]\n",
    "my_traj = out_traj[\"metadata\"][\"trajectory\"]"
   ]
  },
  {
   "cell_type": "code",
   "execution_count": 34,
   "metadata": {},
   "outputs": [
    {
     "data": {
      "text/plain": [
       "array([[ 0.0000000e+00, -9.9900000e+02, -9.9900000e+02],\n",
       "       [ 9.0455776e-03,  2.4773862e-04,  2.5226141e-04],\n",
       "       [-5.6977585e-02,  5.1161140e-04,  4.8763864e-04],\n",
       "       ...,\n",
       "       [-9.9900000e+02, -9.9900000e+02, -9.9900000e+02],\n",
       "       [-9.9900000e+02, -9.9900000e+02, -9.9900000e+02],\n",
       "       [-9.9900000e+02, -9.9900000e+02, -9.9900000e+02]], dtype=float32)"
      ]
     },
     "execution_count": 34,
     "metadata": {},
     "output_type": "execute_result"
    }
   ],
   "source": [
    "my_traj"
   ]
  },
  {
   "cell_type": "code",
   "execution_count": 23,
   "metadata": {},
   "outputs": [
    {
     "data": {
      "text/plain": [
       "<matplotlib.legend.Legend at 0x2a4c42170>"
      ]
     },
     "execution_count": 23,
     "metadata": {},
     "output_type": "execute_result"
    },
    {
     "data": {
      "image/png": "[encoded data removed]",
      "text/plain": [
       "<Figure size 640x480 with 1 Axes>"
      ]
     },
     "metadata": {},
     "output_type": "display_data"
    }
   ],
   "source": [
    "plt.plot(my_traj[my_traj[:, 0] != -999, 0], label=\"high\")\n",
    "plt.plot(my_traj[my_traj[:, 1] != -999, 1], label=\"low low\")\n",
    "plt.plot(my_traj[my_traj[:, 2] != -999, 2], label=\"low high\")\n",
    "plt.axvline(out_traj[\"rts\"][0] * 1000 - 1000, color=\"black\")\n",
    "plt.legend()"
   ]
  },
  {
   "cell_type": "code",
   "execution_count": 65,
   "metadata": {},
   "outputs": [
    {
     "name": "stdout",
     "output_type": "stream",
     "text": [
      "Setting mock deadline to 999 (this should never have an effect)\n",
      "0.2257390022277832\n"
     ]
    }
   ],
   "source": [
    "start = time()\n",
    "out = simulator(model=\"ddm_seq2\", theta=[2.0, 0.0, 0.0, 1.0, 0.5, 0.5, 0.5, 1.0], n_samples=10000, max_t=20)\n",
    "\n",
    "end = time()\n",
    "\n",
    "print(end - start)"
   ]
  },
  {
   "cell_type": "code",
   "execution_count": 66,
   "metadata": {},
   "outputs": [
    {
     "data": {
      "text/plain": [
       "(array([ 34., 241., 451., 540., 559., 537., 438., 396., 348., 294., 239.,\n",
       "        168., 142., 105.,  88.,  66.,  61.,  40.,  30.,  30.,  25.,  21.,\n",
       "         20.,   7.,   8.,   7.,   8.,   3.,   6.,   2.,   2.,   1.,   1.,\n",
       "          1.,   0.,   4.,   2.,   1.,   0.,   2.]),\n",
       " array([1.1659404 , 1.35083079, 1.53572118, 1.72061169, 1.90550208,\n",
       "        2.09039235, 2.27528286, 2.46017337, 2.64506364, 2.82995415,\n",
       "        3.01484442, 3.19973493, 3.38462543, 3.56951571, 3.75440621,\n",
       "        3.93929648, 4.12418699, 4.30907726, 4.49396801, 4.67885828,\n",
       "        4.86374855, 5.04863882, 5.23352957, 5.41841984, 5.60331011,\n",
       "        5.78820086, 5.97309113, 6.1579814 , 6.34287167, 6.52776241,\n",
       "        6.71265268, 6.89754295, 7.0824337 , 7.26732397, 7.45221424,\n",
       "        7.63710499, 7.82199526, 8.00688553, 8.19177628, 8.37666607,\n",
       "        8.56155682]),\n",
       " [<matplotlib.patches.Polygon at 0x2a41af130>])"
      ]
     },
     "execution_count": 66,
     "metadata": {},
     "output_type": "execute_result"
    },
    {
     "data": {
      "image/png": "[encoded data removed]",
      "text/plain": [
       "<Figure size 640x480 with 1 Axes>"
      ]
     },
     "metadata": {},
     "output_type": "display_data"
    }
   ],
   "source": [
    "plt.hist(out[\"rts\"][out[\"choices\"] == 0], histtype=\"step\", bins=40)\n",
    "plt.hist(out[\"rts\"][out[\"choices\"] == 1], histtype=\"step\", bins=40)\n",
    "plt.hist(out[\"rts\"][out[\"choices\"] == 2], histtype=\"step\", bins=40)\n",
    "plt.hist(out[\"rts\"][out[\"choices\"] == 3], histtype=\"step\", bins=40)"
   ]
  },
  {
   "cell_type": "code",
   "execution_count": 73,
   "metadata": {},
   "outputs": [],
   "source": [
    "out_traj[\"metadata\"][\"trajectory\"]\n",
    "my_traj = out_traj[\"metadata\"][\"trajectory\"]"
   ]
  },
  {
   "cell_type": "code",
   "execution_count": 74,
   "metadata": {},
   "outputs": [
    {
     "data": {
      "text/plain": [
       "<matplotlib.legend.Legend at 0x2bb9fe0b0>"
      ]
     },
     "execution_count": 74,
     "metadata": {},
     "output_type": "execute_result"
    },
    {
     "data": {
      "image/png": "[encoded data removed]",
      "text/plain": [
       "<Figure size 640x480 with 1 Axes>"
      ]
     },
     "metadata": {},
     "output_type": "display_data"
    }
   ],
   "source": [
    "plt.plot(my_traj[my_traj[:, 0] != -999, 0], label=\"high\")\n",
    "plt.plot(my_traj[my_traj[:, 1] != -999, 1], label=\"low low\")\n",
    "plt.plot(my_traj[my_traj[:, 2] != -999, 2], label=\"low high\")\n",
    "plt.axvline(out_traj[\"rts\"][0] * 1000 - 1000, color=\"black\")\n",
    "plt.legend()"
   ]
  },
  {
   "cell_type": "code",
   "execution_count": 70,
   "metadata": {},
   "outputs": [
    {
     "data": {
      "text/plain": [
       "<matplotlib.legend.Legend at 0x2bb816350>"
      ]
     },
     "execution_count": 70,
     "metadata": {},
     "output_type": "execute_result"
    },
    {
     "data": {
      "image/png": "[encoded data removed]",
      "text/plain": [
       "<Figure size 640x480 with 1 Axes>"
      ]
     },
     "metadata": {},
     "output_type": "display_data"
    }
   ],
   "source": [
    "plt.plot(my_traj[:, 0], label=\"high\")\n",
    "plt.plot(my_traj[:, 1], label=\"low low\")\n",
    "plt.plot(my_traj[:, 2], label=\"low high\")\n",
    "plt.axvline(out_traj[\"rts\"][0] * 1000, color=\"black\")\n",
    "plt.ylim(-2, 2)\n",
    "plt.legend()"
   ]
  },
  {
   "cell_type": "code",
   "execution_count": 63,
   "metadata": {},
   "outputs": [
    {
     "data": {
      "text/plain": [
       "array([[2.1367593],\n",
       "       [1.6214037],\n",
       "       [1.8687861],\n",
       "       ...,\n",
       "       [2.0880182],\n",
       "       [3.538052 ],\n",
       "       [1.8469286]], dtype=float32)"
      ]
     },
     "execution_count": 63,
     "metadata": {},
     "output_type": "execute_result"
    }
   ],
   "source": [
    "out_traj[\"rts\"]"
   ]
  },
  {
   "cell_type": "code",
   "execution_count": 17,
   "metadata": {},
   "outputs": [],
   "source": [
    "deadline = np.random.normal(size=(1, 10, 1)) + 1"
   ]
  },
  {
   "cell_type": "code",
   "execution_count": null,
   "metadata": {},
   "outputs": [],
   "source": []
  },
  {
   "cell_type": "code",
   "execution_count": 23,
   "metadata": {},
   "outputs": [
    {
     "data": {
      "text/plain": [
       "array([False,  True, False,  True, False, False,  True,  True, False,\n",
       "       False])"
      ]
     },
     "execution_count": 23,
     "metadata": {},
     "output_type": "execute_result"
    }
   ],
   "source": [
    "(out[\"rts\"] > deadline)[0, :, 0]"
   ]
  },
  {
   "cell_type": "code",
   "execution_count": 20,
   "metadata": {},
   "outputs": [
    {
     "data": {
      "text/plain": [
       "array([0.87634164, 5.507736  , 0.845617  , 1.7188146 , 0.94347364,\n",
       "       0.637682  , 4.503843  , 0.8925978 , 0.8825737 , 1.8784422 ],\n",
       "      dtype=float32)"
      ]
     },
     "execution_count": 20,
     "metadata": {},
     "output_type": "execute_result"
    }
   ],
   "source": [
    "out[\"rts\"][0, :, 0]"
   ]
  },
  {
   "cell_type": "code",
   "execution_count": 22,
   "metadata": {},
   "outputs": [
    {
     "data": {
      "text/plain": [
       "array([ 1.64641569,  1.53128978,  1.27339451,  0.84860328,  0.98402066,\n",
       "        2.64141251,  1.62948034, -0.76025468,  0.88753595,  3.33240167])"
      ]
     },
     "execution_count": 22,
     "metadata": {},
     "output_type": "execute_result"
    }
   ],
   "source": [
    "deadline[0, :, 0]"
   ]
  },
  {
   "cell_type": "code",
   "execution_count": 27,
   "metadata": {},
   "outputs": [
    {
     "data": {
      "text/plain": [
       "array([1., 1., 1., 1., 1., 1., 1., 1., 1., 1.])"
      ]
     },
     "execution_count": 27,
     "metadata": {},
     "output_type": "execute_result"
    }
   ],
   "source": [
    "np.ones((10, 10))[:, 0]"
   ]
  },
  {
   "cell_type": "code",
   "execution_count": 30,
   "metadata": {},
   "outputs": [
    {
     "data": {
      "text/plain": [
       "(10, 1)"
      ]
     },
     "execution_count": 30,
     "metadata": {},
     "output_type": "execute_result"
    }
   ],
   "source": [
    "np.tile(1, (10, 1)).shape"
   ]
  },
  {
   "cell_type": "code",
   "execution_count": null,
   "metadata": {},
   "outputs": [],
   "source": []
  }
 ],
 "metadata": {
  "kernelspec": {
   "display_name": "ssms_dev",
   "language": "python",
   "name": "ssms_dev"
  },
  "language_info": {
   "codemirror_mode": {
    "name": "ipython",
    "version": 3
   },
   "file_extension": ".py",
   "mimetype": "text/x-python",
   "name": "python",
   "nbconvert_exporter": "python",
   "pygments_lexer": "ipython3",
   "version": "3.10.12"
  },
  "orig_nbformat": 4
 },
 "nbformat": 4,
 "nbformat_minor": 2
}
