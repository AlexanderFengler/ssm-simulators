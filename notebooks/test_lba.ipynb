{
 "cells": [
  {
   "cell_type": "code",
   "execution_count": 1,
   "metadata": {},
   "outputs": [],
   "source": [
    "import ssms\n",
    "from ssms.basic_simulators.simulator import simulator"
   ]
  },
  {
   "cell_type": "code",
   "execution_count": 12,
   "metadata": {},
   "outputs": [],
   "source": [
    "# lba3 simulation\n",
    "obs3 = simulator(model = 'lba3',\n",
    "\t\t  theta = dict(A = 0.3,\n",
    "\t\t\t\t \t   b = 0.5,\n",
    "\t\t\t\t\t   v0 = 1.0,\n",
    "\t\t\t\t\t   v1 = 1.0,\n",
    "\t\t\t\t\t   v2 = 1.0,),\n",
    "\t\t  n_samples = 1000)"
   ]
  },
  {
   "cell_type": "code",
   "execution_count": 14,
   "metadata": {},
   "outputs": [],
   "source": [
    "# lba2 simulation\n",
    "obs2 = simulator(model = 'lba2',\n",
    "\t\t  theta = dict(A = 0.3,\n",
    "\t\t\t\t \t   b = 0.5,\n",
    "\t\t\t\t\t   v0 = 1.0,\n",
    "\t\t\t\t\t   v1 = 1.0),\n",
    "\t\t  n_samples = 1000)"
   ]
  },
  {
   "cell_type": "code",
   "execution_count": null,
   "metadata": {},
   "outputs": [],
   "source": []
  }
 ],
 "metadata": {
  "kernelspec": {
   "display_name": "ssms_dev",
   "language": "python",
   "name": "ssms_dev"
  },
  "language_info": {
   "codemirror_mode": {
    "name": "ipython",
    "version": 3
   },
   "file_extension": ".py",
   "mimetype": "text/x-python",
   "name": "python",
   "nbconvert_exporter": "python",
   "pygments_lexer": "ipython3",
   "version": "3.10.12"
  },
  "orig_nbformat": 4
 },
 "nbformat": 4,
 "nbformat_minor": 2
}
