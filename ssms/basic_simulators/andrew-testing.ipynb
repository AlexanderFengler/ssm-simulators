{
 "cells": [
  {
   "cell_type": "code",
   "execution_count": null,
   "id": "f8f7fd4ac6c2134a",
   "metadata": {
    "ExecuteTime": {
     "end_time": "2024-06-21T18:31:46.494250200Z",
     "start_time": "2024-06-21T18:31:46.481198500Z"
    },
    "collapsed": false
   },
   "outputs": [],
   "source": []
  },
  {
   "cell_type": "code",
   "execution_count": null,
   "id": "initial_id",
   "metadata": {
    "ExecuteTime": {
     "end_time": "2024-06-26T16:57:48.690100700Z",
     "start_time": "2024-06-26T16:57:40.595829200Z"
    },
    "collapsed": false
   },
   "outputs": [],
   "source": [
    "import ssms\n",
    "from ssms.basic_simulators import simulator\n",
    "import os\n",
    "\n",
    "# print(list(ssms.config.model_config.keys())[:10])\n",
    "# print(ssms.config.model_config['ddm'])\n",
    "\n",
    "sim_out = simulator.simulator(\n",
    "    model=\"ddm\",\n",
    "    theta={\"v\": 0.5, \"a\": 1, \"z\": 0.5, \"t\": 0.5},\n",
    "    n_samples=10,\n",
    "    no_noise=False,\n",
    ")\n",
    "\n",
    "print(sim_out)"
   ]
  },
  {
   "cell_type": "code",
   "execution_count": null,
   "id": "7146c6d72f1889b6",
   "metadata": {
    "ExecuteTime": {
     "end_time": "2024-06-21T18:31:48.848826700Z",
     "start_time": "2024-06-21T18:31:48.807830200Z"
    },
    "collapsed": false
   },
   "outputs": [],
   "source": [
    "print(sim_out[\"choices\"])"
   ]
  },
  {
   "cell_type": "code",
   "execution_count": null,
   "id": "ead9946e0a5e953a",
   "metadata": {
    "ExecuteTime": {
     "end_time": "2024-06-27T14:50:12.583460800Z",
     "start_time": "2024-06-27T14:50:10.616117800Z"
    },
    "collapsed": false
   },
   "outputs": [],
   "source": [
    "import matplotlib.pyplot as plt\n",
    "\n",
    "filt_value = [\n",
    "    value for value in sim_out[\"metadata\"][\"trajectory\"] if -1 < value[0] < 1\n",
    "]  # save it in a list\n",
    "# for value in sim_out['metadata']['trajectory']:\n",
    "#     print(value[0])\n",
    "plt.plot(filt_value)"
   ]
  },
  {
   "cell_type": "code",
   "execution_count": 11,
   "id": "df2c9f43c090a46",
   "metadata": {
    "ExecuteTime": {
     "end_time": "2024-06-27T14:50:17.788331800Z",
     "start_time": "2024-06-27T14:50:16.178093800Z"
    },
    "collapsed": false
   },
   "outputs": [
    {
     "name": "stdout",
     "output_type": "stream",
     "text": [
      "[-1.21034939 -1.20016782 -1.18972329 -1.17900561 -1.16800406 -1.15670738\n",
      " -1.14510367 -1.13318043 -1.12092448 -1.1083219  -1.09535801 -1.08201728\n",
      " -1.06828334 -1.05413883 -1.03956539 -1.02454358 -1.00905279 -0.99307115\n",
      " -0.97657544 -0.95954099 -0.94194158 -0.92374928 -0.90493436 -0.88546514\n",
      " -0.86530778 -0.84442619 -0.82278177 -0.80033323 -0.77703638 -0.75284385\n",
      " -0.72770483 -0.70156479 -0.67436513 -0.64604281 -0.61653001 -0.58575365\n",
      " -0.55363495 -0.5200889  -0.48502374 -0.44834033 -0.40993152 -0.36968147\n",
      " -0.3274649  -0.28314637 -0.23657944 -0.18760598 -0.13605536 -0.08174386\n",
      " -0.02447415  0.03596487  0.0997979   0.1672623   0.23860621  0.31408525\n",
      "  0.39395705  0.47847269  0.56786384  0.6623235   0.76197795  0.86684621\n",
      "  0.97678237  1.09139464  1.20993446  1.33114912  1.45309688  1.57293786\n",
      "  1.68675067  1.78949954  1.87540662  1.93913393  1.97810719  1.99533082\n",
      "  1.99962504  1.9999962   2.          2.          2.          2.\n",
      "  2.          2.          2.          2.          2.          2.\n",
      "  2.          2.          2.          2.          2.          2.\n",
      "  2.          2.          2.          2.          2.          2.\n",
      "  2.          2.          2.          2.          2.          2.\n",
      "  2.          2.          2.          2.          2.          2.\n",
      "  2.          2.          2.          2.          2.          2.\n",
      "  2.          2.          2.          2.          2.          2.\n",
      "  2.          2.          2.          2.          2.          2.\n",
      "  2.          2.          2.          2.          2.          2.\n",
      "  2.          2.          2.          2.          2.          2.\n",
      "  2.          2.          2.          2.          2.          2.\n",
      "  2.          2.          2.          2.          2.          2.\n",
      "  2.          2.          2.          2.          2.          2.\n",
      "  2.          2.          2.          2.          2.          2.\n",
      "  2.          2.          2.          2.          2.          2.\n",
      "  2.          2.          2.          2.          2.          2.\n",
      "  2.          2.          2.          2.          2.          2.\n",
      "  2.          2.          2.          2.          2.          2.\n",
      "  2.          2.          2.          2.          2.          2.\n",
      "  2.          2.          2.          2.          2.          2.\n",
      "  2.          2.        ]\n"
     ]
    },
    {
     "data": {
      "text/plain": [
       "[<matplotlib.lines.Line2D at 0x21c8d7ff400>]"
      ]
     },
     "execution_count": 11,
     "metadata": {},
     "output_type": "execute_result"
    },
    {
     "data": {
      "image/png": "[encoded data removed]",
      "text/plain": [
       "<Figure size 640x480 with 1 Axes>"
      ]
     },
     "metadata": {},
     "output_type": "display_data"
    }
   ],
   "source": [
    "import drift_functions as df\n",
    "import numpy as np\n",
    "import matplotlib.pyplot as plt\n",
    "\n",
    "t = np.arange(0, 200, 1)\n",
    "p_outer = -2\n",
    "p_inner = -2\n",
    "p_target = 2\n",
    "r = 0.026\n",
    "sda_initial = 2\n",
    "\n",
    "\n",
    "v_t_list = []\n",
    "sda_list = []\n",
    "\n",
    "\n",
    "v_t = df.attend_drift(\n",
    "    t=t,\n",
    "    p_target=p_target,\n",
    "    p_outer=p_outer,\n",
    "    p_inner=p_inner,\n",
    "    r=r,\n",
    "    sda=sda_initial,\n",
    ")\n",
    "\n",
    "new_vt = np.insert(v_t, 0, 0.5)\n",
    "print(v_t)\n",
    "# print(new_vt)\n",
    "plt.plot(v_t)\n",
    "# v_t_list.append(v_t)\n",
    "# sda_list.append(sda_initial)\n",
    "#\n",
    "# v_t_array = np.array(v_t_list)\n",
    "# sda_array = np.array(sda_list)\n",
    "\n",
    "\n",
    "# plt.subplot(2, 1, 1)\n",
    "# plt.plot(t, v_t_array, label='v_t')\n",
    "# plt.xlabel('Time')\n",
    "# plt.ylabel('v_t')\n",
    "# plt.title('v_t over Time')\n",
    "# plt.legend()\n",
    "#\n",
    "#\n",
    "# plt.subplot(2, 1, 2)\n",
    "# plt.plot(t, sda_array, label='sda', color='orange')\n",
    "# plt.xlabel('Time')\n",
    "# plt.ylabel('sda')\n",
    "# plt.title('sda over Time')\n",
    "# plt.legend()\n",
    "#\n",
    "# plt.tight_layout()\n",
    "# plt.show()"
   ]
  },
  {
   "cell_type": "code",
   "execution_count": 16,
   "id": "3e0c95ab5fa07da4",
   "metadata": {
    "ExecuteTime": {
     "end_time": "2024-06-25T18:59:19.049918800Z",
     "start_time": "2024-06-25T18:59:17.584821900Z"
    },
    "collapsed": false
   },
   "outputs": [
    {
     "name": "stdout",
     "output_type": "stream",
     "text": [
      "Boundary Dict: {'boundary_params': {}, 'boundary_fun': <function constant at 0x0000021CF0D0D480>, 'boundary_multiplicative': True}\n",
      "This is the sim param dict: {'max_t': 20, 's': 1.0, 'n_samples': 1000, 'n_trials': 1, 'delta_t': 0.001, 'random_state': None, 'return_option': 'full', 'smooth': True}\n",
      "[[ 0.80105436  1.        ]\n",
      " [ 0.72184879 -1.        ]\n",
      " [ 0.95849425 -1.        ]\n",
      " ...\n",
      " [ 1.56553996  1.        ]\n",
      " [ 1.17629015  1.        ]\n",
      " [ 0.93114185 -1.        ]]\n"
     ]
    },
    {
     "data": {
      "text/plain": [
       "Text(0, 0.5, 'frequency')"
      ]
     },
     "execution_count": 16,
     "metadata": {},
     "output_type": "execute_result"
    },
    {
     "data": {
      "image/png": "[encoded data removed]",
      "text/plain": [
       "<Figure size 640x480 with 1 Axes>"
      ]
     },
     "metadata": {},
     "output_type": "display_data"
    }
   ],
   "source": [
    "import ssms\n",
    "import numpy as np\n",
    "import matplotlib.pyplot as plt\n",
    "from ssms.basic_simulators import simulator\n",
    "\n",
    "sim_out2 = simulator.simulator(\n",
    "    model=\"shrink_spot\",\n",
    "    theta=[0.7, 0.5, 0.45, 2, 2, 2, 0.01, 1],\n",
    "    # theta=[1, 0.5, 0.45, 1, -1, -1, 1, 2.6],\n",
    "    # theta = [0.15, 0.5, 0.45, 0.55, -0.55, -0.55, 1.9, 2],\n",
    "    # theta = [1.9, 5, 4.5, 5.5, -5.5, -5.5, 0.26, 26],\n",
    "    n_samples=1000,\n",
    "    no_noise=False,\n",
    "    delta_t=0.001,\n",
    ")\n",
    "rts = np.squeeze(sim_out2[\"rts\"]).reshape(-1)\n",
    "responses = np.squeeze(sim_out2[\"choices\"]).reshape(-1)\n",
    "\n",
    "sims_array = np.column_stack([rts, responses])\n",
    "print(sims_array)\n",
    "plt.hist(\n",
    "    sim_out2[\"rts\"] * sim_out2[\"choices\"],\n",
    "    bins=100,\n",
    "    histtype=\"step\",\n",
    "    label=\"simulations\",\n",
    "    color=\"blue\",\n",
    "    alpha=0.2,\n",
    "    density=True,\n",
    ")\n",
    "plt.xlabel(\"rt\")\n",
    "plt.ylabel(\"frequency\")"
   ]
  },
  {
   "cell_type": "code",
   "execution_count": null,
   "id": "31ee0107",
   "metadata": {},
   "outputs": [],
   "source": [
    "help(simulator.simulator)"
   ]
  },
  {
   "cell_type": "code",
   "execution_count": 17,
   "id": "f4c278320d5e0de0",
   "metadata": {
    "ExecuteTime": {
     "end_time": "2024-06-25T18:59:24.121344500Z",
     "start_time": "2024-06-25T18:59:23.874954800Z"
    },
    "collapsed": false
   },
   "outputs": [
    {
     "data": {
      "text/plain": [
       "<matplotlib.legend.Legend at 0x21c8be33b80>"
      ]
     },
     "execution_count": 17,
     "metadata": {},
     "output_type": "execute_result"
    },
    {
     "data": {
      "image/png": "[encoded data removed]",
      "text/plain": [
       "<Figure size 640x480 with 1 Axes>"
      ]
     },
     "metadata": {},
     "output_type": "display_data"
    }
   ],
   "source": [
    "import matplotlib.pyplot as plt\n",
    "\n",
    "filt_value = [\n",
    "    value for value in sim_out2[\"metadata\"][\"trajectory\"] if -1 < value[0] < 1\n",
    "]  # save it in a list\n",
    "# plt.plot(v_t)\n",
    "plt.plot(filt_value, color=\"red\", label=\"Particle\")\n",
    "plt.title(\"Simulation of incongruent Shrinking Spotlight\")\n",
    "plt.xlabel(\"Time\")\n",
    "plt.ylabel(\"Decision value\")\n",
    "# plt.axhline(y=1, label=\"choice up\", color=\"black\", linestyle=\"--\")\n",
    "# plt.axhline(y=-1, label=\"choice down\", color=\"black\", linestyle=\"--\")\n",
    "# plt.axhline(y=0, color=\"black\")\n",
    "# plt.axvline(x=0.5, label=\"non-decision time\", color=\"black\", linestyle=\"-\")\n",
    "plt.tight_layout()\n",
    "plt.legend()"
   ]
  },
  {
   "cell_type": "code",
   "execution_count": null,
   "id": "2a42d6b0e7ee3b9c",
   "metadata": {
    "ExecuteTime": {
     "end_time": "2024-06-25T18:14:15.153668800Z",
     "start_time": "2024-06-25T18:14:15.017744500Z"
    },
    "collapsed": false
   },
   "outputs": [],
   "source": [
    "from ssms.basic_simulators import simulator\n",
    "\n",
    "sim_out2 = simulator.simulator(\n",
    "    model=\"shrink_spot\",\n",
    "    theta={\"v\": 0, \"a\": 1, \"z\": 0.5, \"t\": 0.5},\n",
    "    n_samples=1000,\n",
    "    no_noise=False,\n",
    ")\n",
    "\n",
    "print(np.mean(sim_out2[\"rts\"]))"
   ]
  },
  {
   "cell_type": "code",
   "execution_count": null,
   "id": "54cf007b0e94ec41",
   "metadata": {
    "ExecuteTime": {
     "end_time": "2024-06-26T17:00:43.974307700Z",
     "start_time": "2024-06-26T17:00:41.602770800Z"
    },
    "collapsed": false
   },
   "outputs": [],
   "source": [
    "import ssms\n",
    "\n",
    "list(ssms.config.model_config.keys())[:]"
   ]
  },
  {
   "cell_type": "code",
   "execution_count": null,
   "id": "cfc3edf7",
   "metadata": {},
   "outputs": [],
   "source": []
  },
  {
   "cell_type": "code",
   "execution_count": null,
   "id": "727b90a45a85a0d2",
   "metadata": {
    "collapsed": false
   },
   "outputs": [],
   "source": [
    "import drift_functions as df\n",
    "import numpy as np\n",
    "import matplotlib.pyplot as plt\n",
    "\n",
    "\n",
    "gamma_drift = df.gamma_drift(t=np.arange(0, 10, 0.001), shape=2, scale=0.01, c=1.5)\n",
    "plt.plot(gamma_drift)"
   ]
  },
  {
   "cell_type": "code",
   "execution_count": 10,
   "id": "a6084325",
   "metadata": {},
   "outputs": [
    {
     "name": "stdout",
     "output_type": "stream",
     "text": [
      "{'name': 'shrink_spot', 'params': ['a', 'z', 't', 'p_target', 'p_outer', 'p_inner', 'r', 'sda'], 'param_bounds': [[0.3, 0.1, 0.001, -1, -1, -1, 0.001, 0.001], [3.0, 0.9, 2.0, 1, 1, 1, 3, 3]], 'boundary_name': 'constant', 'boundary': <function constant at 0x0000019CE37415A0>, 'drift_name': 'attend_drift', 'drift_fun': <function attend_drift at 0x0000019CFB8C48B0>, 'n_params': 8, 'default_params': [0, 1.0, 0.5, 0.25, 1, -1, -1, 0.05, 2], 'nchoices': 2, 'simulator': <cyfunction ddm_flex_no_v at 0x0000019CFB7FF440>}\n"
     ]
    }
   ],
   "source": [
    "# simulating multiple random parameter sets for shrinking spotlight\n",
    "import ssms\n",
    "from ssms.basic_simulators import simulator\n",
    "import numpy as np\n",
    "\n",
    "\n",
    "model_config = ssms.config.model_config[\"shrink_spot\"]\n",
    "print(model_config)\n",
    "parameter_list = []\n",
    "for _ in range(5):\n",
    "    theta = np.float32(\n",
    "        np.random.uniform(\n",
    "            low=model_config[\"param_bounds\"][0],\n",
    "            high=model_config[\"param_bounds\"][1],\n",
    "        )\n",
    "    )\n",
    "    parameter_list.append(theta)"
   ]
  }
 ],
 "metadata": {
  "kernelspec": {
   "display_name": "ssms",
   "language": "python",
   "name": "python3"
  },
  "language_info": {
   "codemirror_mode": {
    "name": "ipython",
    "version": 3
   },
   "file_extension": ".py",
   "mimetype": "text/x-python",
   "name": "python",
   "nbconvert_exporter": "python",
   "pygments_lexer": "ipython3",
   "version": "3.10.14"
  }
 },
 "nbformat": 4,
 "nbformat_minor": 5
}
