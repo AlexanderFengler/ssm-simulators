{
 "cells": [
  {
   "cell_type": "code",
   "execution_count": null,
   "outputs": [],
   "source": [],
   "metadata": {
    "collapsed": false,
    "ExecuteTime": {
     "end_time": "2024-06-21T18:31:46.494250200Z",
     "start_time": "2024-06-21T18:31:46.481198500Z"
    }
   },
   "id": "f8f7fd4ac6c2134a"
  },
  {
   "cell_type": "code",
   "execution_count": 1,
   "outputs": [
    {
     "name": "stdout",
     "output_type": "stream",
     "text": [
      "Boundary Dict: {'boundary_params': {}, 'boundary_fun': <function constant at 0x000001CD15E3A320>, 'boundary_multiplicative': True}\n",
      "[[ 0.0000000e+00]\n",
      " [ 3.9776079e-02]\n",
      " [ 3.7230246e-02]\n",
      " ...\n",
      " [-9.9900000e+02]\n",
      " [-9.9900000e+02]\n",
      " [-9.9900000e+02]]\n"
     ]
    }
   ],
   "source": [
    "import ssms\n",
    "from ssms.basic_simulators import simulator\n",
    "import os\n",
    "\n",
    "# print(list(ssms.config.model_config.keys())[:10])\n",
    "# print(ssms.config.model_config['ddm'])\n",
    "\n",
    "sim_out = simulator.simulator(model='ulrich',\n",
    "                              theta={'v': 0,\n",
    "                                     'a': 1,\n",
    "                                     'z': 0.5,\n",
    "                                     't': 0.5}\n",
    "                              ,\n",
    "                              n_samples=5,\n",
    "                              no_noise=False)\n",
    "\n",
    "print(sim_out['metadata']['trajectory'])"
   ],
   "metadata": {
    "collapsed": false,
    "ExecuteTime": {
     "end_time": "2024-06-21T18:31:48.803819200Z",
     "start_time": "2024-06-21T18:31:46.509471300Z"
    }
   },
   "id": "initial_id"
  },
  {
   "cell_type": "code",
   "execution_count": 2,
   "outputs": [
    {
     "name": "stdout",
     "output_type": "stream",
     "text": [
      "[[-1]\n",
      " [ 1]\n",
      " [-1]\n",
      " [ 1]\n",
      " [-1]]\n"
     ]
    }
   ],
   "source": [
    "print(sim_out['choices'])"
   ],
   "metadata": {
    "collapsed": false,
    "ExecuteTime": {
     "end_time": "2024-06-21T18:31:48.848826700Z",
     "start_time": "2024-06-21T18:31:48.807830200Z"
    }
   },
   "id": "7146c6d72f1889b6"
  },
  {
   "cell_type": "code",
   "execution_count": 2,
   "outputs": [],
   "source": [],
   "metadata": {
    "collapsed": false,
    "ExecuteTime": {
     "end_time": "2024-06-21T18:31:48.850029400Z",
     "start_time": "2024-06-21T18:31:48.822358700Z"
    }
   },
   "id": "ead9946e0a5e953a"
  }
 ],
 "metadata": {
  "kernelspec": {
   "display_name": "Python 3",
   "language": "python",
   "name": "python3"
  },
  "language_info": {
   "codemirror_mode": {
    "name": "ipython",
    "version": 2
   },
   "file_extension": ".py",
   "mimetype": "text/x-python",
   "name": "python",
   "nbconvert_exporter": "python",
   "pygments_lexer": "ipython2",
   "version": "2.7.6"
  }
 },
 "nbformat": 4,
 "nbformat_minor": 5
}
