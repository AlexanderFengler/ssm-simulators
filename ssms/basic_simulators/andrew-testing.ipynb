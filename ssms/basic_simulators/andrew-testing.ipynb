{
 "cells": [
  {
   "cell_type": "code",
   "execution_count": null,
   "id": "f8f7fd4ac6c2134a",
   "metadata": {
    "ExecuteTime": {
     "end_time": "2024-06-21T18:31:46.494250200Z",
     "start_time": "2024-06-21T18:31:46.481198500Z"
    },
    "collapsed": false
   },
   "outputs": [],
   "source": []
  },
  {
   "cell_type": "code",
   "execution_count": null,
   "id": "initial_id",
   "metadata": {
    "ExecuteTime": {
     "end_time": "2024-06-26T16:57:48.690100700Z",
     "start_time": "2024-06-26T16:57:40.595829200Z"
    },
    "collapsed": false
   },
   "outputs": [],
   "source": [
    "import ssms\n",
    "from ssms.basic_simulators import simulator\n",
    "import os\n",
    "\n",
    "# print(list(ssms.config.model_config.keys())[:10])\n",
    "# print(ssms.config.model_config['ddm'])\n",
    "\n",
    "sim_out = simulator.simulator(\n",
    "    model=\"ddm\",\n",
    "    theta={\"v\": 0.5, \"a\": 1, \"z\": 0.5, \"t\": 0.5},\n",
    "    n_samples=10,\n",
    "    no_noise=False,\n",
    ")\n",
    "\n",
    "print(sim_out)"
   ]
  },
  {
   "cell_type": "code",
   "execution_count": null,
   "id": "7146c6d72f1889b6",
   "metadata": {
    "ExecuteTime": {
     "end_time": "2024-06-21T18:31:48.848826700Z",
     "start_time": "2024-06-21T18:31:48.807830200Z"
    },
    "collapsed": false
   },
   "outputs": [],
   "source": [
    "print(sim_out[\"choices\"])"
   ]
  },
  {
   "cell_type": "code",
   "execution_count": null,
   "id": "ead9946e0a5e953a",
   "metadata": {
    "ExecuteTime": {
     "end_time": "2024-06-27T14:50:12.583460800Z",
     "start_time": "2024-06-27T14:50:10.616117800Z"
    },
    "collapsed": false
   },
   "outputs": [],
   "source": [
    "import matplotlib.pyplot as plt\n",
    "\n",
    "filt_value = [\n",
    "    value for value in sim_out[\"metadata\"][\"trajectory\"] if -1 < value[0] < 1\n",
    "]  # save it in a list\n",
    "# for value in sim_out['metadata']['trajectory']:\n",
    "#     print(value[0])\n",
    "plt.plot(filt_value)"
   ]
  },
  {
   "cell_type": "code",
   "execution_count": 24,
   "id": "df2c9f43c090a46",
   "metadata": {
    "ExecuteTime": {
     "end_time": "2024-06-27T14:50:17.788331800Z",
     "start_time": "2024-06-27T14:50:16.178093800Z"
    },
    "collapsed": false
   },
   "outputs": [
    {
     "name": "stdout",
     "output_type": "stream",
     "text": [
      "These are the ratios [5.    4.    3.    2.    1.    0.025 0.025 0.025 0.025 0.025 0.025 0.025\n",
      " 0.025 0.025 0.025 0.025 0.025 0.025 0.025 0.025 0.025 0.025 0.025 0.025\n",
      " 0.025 0.025 0.025 0.025 0.025 0.025 0.025 0.025 0.025 0.025 0.025 0.025\n",
      " 0.025 0.025 0.025 0.025 0.025 0.025 0.025 0.025 0.025 0.025 0.025 0.025\n",
      " 0.025 0.025 0.025 0.025 0.025 0.025 0.025 0.025 0.025 0.025 0.025 0.025\n",
      " 0.025 0.025 0.025 0.025 0.025 0.025 0.025 0.025 0.025 0.025 0.025 0.025\n",
      " 0.025 0.025 0.025 0.025 0.025 0.025 0.025 0.025 0.025 0.025 0.025 0.025\n",
      " 0.025 0.025 0.025 0.025 0.025 0.025 0.025 0.025 0.025 0.025 0.025 0.025\n",
      " 0.025 0.025 0.025 0.025 0.025 0.025 0.025 0.025 0.025 0.025 0.025 0.025\n",
      " 0.025 0.025 0.025 0.025 0.025 0.025 0.025 0.025 0.025 0.025 0.025 0.025\n",
      " 0.025 0.025 0.025 0.025 0.025 0.025 0.025 0.025 0.025 0.025 0.025 0.025\n",
      " 0.025 0.025 0.025 0.025 0.025 0.025 0.025 0.025 0.025 0.025 0.025 0.025\n",
      " 0.025 0.025 0.025 0.025 0.025 0.025 0.025 0.025 0.025 0.025 0.025 0.025\n",
      " 0.025 0.025 0.025 0.025 0.025 0.025 0.025 0.025 0.025 0.025 0.025 0.025\n",
      " 0.025 0.025 0.025 0.025 0.025 0.025 0.025 0.025 0.025 0.025 0.025 0.025\n",
      " 0.025 0.025 0.025 0.025 0.025 0.025 0.025 0.025 0.025 0.025 0.025 0.025\n",
      " 0.025 0.025 0.025 0.025 0.025 0.025 0.025 0.025]\n",
      " These are the sdas: [2.   1.6  1.2  0.8  0.4  0.01 0.01 0.01 0.01 0.01 0.01 0.01 0.01 0.01\n",
      " 0.01 0.01 0.01 0.01 0.01 0.01 0.01 0.01 0.01 0.01 0.01 0.01 0.01 0.01\n",
      " 0.01 0.01 0.01 0.01 0.01 0.01 0.01 0.01 0.01 0.01 0.01 0.01 0.01 0.01\n",
      " 0.01 0.01 0.01 0.01 0.01 0.01 0.01 0.01 0.01 0.01 0.01 0.01 0.01 0.01\n",
      " 0.01 0.01 0.01 0.01 0.01 0.01 0.01 0.01 0.01 0.01 0.01 0.01 0.01 0.01\n",
      " 0.01 0.01 0.01 0.01 0.01 0.01 0.01 0.01 0.01 0.01 0.01 0.01 0.01 0.01\n",
      " 0.01 0.01 0.01 0.01 0.01 0.01 0.01 0.01 0.01 0.01 0.01 0.01 0.01 0.01\n",
      " 0.01 0.01 0.01 0.01 0.01 0.01 0.01 0.01 0.01 0.01 0.01 0.01 0.01 0.01\n",
      " 0.01 0.01 0.01 0.01 0.01 0.01 0.01 0.01 0.01 0.01 0.01 0.01 0.01 0.01\n",
      " 0.01 0.01 0.01 0.01 0.01 0.01 0.01 0.01 0.01 0.01 0.01 0.01 0.01 0.01\n",
      " 0.01 0.01 0.01 0.01 0.01 0.01 0.01 0.01 0.01 0.01 0.01 0.01 0.01 0.01\n",
      " 0.01 0.01 0.01 0.01 0.01 0.01 0.01 0.01 0.01 0.01 0.01 0.01 0.01 0.01\n",
      " 0.01 0.01 0.01 0.01 0.01 0.01 0.01 0.01 0.01 0.01 0.01 0.01 0.01 0.01\n",
      " 0.01 0.01 0.01 0.01 0.01 0.01 0.01 0.01 0.01 0.01 0.01 0.01 0.01 0.01\n",
      " 0.01 0.01 0.01 0.01]\n",
      "This is a_outer: [2.26627352e-01 1.74250712e-01 1.05649774e-01 3.03963618e-02\n",
      " 8.84172852e-05 0.00000000e+00 0.00000000e+00 0.00000000e+00\n",
      " 0.00000000e+00 0.00000000e+00 0.00000000e+00 0.00000000e+00\n",
      " 0.00000000e+00 0.00000000e+00 0.00000000e+00 0.00000000e+00\n",
      " 0.00000000e+00 0.00000000e+00 0.00000000e+00 0.00000000e+00\n",
      " 0.00000000e+00 0.00000000e+00 0.00000000e+00 0.00000000e+00\n",
      " 0.00000000e+00 0.00000000e+00 0.00000000e+00 0.00000000e+00\n",
      " 0.00000000e+00 0.00000000e+00 0.00000000e+00 0.00000000e+00\n",
      " 0.00000000e+00 0.00000000e+00 0.00000000e+00 0.00000000e+00\n",
      " 0.00000000e+00 0.00000000e+00 0.00000000e+00 0.00000000e+00\n",
      " 0.00000000e+00 0.00000000e+00 0.00000000e+00 0.00000000e+00\n",
      " 0.00000000e+00 0.00000000e+00 0.00000000e+00 0.00000000e+00\n",
      " 0.00000000e+00 0.00000000e+00 0.00000000e+00 0.00000000e+00\n",
      " 0.00000000e+00 0.00000000e+00 0.00000000e+00 0.00000000e+00\n",
      " 0.00000000e+00 0.00000000e+00 0.00000000e+00 0.00000000e+00\n",
      " 0.00000000e+00 0.00000000e+00 0.00000000e+00 0.00000000e+00\n",
      " 0.00000000e+00 0.00000000e+00 0.00000000e+00 0.00000000e+00\n",
      " 0.00000000e+00 0.00000000e+00 0.00000000e+00 0.00000000e+00\n",
      " 0.00000000e+00 0.00000000e+00 0.00000000e+00 0.00000000e+00\n",
      " 0.00000000e+00 0.00000000e+00 0.00000000e+00 0.00000000e+00\n",
      " 0.00000000e+00 0.00000000e+00 0.00000000e+00 0.00000000e+00\n",
      " 0.00000000e+00 0.00000000e+00 0.00000000e+00 0.00000000e+00\n",
      " 0.00000000e+00 0.00000000e+00 0.00000000e+00 0.00000000e+00\n",
      " 0.00000000e+00 0.00000000e+00 0.00000000e+00 0.00000000e+00\n",
      " 0.00000000e+00 0.00000000e+00 0.00000000e+00 0.00000000e+00\n",
      " 0.00000000e+00 0.00000000e+00 0.00000000e+00 0.00000000e+00\n",
      " 0.00000000e+00 0.00000000e+00 0.00000000e+00 0.00000000e+00\n",
      " 0.00000000e+00 0.00000000e+00 0.00000000e+00 0.00000000e+00\n",
      " 0.00000000e+00 0.00000000e+00 0.00000000e+00 0.00000000e+00\n",
      " 0.00000000e+00 0.00000000e+00 0.00000000e+00 0.00000000e+00\n",
      " 0.00000000e+00 0.00000000e+00 0.00000000e+00 0.00000000e+00\n",
      " 0.00000000e+00 0.00000000e+00 0.00000000e+00 0.00000000e+00\n",
      " 0.00000000e+00 0.00000000e+00 0.00000000e+00 0.00000000e+00\n",
      " 0.00000000e+00 0.00000000e+00 0.00000000e+00 0.00000000e+00\n",
      " 0.00000000e+00 0.00000000e+00 0.00000000e+00 0.00000000e+00\n",
      " 0.00000000e+00 0.00000000e+00 0.00000000e+00 0.00000000e+00\n",
      " 0.00000000e+00 0.00000000e+00 0.00000000e+00 0.00000000e+00\n",
      " 0.00000000e+00 0.00000000e+00 0.00000000e+00 0.00000000e+00\n",
      " 0.00000000e+00 0.00000000e+00 0.00000000e+00 0.00000000e+00\n",
      " 0.00000000e+00 0.00000000e+00 0.00000000e+00 0.00000000e+00\n",
      " 0.00000000e+00 0.00000000e+00 0.00000000e+00 0.00000000e+00\n",
      " 0.00000000e+00 0.00000000e+00 0.00000000e+00 0.00000000e+00\n",
      " 0.00000000e+00 0.00000000e+00 0.00000000e+00 0.00000000e+00\n",
      " 0.00000000e+00 0.00000000e+00 0.00000000e+00 0.00000000e+00\n",
      " 0.00000000e+00 0.00000000e+00 0.00000000e+00 0.00000000e+00\n",
      " 0.00000000e+00 0.00000000e+00 0.00000000e+00 0.00000000e+00\n",
      " 0.00000000e+00 0.00000000e+00 0.00000000e+00 0.00000000e+00\n",
      " 0.00000000e+00 0.00000000e+00 0.00000000e+00 0.00000000e+00\n",
      " 0.00000000e+00 0.00000000e+00 0.00000000e+00 0.00000000e+00\n",
      " 0.00000000e+00 0.00000000e+00 0.00000000e+00 0.00000000e+00]\n",
      "This is a_inner: [0.17466632 0.20307957 0.23281135 0.23558917 0.10556136 0.\n",
      " 0.         0.         0.         0.         0.         0.\n",
      " 0.         0.         0.         0.         0.         0.\n",
      " 0.         0.         0.         0.         0.         0.\n",
      " 0.         0.         0.         0.         0.         0.\n",
      " 0.         0.         0.         0.         0.         0.\n",
      " 0.         0.         0.         0.         0.         0.\n",
      " 0.         0.         0.         0.         0.         0.\n",
      " 0.         0.         0.         0.         0.         0.\n",
      " 0.         0.         0.         0.         0.         0.\n",
      " 0.         0.         0.         0.         0.         0.\n",
      " 0.         0.         0.         0.         0.         0.\n",
      " 0.         0.         0.         0.         0.         0.\n",
      " 0.         0.         0.         0.         0.         0.\n",
      " 0.         0.         0.         0.         0.         0.\n",
      " 0.         0.         0.         0.         0.         0.\n",
      " 0.         0.         0.         0.         0.         0.\n",
      " 0.         0.         0.         0.         0.         0.\n",
      " 0.         0.         0.         0.         0.         0.\n",
      " 0.         0.         0.         0.         0.         0.\n",
      " 0.         0.         0.         0.         0.         0.\n",
      " 0.         0.         0.         0.         0.         0.\n",
      " 0.         0.         0.         0.         0.         0.\n",
      " 0.         0.         0.         0.         0.         0.\n",
      " 0.         0.         0.         0.         0.         0.\n",
      " 0.         0.         0.         0.         0.         0.\n",
      " 0.         0.         0.         0.         0.         0.\n",
      " 0.         0.         0.         0.         0.         0.\n",
      " 0.         0.         0.         0.         0.         0.\n",
      " 0.         0.         0.         0.         0.         0.\n",
      " 0.         0.         0.         0.         0.         0.\n",
      " 0.         0.         0.         0.         0.         0.\n",
      " 0.         0.         0.         0.         0.         0.\n",
      " 0.         0.        ]\n",
      "This is a_target: [0.19741265 0.24533944 0.32307776 0.46802894 0.78870045 1.\n",
      " 1.         1.         1.         1.         1.         1.\n",
      " 1.         1.         1.         1.         1.         1.\n",
      " 1.         1.         1.         1.         1.         1.\n",
      " 1.         1.         1.         1.         1.         1.\n",
      " 1.         1.         1.         1.         1.         1.\n",
      " 1.         1.         1.         1.         1.         1.\n",
      " 1.         1.         1.         1.         1.         1.\n",
      " 1.         1.         1.         1.         1.         1.\n",
      " 1.         1.         1.         1.         1.         1.\n",
      " 1.         1.         1.         1.         1.         1.\n",
      " 1.         1.         1.         1.         1.         1.\n",
      " 1.         1.         1.         1.         1.         1.\n",
      " 1.         1.         1.         1.         1.         1.\n",
      " 1.         1.         1.         1.         1.         1.\n",
      " 1.         1.         1.         1.         1.         1.\n",
      " 1.         1.         1.         1.         1.         1.\n",
      " 1.         1.         1.         1.         1.         1.\n",
      " 1.         1.         1.         1.         1.         1.\n",
      " 1.         1.         1.         1.         1.         1.\n",
      " 1.         1.         1.         1.         1.         1.\n",
      " 1.         1.         1.         1.         1.         1.\n",
      " 1.         1.         1.         1.         1.         1.\n",
      " 1.         1.         1.         1.         1.         1.\n",
      " 1.         1.         1.         1.         1.         1.\n",
      " 1.         1.         1.         1.         1.         1.\n",
      " 1.         1.         1.         1.         1.         1.\n",
      " 1.         1.         1.         1.         1.         1.\n",
      " 1.         1.         1.         1.         1.         1.\n",
      " 1.         1.         1.         1.         1.         1.\n",
      " 1.         1.         1.         1.         1.         1.\n",
      " 1.         1.         1.         1.         1.         1.\n",
      " 1.         1.         1.         1.         1.         1.\n",
      " 1.         1.        ]\n",
      "[-0.30258735 -0.25466056 -0.17692224 -0.03197106  0.28870045  0.5\n",
      "  0.5         0.5         0.5         0.5         0.5         0.5\n",
      "  0.5         0.5         0.5         0.5         0.5         0.5\n",
      "  0.5         0.5         0.5         0.5         0.5         0.5\n",
      "  0.5         0.5         0.5         0.5         0.5         0.5\n",
      "  0.5         0.5         0.5         0.5         0.5         0.5\n",
      "  0.5         0.5         0.5         0.5         0.5         0.5\n",
      "  0.5         0.5         0.5         0.5         0.5         0.5\n",
      "  0.5         0.5         0.5         0.5         0.5         0.5\n",
      "  0.5         0.5         0.5         0.5         0.5         0.5\n",
      "  0.5         0.5         0.5         0.5         0.5         0.5\n",
      "  0.5         0.5         0.5         0.5         0.5         0.5\n",
      "  0.5         0.5         0.5         0.5         0.5         0.5\n",
      "  0.5         0.5         0.5         0.5         0.5         0.5\n",
      "  0.5         0.5         0.5         0.5         0.5         0.5\n",
      "  0.5         0.5         0.5         0.5         0.5         0.5\n",
      "  0.5         0.5         0.5         0.5         0.5         0.5\n",
      "  0.5         0.5         0.5         0.5         0.5         0.5\n",
      "  0.5         0.5         0.5         0.5         0.5         0.5\n",
      "  0.5         0.5         0.5         0.5         0.5         0.5\n",
      "  0.5         0.5         0.5         0.5         0.5         0.5\n",
      "  0.5         0.5         0.5         0.5         0.5         0.5\n",
      "  0.5         0.5         0.5         0.5         0.5         0.5\n",
      "  0.5         0.5         0.5         0.5         0.5         0.5\n",
      "  0.5         0.5         0.5         0.5         0.5         0.5\n",
      "  0.5         0.5         0.5         0.5         0.5         0.5\n",
      "  0.5         0.5         0.5         0.5         0.5         0.5\n",
      "  0.5         0.5         0.5         0.5         0.5         0.5\n",
      "  0.5         0.5         0.5         0.5         0.5         0.5\n",
      "  0.5         0.5         0.5         0.5         0.5         0.5\n",
      "  0.5         0.5         0.5         0.5         0.5         0.5\n",
      "  0.5         0.5         0.5         0.5         0.5         0.5\n",
      "  0.5         0.5         0.5         0.5         0.5         0.5\n",
      "  0.5         0.5       ]\n",
      "[ 0.5        -0.30258735 -0.25466056 -0.17692224 -0.03197106  0.28870045\n",
      "  0.5         0.5         0.5         0.5         0.5         0.5\n",
      "  0.5         0.5         0.5         0.5         0.5         0.5\n",
      "  0.5         0.5         0.5         0.5         0.5         0.5\n",
      "  0.5         0.5         0.5         0.5         0.5         0.5\n",
      "  0.5         0.5         0.5         0.5         0.5         0.5\n",
      "  0.5         0.5         0.5         0.5         0.5         0.5\n",
      "  0.5         0.5         0.5         0.5         0.5         0.5\n",
      "  0.5         0.5         0.5         0.5         0.5         0.5\n",
      "  0.5         0.5         0.5         0.5         0.5         0.5\n",
      "  0.5         0.5         0.5         0.5         0.5         0.5\n",
      "  0.5         0.5         0.5         0.5         0.5         0.5\n",
      "  0.5         0.5         0.5         0.5         0.5         0.5\n",
      "  0.5         0.5         0.5         0.5         0.5         0.5\n",
      "  0.5         0.5         0.5         0.5         0.5         0.5\n",
      "  0.5         0.5         0.5         0.5         0.5         0.5\n",
      "  0.5         0.5         0.5         0.5         0.5         0.5\n",
      "  0.5         0.5         0.5         0.5         0.5         0.5\n",
      "  0.5         0.5         0.5         0.5         0.5         0.5\n",
      "  0.5         0.5         0.5         0.5         0.5         0.5\n",
      "  0.5         0.5         0.5         0.5         0.5         0.5\n",
      "  0.5         0.5         0.5         0.5         0.5         0.5\n",
      "  0.5         0.5         0.5         0.5         0.5         0.5\n",
      "  0.5         0.5         0.5         0.5         0.5         0.5\n",
      "  0.5         0.5         0.5         0.5         0.5         0.5\n",
      "  0.5         0.5         0.5         0.5         0.5         0.5\n",
      "  0.5         0.5         0.5         0.5         0.5         0.5\n",
      "  0.5         0.5         0.5         0.5         0.5         0.5\n",
      "  0.5         0.5         0.5         0.5         0.5         0.5\n",
      "  0.5         0.5         0.5         0.5         0.5         0.5\n",
      "  0.5         0.5         0.5         0.5         0.5         0.5\n",
      "  0.5         0.5         0.5         0.5         0.5         0.5\n",
      "  0.5         0.5         0.5         0.5         0.5         0.5\n",
      "  0.5         0.5         0.5       ]\n"
     ]
    },
    {
     "data": {
      "text/plain": [
       "[<matplotlib.lines.Line2D at 0x23a55d93a90>]"
      ]
     },
     "execution_count": 24,
     "metadata": {},
     "output_type": "execute_result"
    },
    {
     "data": {
      "image/png": "[encoded data removed]",
      "text/plain": [
       "<Figure size 640x480 with 1 Axes>"
      ]
     },
     "metadata": {},
     "output_type": "display_data"
    }
   ],
   "source": [
    "import drift_functions as df\n",
    "import numpy as np\n",
    "import matplotlib.pyplot as plt\n",
    "\n",
    "t = np.arange(0, 200, 1)\n",
    "p_outer = -0.5\n",
    "p_inner = -0.5\n",
    "p_target = 0.5\n",
    "r = 0.4\n",
    "sda_initial = 2\n",
    "\n",
    "\n",
    "v_t_list = []\n",
    "sda_list = []\n",
    "\n",
    "\n",
    "v_t = df.attend_drift(\n",
    "    t=t,\n",
    "    p_target=p_target,\n",
    "    p_outer=p_outer,\n",
    "    p_inner=p_inner,\n",
    "    r=r,\n",
    "    sda=sda_initial,\n",
    ")\n",
    "\n",
    "new_vt = np.insert(v_t, 0, 0.5)\n",
    "print(v_t)\n",
    "print(new_vt)\n",
    "plt.plot(v_t)\n",
    "# v_t_list.append(v_t)\n",
    "# sda_list.append(sda_initial)\n",
    "#\n",
    "# v_t_array = np.array(v_t_list)\n",
    "# sda_array = np.array(sda_list)\n",
    "\n",
    "\n",
    "# plt.subplot(2, 1, 1)\n",
    "# plt.plot(t, v_t_array, label='v_t')\n",
    "# plt.xlabel('Time')\n",
    "# plt.ylabel('v_t')\n",
    "# plt.title('v_t over Time')\n",
    "# plt.legend()\n",
    "#\n",
    "#\n",
    "# plt.subplot(2, 1, 2)\n",
    "# plt.plot(t, sda_array, label='sda', color='orange')\n",
    "# plt.xlabel('Time')\n",
    "# plt.ylabel('sda')\n",
    "# plt.title('sda over Time')\n",
    "# plt.legend()\n",
    "#\n",
    "# plt.tight_layout()\n",
    "# plt.show()"
   ]
  },
  {
   "cell_type": "code",
   "execution_count": 22,
   "id": "3e0c95ab5fa07da4",
   "metadata": {
    "ExecuteTime": {
     "end_time": "2024-06-25T18:59:19.049918800Z",
     "start_time": "2024-06-25T18:59:17.584821900Z"
    },
    "collapsed": false
   },
   "outputs": [
    {
     "name": "stdout",
     "output_type": "stream",
     "text": [
      "Boundary Dict: {'boundary_params': {}, 'boundary_fun': <function constant at 0x0000023A399815A0>, 'boundary_multiplicative': True}\n",
      "This is the sim param dict: {'max_t': 20, 's': 0.0, 'n_samples': 1000, 'n_trials': 1, 'delta_t': 0.001, 'random_state': None, 'return_option': 'full', 'smooth': True}\n",
      "These are the ratios [2.5       2.4989998 2.498     ... 0.0125    0.0125    0.0125   ]\n",
      " These are the sdas: [2.     1.9992 1.9984 ... 0.01   0.01   0.01  ]\n",
      "This is a_outer: [0.22662735 0.22653699 0.22644656 ... 0.         0.         0.        ]\n",
      "This is a_inner: [0.17466632 0.174718   0.17476973 ... 0.         0.         0.        ]\n",
      "This is a_target: [0.19741265 0.19749002 0.19756743 ... 1.         1.         1.        ]\n",
      "ddm_flex_no_v\n"
     ]
    }
   ],
   "source": [
    "import ssms\n",
    "import numpy as np\n",
    "\n",
    "from ssms.basic_simulators import simulator\n",
    "\n",
    "sim_out2 = simulator.simulator(\n",
    "    model=\"shrink_spot\",\n",
    "    theta=[1.0, 0.5, 0.25, 0.5, -0.5, -0.5, 0.8, 2],\n",
    "    # [0, 0.19, 0.5, 0.45, -0.55, -0.55, 0.55, 0.026, 2.6,1]\n",
    "    n_samples=1000,\n",
    "    no_noise=True,\n",
    ")\n",
    "print(sim_out2[\"metadata\"][\"simulator\"])"
   ]
  },
  {
   "cell_type": "code",
   "execution_count": null,
   "id": "31ee0107",
   "metadata": {},
   "outputs": [],
   "source": [
    "help(simulator.simulator)"
   ]
  },
  {
   "cell_type": "code",
   "execution_count": 23,
   "id": "f4c278320d5e0de0",
   "metadata": {
    "ExecuteTime": {
     "end_time": "2024-06-25T18:59:24.121344500Z",
     "start_time": "2024-06-25T18:59:23.874954800Z"
    },
    "collapsed": false
   },
   "outputs": [
    {
     "data": {
      "text/plain": [
       "<matplotlib.legend.Legend at 0x23a569f4040>"
      ]
     },
     "execution_count": 23,
     "metadata": {},
     "output_type": "execute_result"
    },
    {
     "data": {
      "image/png": "[encoded data removed]",
      "text/plain": [
       "<Figure size 640x480 with 1 Axes>"
      ]
     },
     "metadata": {},
     "output_type": "display_data"
    }
   ],
   "source": [
    "import matplotlib.pyplot as plt\n",
    "\n",
    "filt_value = [\n",
    "    value for value in sim_out2[\"metadata\"][\"trajectory\"] if -1 < value[0] < 1\n",
    "]  # save it in a list\n",
    "# plt.plot(v_t)\n",
    "plt.plot(filt_value, color=\"red\", label=\"Particle\")\n",
    "plt.title(\"Simulation of incongruent Shrinking Spotlight\")\n",
    "plt.xlabel(\"Time\")\n",
    "plt.ylabel(\"Decision value\")\n",
    "plt.axhline(y=1, label=\"choice up\", color=\"black\", linestyle=\"--\")\n",
    "plt.axhline(y=-1, label=\"choice down\", color=\"black\", linestyle=\"--\")\n",
    "plt.axhline(y=0, color=\"black\")\n",
    "plt.axvline(x=0.5, label=\"non-decision time\", color=\"black\", linestyle=\"-\")\n",
    "plt.tight_layout()\n",
    "plt.legend()"
   ]
  },
  {
   "cell_type": "code",
   "execution_count": null,
   "id": "2a42d6b0e7ee3b9c",
   "metadata": {
    "ExecuteTime": {
     "end_time": "2024-06-25T18:14:15.153668800Z",
     "start_time": "2024-06-25T18:14:15.017744500Z"
    },
    "collapsed": false
   },
   "outputs": [],
   "source": [
    "from ssms.basic_simulators import simulator\n",
    "\n",
    "sim_out2 = simulator.simulator(\n",
    "    model=\"shrink_spot\",\n",
    "    theta={\"v\": 0, \"a\": 1, \"z\": 0.5, \"t\": 0.5},\n",
    "    n_samples=1000,\n",
    "    no_noise=False,\n",
    ")\n",
    "\n",
    "print(np.mean(sim_out2[\"rts\"]))"
   ]
  },
  {
   "cell_type": "code",
   "execution_count": null,
   "id": "54cf007b0e94ec41",
   "metadata": {
    "ExecuteTime": {
     "end_time": "2024-06-26T17:00:43.974307700Z",
     "start_time": "2024-06-26T17:00:41.602770800Z"
    },
    "collapsed": false
   },
   "outputs": [],
   "source": [
    "import ssms\n",
    "\n",
    "list(ssms.config.model_config.keys())[:]"
   ]
  },
  {
   "cell_type": "code",
   "execution_count": null,
   "id": "cfc3edf7",
   "metadata": {},
   "outputs": [],
   "source": []
  },
  {
   "cell_type": "code",
   "execution_count": null,
   "id": "727b90a45a85a0d2",
   "metadata": {
    "collapsed": false
   },
   "outputs": [],
   "source": [
    "import drift_functions as df\n",
    "import numpy as np\n",
    "import matplotlib.pyplot as plt\n",
    "\n",
    "\n",
    "gamma_drift = df.gamma_drift(t=np.arange(0, 10, 0.001), shape=2, scale=0.01, c=1.5)\n",
    "plt.plot(gamma_drift)"
   ]
  }
 ],
 "metadata": {
  "kernelspec": {
   "display_name": "ssms",
   "language": "python",
   "name": "python3"
  },
  "language_info": {
   "codemirror_mode": {
    "name": "ipython",
    "version": 3
   },
   "file_extension": ".py",
   "mimetype": "text/x-python",
   "name": "python",
   "nbconvert_exporter": "python",
   "pygments_lexer": "ipython3",
   "version": "3.10.14"
  }
 },
 "nbformat": 4,
 "nbformat_minor": 5
}
